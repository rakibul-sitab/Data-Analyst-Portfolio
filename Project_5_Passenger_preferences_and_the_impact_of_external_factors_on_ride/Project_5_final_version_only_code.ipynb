{
 "cells": [
  {
   "cell_type": "markdown",
   "metadata": {},
   "source": [
    "\n",
    "    \n",
    "## Project description:\n",
    "    \n",
    "We're working as an analyst for Zuber, a new ride-sharing company that's launching in Chicago. Our task is to find patterns in the available information. We want to understand passenger preferences and the impact of external factors on rides.\n",
    "We'll study a database, analyze data from competitors, and test a hypothesis about the impact of weather on ride frequency.\n",
    "\n",
    "### Data description:\n",
    "A database with info on taxi rides in Chicago:\n",
    "    \n",
    "**neighborhoods table: data on city neighborhoods**\n",
    "* name: name of the neighborhood\n",
    "* neighborhood_id: neighborhood code\n",
    "  \n",
    "**cabs table: data on taxis**\n",
    "* cab_id: vehicle code\n",
    "* vehicle_id: the vehicle's technical ID\n",
    "* company_name: the company that owns the vehicle\n",
    "    \n",
    "**trips table: data on rides**\n",
    "* trip_id: ride code\n",
    "* cab_id: code of the vehicle operating the ride\n",
    "* start_ts: date and time of the beginning of the ride (time rounded to the hour)\n",
    "* end_ts: date and time of the end of the ride (time rounded to the hour)\n",
    "* duration_seconds: ride duration in seconds\n",
    "* distance_miles: ride distance in miles\n",
    "* pickup_location_id: pickup neighborhood code\n",
    "* dropoff_location_id: dropoff neighborhood code\n",
    "    \n",
    "**weather_records table: data on weather**\n",
    "* record_id: weather record code\n",
    "* ts: record date and time (time rounded to the hour)\n",
    "* temperature: temperature when the record was taken\n",
    "* description: brief description of weather conditions, e.g. \"light rain\" or \"scattered clouds\"\n",
    "    \n",
    "    \n",
    "    \n",
    "**Project purpose:**\n",
    "Our ultimate purpose is to study a database, analyze data from competitors, and test a hypothesis about the impact of weather on ride frequency.\n",
    "    \n",
    "### Instructions on completing the project(SQL Part)\n",
    "    \n",
    "#### Step 1. Write a code to parse the data on weather in Chicago in November 2017 from the website:\n",
    "https://code.s3.yandex.net/data-analyst-eng/chicago_weather_2017.html\n",
    "    \n",
    "#### Step 2. Exploratory data analysis\n",
    "    \n",
    "1. Find the number of taxi rides for each taxi company for November 15-16, 2017. Name the resulting field trips_amount and print it along with the company_name field. Sort the results by the trips_amount field in descending order.\n",
    "1.  Find the number of rides for every taxi company whose name contains the words \"Yellow\" or \"Blue\" for November 1-7, 2017. Name the resulting variable trips_amount. Group the results by the company_name field.\n",
    "1. In November 2017, the most popular taxi companies were Flash Cab and Taxi Affiliation Services. Find the number of rides for these two companies and name the resulting variable trips_amount. Join the rides for all other companies in the group \"Other.\" Group the data by taxi company names. Name the field with taxi company names company. Sort the result in descending order by trips_amount.\n",
    "    \n",
    "#### Step 3. Test the hypothesis that the duration of rides from the the Loop to O'Hare International Airport changes on rainy Saturdays.\n",
    "    \n",
    "1. Retrieve the identifiers of the O'Hare and Loop neighborhoods from the neighborhoods table.\n",
    "1. For each hour, retrieve the weather condition records from the weather_records table. Using the CASE operator, break all hours into two groups: \"Bad\" if the description field contains the words '\"rain\" or \"storm,\" and \"Good\" for others. Name the resulting field weather_conditions. The final table must include two fields: date and hour (ts) and weather_conditions.\n",
    "1. For each hour, retrieve the weather condition records from the weather_records table. Using the CASE operator, break all hours into two groups: \"Bad\" if the description field contains the words \"rain\" or \"storm,\" and \"Good\" for others. Name the resulting field weather_conditions. The final table must include two fields: date and hour (ts) and weather_conditions.\n",
    "\n",
    "The table columns should be in the following order:\n",
    "* start_ts\n",
    "* weather_conditions\n",
    "* duration_seconds\n",
    "    \n",
    "#### Step 4. Exploratory data analysis (Python part)\n",
    "    \n",
    "In addition to the data you retrieved in the previous tasks, we've been given a second file. You now have these two CSVs:\n",
    "project_sql_result_01.csv. It contains the following data:\n",
    "* company_name: taxi company name\n",
    "* trips_amount: the number of rides for each taxi company on November 15-16, 2017.\n",
    "    \n",
    "project_sql_result_04.csv. It contains the following data:\n",
    "* dropoff_location_name: Chicago neighborhoods where rides ended\n",
    "* average_trips: the average number of rides that ended in each neighborhood in November 2017.\n",
    "    \n",
    "For these two datasets we now need to\n",
    "1. import the files\n",
    "1. study the data they contain\n",
    "1. make sure the data types are correct\n",
    "1. identify the top 10 neighborhoods in terms of drop-offs\n",
    "1. make graphs: taxi companies and number of rides, top 10 neighborhoods by number of dropoffs\n",
    "1. draw conclusions based on each graph and explain the results\n",
    "    \n",
    "#### Step 5. Testing hypotheses (Python)\n",
    "project_sql_result_07.csv — the result of the last query. It contains data on rides from the Loop to O'Hare International Airport. Remember, these are the table's field values:\n",
    "* start_ts : pickup date and time\n",
    "* weather_conditions : weather conditions at the moment the ride started\n",
    "* duration_seconds :  ride duration in seconds\n",
    "    \n",
    "#### Test the hypothesis:\n",
    "\"The average duration of rides from Loop neighborhood to O'Hare International Airport changes on rainy Saturdays.\"\n",
    "\n",
    "Set the significance level (alpha) value independently.\n",
    "Explain:\n",
    "1. How we formed the null and alternative hypotheses?\n",
    "1. what criterion we used to test the hypotheses and why?\n"
   ]
  },
  {
   "cell_type": "markdown",
   "metadata": {},
   "source": [
    "\n",
    "    \n",
    "## Step 1. Write a code to parse the data on weather in Chicago in November 2017 from the website:\n",
    "https://code.s3.yandex.net/data-analyst-eng/chicago_weather_2017.html"
   ]
  },
  {
   "cell_type": "markdown",
   "metadata": {},
   "source": [
    "“[parsing code](https://drive.google.com/file/d/1Q18Wjx9XkS0YfWmbMiFDxdU80ucPYZlr/view?usp=sharing)”\n",
    "“[parsing result](https://drive.google.com/file/d/1chv6PQ5Igx_wyfj2bbspWu8kHWsuv6wg/view?usp=sharing)”\n",
    "\n",
    "<img title=\"a title\" alt=\"Alt text\" src=\"task1_code.png\">\n",
    "<img title=\"a title\" alt=\"Alt text\" src=\"task1_result.png\">"
   ]
  },
  {
   "cell_type": "markdown",
   "metadata": {},
   "source": [
    "\n",
    "    \n",
    "## Step 2. Exploratory data analysis(SQL Part)"
   ]
  },
  {
   "cell_type": "markdown",
   "metadata": {},
   "source": [
    "### Task1:\n",
    "\n",
    "“[parsing code](https://drive.google.com/file/d/1BcANtT9if84gfDho8DibF5Of4IYuJ3kZ/view?usp=sharing)”\n",
    "“[parsing result](https://drive.google.com/file/d/1oqjG1MYecPmRSprT3vVnkEnLTycjTI4B/view?usp=sharing)”\n",
    "\n",
    "<img title=\"a title\" alt=\"Alt text\" src=\"task2_code.png\">\n",
    "<img title=\"a title\" alt=\"Alt text\" src=\"task2_result.png\">"
   ]
  },
  {
   "cell_type": "markdown",
   "metadata": {},
   "source": [
    "#### Task 2:\n",
    "\n",
    "“[parsing code](https://drive.google.com/file/d/1SVZYfvEkdyG7yP2sSJt1GZFqi729tg9S/view?usp=sharing)”\n",
    "“[parsing result](https://drive.google.com/file/d/16d37iCAP0bcn9RXQ0VUjs2JU_UAdXbm4/view?usp=sharing)”\n",
    "\n",
    "<img title=\"a title\" alt=\"Alt text\" src=\"task3_code.png\">\n",
    "<img title=\"a title\" alt=\"Alt text\" src=\"task3_result.png\">"
   ]
  },
  {
   "cell_type": "markdown",
   "metadata": {},
   "source": [
    "#### Task 3:\n",
    "\n",
    "“[parsing code](https://drive.google.com/file/d/1Q2iP3nxl2L-_neoFN5PkDC_PwIsiLs6s/view?usp=sharing)”\n",
    "“[parsing result](https://drive.google.com/file/d/1xEWGBGokrgX2EJsFGr1cYnxbloSjz4HM/view?usp=sharing)”\n",
    "\n",
    "<img title=\"a title\" alt=\"Alt text\" src=\"task4_code.png\">\n",
    "<img title=\"a title\" alt=\"Alt text\" src=\"task4_result.png\">"
   ]
  },
  {
   "cell_type": "markdown",
   "metadata": {},
   "source": [
    "\n",
    "    \n",
    "## Step 3. Test the hypothesis that the duration of rides from the the Loop to O'Hare International Airport changes on rainy Saturdays."
   ]
  },
  {
   "cell_type": "markdown",
   "metadata": {},
   "source": [
    "#### Task 1:\n",
    "\n",
    "“[parsing code](https://drive.google.com/file/d/1Jn8IgwHI1OExtGZ1xTqOi-2x_-wkru65/view?usp=sharing)”\n",
    "“[parsing result](https://drive.google.com/file/d/1hy9ndX_4LCBYwiZLmaVFIyWyoZbYCEeX/view?usp=sharing)”\n",
    "\n",
    "<img title=\"a title\" alt=\"Alt text\" src=\"task5_code.png\">\n",
    "<img title=\"a title\" alt=\"Alt text\" src=\"task5_result.png\">"
   ]
  },
  {
   "cell_type": "markdown",
   "metadata": {},
   "source": [
    "#### Task 2:\n",
    "\n",
    "“[parsing code](https://drive.google.com/file/d/10JuJJGeNX1NW19k_UnPhPbbVZluNnBER/view?usp=sharing)”\n",
    "“[parsing result](https://drive.google.com/file/d/1sFNv6LlWBXPG6vf6FCi8SnOiOB3qdPtO/view?usp=sharing)”\n",
    "\n",
    "<img title=\"a title\" alt=\"Alt text\" src=\"task6_code.png\">\n",
    "<img title=\"a title\" alt=\"Alt text\" src=\"task6_result.png\">"
   ]
  },
  {
   "cell_type": "markdown",
   "metadata": {},
   "source": [
    "#### Task 3:\n",
    "\n",
    "“[parsing code](https://drive.google.com/file/d/1p1-xhnWVBSYR8QgmrJGpQwSzhwTtUEsa/view?usp=sharing)”\n",
    "“[parsing result](https://drive.google.com/file/d/1KCE_s9no02Q-NHyherulYGvIG6h4vCQe/view?usp=sharing)”\n",
    "\n",
    "<img title=\"a title\" alt=\"Alt text\" src=\"task7_code.png\">\n",
    "<img title=\"a title\" alt=\"Alt text\" src=\"task7_result.png\">"
   ]
  },
  {
   "cell_type": "markdown",
   "metadata": {},
   "source": [
    "\n",
    "## Step 4. Exploratory data analysis (Python)"
   ]
  },
  {
   "cell_type": "code",
   "execution_count": 1,
   "metadata": {},
   "outputs": [],
   "source": [
    "import pandas as pd\n",
    "import numpy as np\n",
    "import seaborn as sns\n",
    "import matplotlib.pyplot as plt\n",
    "import seaborn as sns\n",
    "from functools import reduce\n",
    "from scipy import stats as st\n",
    "import plotly.express as px\n",
    "import plotly.graph_objects as go\n",
    "import missingno as msno"
   ]
  },
  {
   "cell_type": "code",
   "execution_count": 2,
   "metadata": {},
   "outputs": [
    {
     "data": {
      "text/html": [
       "<div>\n",
       "<style scoped>\n",
       "    .dataframe tbody tr th:only-of-type {\n",
       "        vertical-align: middle;\n",
       "    }\n",
       "\n",
       "    .dataframe tbody tr th {\n",
       "        vertical-align: top;\n",
       "    }\n",
       "\n",
       "    .dataframe thead th {\n",
       "        text-align: right;\n",
       "    }\n",
       "</style>\n",
       "<table border=\"1\" class=\"dataframe\">\n",
       "  <thead>\n",
       "    <tr style=\"text-align: right;\">\n",
       "      <th></th>\n",
       "      <th>company_name</th>\n",
       "      <th>trips_amount</th>\n",
       "    </tr>\n",
       "  </thead>\n",
       "  <tbody>\n",
       "    <tr>\n",
       "      <th>0</th>\n",
       "      <td>Flash Cab</td>\n",
       "      <td>19558</td>\n",
       "    </tr>\n",
       "    <tr>\n",
       "      <th>1</th>\n",
       "      <td>Taxi Affiliation Services</td>\n",
       "      <td>11422</td>\n",
       "    </tr>\n",
       "    <tr>\n",
       "      <th>2</th>\n",
       "      <td>Medallion Leasin</td>\n",
       "      <td>10367</td>\n",
       "    </tr>\n",
       "    <tr>\n",
       "      <th>3</th>\n",
       "      <td>Yellow Cab</td>\n",
       "      <td>9888</td>\n",
       "    </tr>\n",
       "    <tr>\n",
       "      <th>4</th>\n",
       "      <td>Taxi Affiliation Service Yellow</td>\n",
       "      <td>9299</td>\n",
       "    </tr>\n",
       "  </tbody>\n",
       "</table>\n",
       "</div>"
      ],
      "text/plain": [
       "                      company_name  trips_amount\n",
       "0                        Flash Cab         19558\n",
       "1        Taxi Affiliation Services         11422\n",
       "2                 Medallion Leasin         10367\n",
       "3                       Yellow Cab          9888\n",
       "4  Taxi Affiliation Service Yellow          9299"
      ]
     },
     "metadata": {},
     "output_type": "display_data"
    },
    {
     "name": "stdout",
     "output_type": "stream",
     "text": [
      "<class 'pandas.core.frame.DataFrame'>\n",
      "RangeIndex: 64 entries, 0 to 63\n",
      "Data columns (total 2 columns):\n",
      " #   Column        Non-Null Count  Dtype \n",
      "---  ------        --------------  ----- \n",
      " 0   company_name  64 non-null     object\n",
      " 1   trips_amount  64 non-null     int64 \n",
      "dtypes: int64(1), object(1)\n",
      "memory usage: 1.1+ KB\n"
     ]
    },
    {
     "data": {
      "text/plain": [
       "None"
      ]
     },
     "metadata": {},
     "output_type": "display_data"
    },
    {
     "data": {
      "text/plain": [
       "company_name    0\n",
       "trips_amount    0\n",
       "dtype: int64"
      ]
     },
     "metadata": {},
     "output_type": "display_data"
    },
    {
     "data": {
      "text/html": [
       "<div>\n",
       "<style scoped>\n",
       "    .dataframe tbody tr th:only-of-type {\n",
       "        vertical-align: middle;\n",
       "    }\n",
       "\n",
       "    .dataframe tbody tr th {\n",
       "        vertical-align: top;\n",
       "    }\n",
       "\n",
       "    .dataframe thead th {\n",
       "        text-align: right;\n",
       "    }\n",
       "</style>\n",
       "<table border=\"1\" class=\"dataframe\">\n",
       "  <thead>\n",
       "    <tr style=\"text-align: right;\">\n",
       "      <th></th>\n",
       "      <th>dropoff_location_name</th>\n",
       "      <th>average_trips</th>\n",
       "    </tr>\n",
       "  </thead>\n",
       "  <tbody>\n",
       "    <tr>\n",
       "      <th>0</th>\n",
       "      <td>Loop</td>\n",
       "      <td>10727.466667</td>\n",
       "    </tr>\n",
       "    <tr>\n",
       "      <th>1</th>\n",
       "      <td>River North</td>\n",
       "      <td>9523.666667</td>\n",
       "    </tr>\n",
       "    <tr>\n",
       "      <th>2</th>\n",
       "      <td>Streeterville</td>\n",
       "      <td>6664.666667</td>\n",
       "    </tr>\n",
       "    <tr>\n",
       "      <th>3</th>\n",
       "      <td>West Loop</td>\n",
       "      <td>5163.666667</td>\n",
       "    </tr>\n",
       "    <tr>\n",
       "      <th>4</th>\n",
       "      <td>O'Hare</td>\n",
       "      <td>2546.900000</td>\n",
       "    </tr>\n",
       "  </tbody>\n",
       "</table>\n",
       "</div>"
      ],
      "text/plain": [
       "  dropoff_location_name  average_trips\n",
       "0                  Loop   10727.466667\n",
       "1           River North    9523.666667\n",
       "2         Streeterville    6664.666667\n",
       "3             West Loop    5163.666667\n",
       "4                O'Hare    2546.900000"
      ]
     },
     "metadata": {},
     "output_type": "display_data"
    },
    {
     "name": "stdout",
     "output_type": "stream",
     "text": [
      "<class 'pandas.core.frame.DataFrame'>\n",
      "RangeIndex: 94 entries, 0 to 93\n",
      "Data columns (total 2 columns):\n",
      " #   Column                 Non-Null Count  Dtype  \n",
      "---  ------                 --------------  -----  \n",
      " 0   dropoff_location_name  94 non-null     object \n",
      " 1   average_trips          94 non-null     float64\n",
      "dtypes: float64(1), object(1)\n",
      "memory usage: 1.6+ KB\n"
     ]
    },
    {
     "data": {
      "text/plain": [
       "None"
      ]
     },
     "metadata": {},
     "output_type": "display_data"
    },
    {
     "data": {
      "text/plain": [
       "dropoff_location_name    0\n",
       "average_trips            0\n",
       "dtype: int64"
      ]
     },
     "metadata": {},
     "output_type": "display_data"
    },
    {
     "data": {
      "text/html": [
       "<div>\n",
       "<style scoped>\n",
       "    .dataframe tbody tr th:only-of-type {\n",
       "        vertical-align: middle;\n",
       "    }\n",
       "\n",
       "    .dataframe tbody tr th {\n",
       "        vertical-align: top;\n",
       "    }\n",
       "\n",
       "    .dataframe thead th {\n",
       "        text-align: right;\n",
       "    }\n",
       "</style>\n",
       "<table border=\"1\" class=\"dataframe\">\n",
       "  <thead>\n",
       "    <tr style=\"text-align: right;\">\n",
       "      <th></th>\n",
       "      <th>start_ts</th>\n",
       "      <th>weather_conditions</th>\n",
       "      <th>duration_seconds</th>\n",
       "    </tr>\n",
       "  </thead>\n",
       "  <tbody>\n",
       "    <tr>\n",
       "      <th>0</th>\n",
       "      <td>2017-11-25 16:00:00</td>\n",
       "      <td>Good</td>\n",
       "      <td>2410.0</td>\n",
       "    </tr>\n",
       "    <tr>\n",
       "      <th>1</th>\n",
       "      <td>2017-11-25 14:00:00</td>\n",
       "      <td>Good</td>\n",
       "      <td>1920.0</td>\n",
       "    </tr>\n",
       "    <tr>\n",
       "      <th>2</th>\n",
       "      <td>2017-11-25 12:00:00</td>\n",
       "      <td>Good</td>\n",
       "      <td>1543.0</td>\n",
       "    </tr>\n",
       "    <tr>\n",
       "      <th>3</th>\n",
       "      <td>2017-11-04 10:00:00</td>\n",
       "      <td>Good</td>\n",
       "      <td>2512.0</td>\n",
       "    </tr>\n",
       "    <tr>\n",
       "      <th>4</th>\n",
       "      <td>2017-11-11 07:00:00</td>\n",
       "      <td>Good</td>\n",
       "      <td>1440.0</td>\n",
       "    </tr>\n",
       "  </tbody>\n",
       "</table>\n",
       "</div>"
      ],
      "text/plain": [
       "              start_ts weather_conditions  duration_seconds\n",
       "0  2017-11-25 16:00:00               Good            2410.0\n",
       "1  2017-11-25 14:00:00               Good            1920.0\n",
       "2  2017-11-25 12:00:00               Good            1543.0\n",
       "3  2017-11-04 10:00:00               Good            2512.0\n",
       "4  2017-11-11 07:00:00               Good            1440.0"
      ]
     },
     "metadata": {},
     "output_type": "display_data"
    },
    {
     "name": "stdout",
     "output_type": "stream",
     "text": [
      "<class 'pandas.core.frame.DataFrame'>\n",
      "RangeIndex: 1068 entries, 0 to 1067\n",
      "Data columns (total 3 columns):\n",
      " #   Column              Non-Null Count  Dtype  \n",
      "---  ------              --------------  -----  \n",
      " 0   start_ts            1068 non-null   object \n",
      " 1   weather_conditions  1068 non-null   object \n",
      " 2   duration_seconds    1068 non-null   float64\n",
      "dtypes: float64(1), object(2)\n",
      "memory usage: 25.2+ KB\n"
     ]
    },
    {
     "data": {
      "text/plain": [
       "None"
      ]
     },
     "metadata": {},
     "output_type": "display_data"
    },
    {
     "data": {
      "text/plain": [
       "start_ts              0\n",
       "weather_conditions    0\n",
       "duration_seconds      0\n",
       "dtype: int64"
      ]
     },
     "metadata": {},
     "output_type": "display_data"
    },
    {
     "name": "stdout",
     "output_type": "stream",
     "text": [
      "duplicate rows: 0\n",
      "duplicate rows: 0\n",
      "duplicate rows: 197\n",
      "duplicate rows: 0\n",
      "<class 'pandas.core.frame.DataFrame'>\n",
      "Int64Index: 871 entries, 0 to 1067\n",
      "Data columns (total 3 columns):\n",
      " #   Column              Non-Null Count  Dtype  \n",
      "---  ------              --------------  -----  \n",
      " 0   start_ts            871 non-null    object \n",
      " 1   weather_conditions  871 non-null    object \n",
      " 2   duration_seconds    871 non-null    float64\n",
      "dtypes: float64(1), object(2)\n",
      "memory usage: 27.2+ KB\n"
     ]
    },
    {
     "data": {
      "text/plain": [
       "None"
      ]
     },
     "metadata": {},
     "output_type": "display_data"
    },
    {
     "data": {
      "text/plain": [
       "start_ts              0\n",
       "weather_conditions    0\n",
       "duration_seconds      0\n",
       "dtype: int64"
      ]
     },
     "metadata": {},
     "output_type": "display_data"
    }
   ],
   "source": [
    "LOCAL_PATH_1 = 'project_sql_result_01.csv'\n",
    "PLATFORM_PATH_1 = '/datasets/project_sql_result_01.csv'\n",
    "\n",
    "LOCAL_PATH_2 = 'project_sql_result_04.csv'\n",
    "PLATFORM_PATH_2 = '/datasets/project_sql_result_04.csv'\n",
    "\n",
    "LOCAL_PATH_3 = 'project_sql_result_07.csv'\n",
    "PLATFORM_PATH_3 = '/datasets/project_sql_result_07.csv'\n",
    "\n",
    "\n",
    "    \n",
    "try:\n",
    "    trips_df = pd.read_csv(LOCAL_PATH_1)\n",
    "except:\n",
    "    trips_df = pd.read_csv(PLATFORM_PATH_1)\n",
    "#-------------------------------------------------    \n",
    "try:\n",
    "    neighborhoods_df = pd.read_csv(LOCAL_PATH_2)\n",
    "except:\n",
    "    neighborhoods_df = pd.read_csv(PLATFORM_PATH_2)\n",
    "#-----------------------------------------------------\n",
    "try:\n",
    "    loop_df = pd.read_csv(LOCAL_PATH_3)\n",
    "except:\n",
    "    loop_df = pd.read_csv(PLATFORM_PATH_3)\n",
    "\n",
    "#-----------------------------------------------------\n",
    "display(trips_df.head())\n",
    "display(trips_df.info())\n",
    "display(trips_df.isnull().sum())\n",
    "#-----------------------------------\n",
    "display(neighborhoods_df.head())\n",
    "display(neighborhoods_df.info())\n",
    "display(neighborhoods_df.isnull().sum())\n",
    "#--------------------------------------------\n",
    "display(loop_df.head())\n",
    "display(loop_df.info())\n",
    "display(loop_df.isnull().sum())\n",
    "\n",
    "#checking duplicates in dataframe\n",
    "print('duplicate rows:',trips_df.duplicated().sum())\n",
    "#---------------------------------------------------\n",
    "print('duplicate rows:',neighborhoods_df.duplicated().sum())\n",
    "#-------------------------------------------------------------\n",
    "print('duplicate rows:',loop_df.duplicated().sum())\n",
    "#----------------------------------------------------\n",
    "#drop duplicates value\n",
    "loop_df=loop_df.drop_duplicates(subset=[\"start_ts\",\"weather_conditions\",\"duration_seconds\"])\n",
    "print('duplicate rows:',loop_df.duplicated().sum())\n",
    "display(loop_df.info())\n",
    "display(loop_df.isnull().sum())"
   ]
  },
  {
   "cell_type": "markdown",
   "metadata": {},
   "source": [
    "\n",
    "\n",
    "* Conclusion:\n",
    "    \n",
    "In the beginning, the datasets have been opened and the general information have been analyzed .There have three dataframe trips_df,neighborhoods_df and loop_df. The trips_df data set has 64 rows and 2 columns, The neighborhoods_df data set has 94 rows and 2 columns and The loop_df data set has 1068 rows and 3 columns. There have no missing values observed.Duplicated rows were observed only in the loop_df and it has been removed.All The data types are correct."
   ]
  },
  {
   "cell_type": "code",
   "execution_count": 3,
   "metadata": {},
   "outputs": [
    {
     "data": {
      "text/html": [
       "<div>\n",
       "<style scoped>\n",
       "    .dataframe tbody tr th:only-of-type {\n",
       "        vertical-align: middle;\n",
       "    }\n",
       "\n",
       "    .dataframe tbody tr th {\n",
       "        vertical-align: top;\n",
       "    }\n",
       "\n",
       "    .dataframe thead th {\n",
       "        text-align: right;\n",
       "    }\n",
       "</style>\n",
       "<table border=\"1\" class=\"dataframe\">\n",
       "  <thead>\n",
       "    <tr style=\"text-align: right;\">\n",
       "      <th></th>\n",
       "      <th>company_name</th>\n",
       "      <th>number_of_rides</th>\n",
       "    </tr>\n",
       "  </thead>\n",
       "  <tbody>\n",
       "    <tr>\n",
       "      <th>0</th>\n",
       "      <td>Flash Cab</td>\n",
       "      <td>19558</td>\n",
       "    </tr>\n",
       "    <tr>\n",
       "      <th>1</th>\n",
       "      <td>Taxi Affiliation Services</td>\n",
       "      <td>11422</td>\n",
       "    </tr>\n",
       "    <tr>\n",
       "      <th>2</th>\n",
       "      <td>Medallion Leasin</td>\n",
       "      <td>10367</td>\n",
       "    </tr>\n",
       "    <tr>\n",
       "      <th>3</th>\n",
       "      <td>Yellow Cab</td>\n",
       "      <td>9888</td>\n",
       "    </tr>\n",
       "    <tr>\n",
       "      <th>4</th>\n",
       "      <td>Taxi Affiliation Service Yellow</td>\n",
       "      <td>9299</td>\n",
       "    </tr>\n",
       "  </tbody>\n",
       "</table>\n",
       "</div>"
      ],
      "text/plain": [
       "                      company_name  number_of_rides\n",
       "0                        Flash Cab            19558\n",
       "1        Taxi Affiliation Services            11422\n",
       "2                 Medallion Leasin            10367\n",
       "3                       Yellow Cab             9888\n",
       "4  Taxi Affiliation Service Yellow             9299"
      ]
     },
     "metadata": {},
     "output_type": "display_data"
    },
    {
     "data": {
      "text/html": [
       "<div>\n",
       "<style scoped>\n",
       "    .dataframe tbody tr th:only-of-type {\n",
       "        vertical-align: middle;\n",
       "    }\n",
       "\n",
       "    .dataframe tbody tr th {\n",
       "        vertical-align: top;\n",
       "    }\n",
       "\n",
       "    .dataframe thead th {\n",
       "        text-align: right;\n",
       "    }\n",
       "</style>\n",
       "<table border=\"1\" class=\"dataframe\">\n",
       "  <thead>\n",
       "    <tr style=\"text-align: right;\">\n",
       "      <th></th>\n",
       "      <th>dropoff_location_name</th>\n",
       "      <th>average_number_of_rides</th>\n",
       "    </tr>\n",
       "  </thead>\n",
       "  <tbody>\n",
       "    <tr>\n",
       "      <th>0</th>\n",
       "      <td>Loop</td>\n",
       "      <td>10727.466667</td>\n",
       "    </tr>\n",
       "    <tr>\n",
       "      <th>1</th>\n",
       "      <td>River North</td>\n",
       "      <td>9523.666667</td>\n",
       "    </tr>\n",
       "    <tr>\n",
       "      <th>2</th>\n",
       "      <td>Streeterville</td>\n",
       "      <td>6664.666667</td>\n",
       "    </tr>\n",
       "    <tr>\n",
       "      <th>3</th>\n",
       "      <td>West Loop</td>\n",
       "      <td>5163.666667</td>\n",
       "    </tr>\n",
       "    <tr>\n",
       "      <th>4</th>\n",
       "      <td>O'Hare</td>\n",
       "      <td>2546.900000</td>\n",
       "    </tr>\n",
       "  </tbody>\n",
       "</table>\n",
       "</div>"
      ],
      "text/plain": [
       "  dropoff_location_name  average_number_of_rides\n",
       "0                  Loop             10727.466667\n",
       "1           River North              9523.666667\n",
       "2         Streeterville              6664.666667\n",
       "3             West Loop              5163.666667\n",
       "4                O'Hare              2546.900000"
      ]
     },
     "metadata": {},
     "output_type": "display_data"
    }
   ],
   "source": [
    "# changing column names\n",
    "trips_df.columns=['company_name','number_of_rides']\n",
    "neighborhoods_df.columns=['dropoff_location_name','average_number_of_rides']\n",
    "display(trips_df.head())\n",
    "display(neighborhoods_df.head())\n"
   ]
  },
  {
   "cell_type": "code",
   "execution_count": 4,
   "metadata": {},
   "outputs": [
    {
     "data": {
      "text/html": [
       "<div>\n",
       "<style scoped>\n",
       "    .dataframe tbody tr th:only-of-type {\n",
       "        vertical-align: middle;\n",
       "    }\n",
       "\n",
       "    .dataframe tbody tr th {\n",
       "        vertical-align: top;\n",
       "    }\n",
       "\n",
       "    .dataframe thead th {\n",
       "        text-align: right;\n",
       "    }\n",
       "</style>\n",
       "<table border=\"1\" class=\"dataframe\">\n",
       "  <thead>\n",
       "    <tr style=\"text-align: right;\">\n",
       "      <th></th>\n",
       "      <th>dropoff_location_name</th>\n",
       "      <th>average_number_of_rides</th>\n",
       "    </tr>\n",
       "  </thead>\n",
       "  <tbody>\n",
       "    <tr>\n",
       "      <th>0</th>\n",
       "      <td>Loop</td>\n",
       "      <td>10727.466667</td>\n",
       "    </tr>\n",
       "    <tr>\n",
       "      <th>1</th>\n",
       "      <td>River North</td>\n",
       "      <td>9523.666667</td>\n",
       "    </tr>\n",
       "    <tr>\n",
       "      <th>2</th>\n",
       "      <td>Streeterville</td>\n",
       "      <td>6664.666667</td>\n",
       "    </tr>\n",
       "    <tr>\n",
       "      <th>3</th>\n",
       "      <td>West Loop</td>\n",
       "      <td>5163.666667</td>\n",
       "    </tr>\n",
       "    <tr>\n",
       "      <th>4</th>\n",
       "      <td>O'Hare</td>\n",
       "      <td>2546.900000</td>\n",
       "    </tr>\n",
       "    <tr>\n",
       "      <th>5</th>\n",
       "      <td>Lake View</td>\n",
       "      <td>2420.966667</td>\n",
       "    </tr>\n",
       "    <tr>\n",
       "      <th>6</th>\n",
       "      <td>Grant Park</td>\n",
       "      <td>2068.533333</td>\n",
       "    </tr>\n",
       "    <tr>\n",
       "      <th>7</th>\n",
       "      <td>Museum Campus</td>\n",
       "      <td>1510.000000</td>\n",
       "    </tr>\n",
       "    <tr>\n",
       "      <th>8</th>\n",
       "      <td>Gold Coast</td>\n",
       "      <td>1364.233333</td>\n",
       "    </tr>\n",
       "    <tr>\n",
       "      <th>9</th>\n",
       "      <td>Sheffield &amp; DePaul</td>\n",
       "      <td>1259.766667</td>\n",
       "    </tr>\n",
       "  </tbody>\n",
       "</table>\n",
       "</div>"
      ],
      "text/plain": [
       "  dropoff_location_name  average_number_of_rides\n",
       "0                  Loop             10727.466667\n",
       "1           River North              9523.666667\n",
       "2         Streeterville              6664.666667\n",
       "3             West Loop              5163.666667\n",
       "4                O'Hare              2546.900000\n",
       "5             Lake View              2420.966667\n",
       "6            Grant Park              2068.533333\n",
       "7         Museum Campus              1510.000000\n",
       "8            Gold Coast              1364.233333\n",
       "9    Sheffield & DePaul              1259.766667"
      ]
     },
     "metadata": {},
     "output_type": "display_data"
    }
   ],
   "source": [
    "#identify the top 10 neighborhoods in terms of drop-offs\n",
    "neighborhoods_df_sort= neighborhoods_df.sort_values(by='average_number_of_rides', ascending=False)\n",
    "display(neighborhoods_df_sort.head(10))"
   ]
  },
  {
   "cell_type": "code",
   "execution_count": 5,
   "metadata": {},
   "outputs": [
    {
     "data": {
      "text/html": [
       "<div>\n",
       "<style scoped>\n",
       "    .dataframe tbody tr th:only-of-type {\n",
       "        vertical-align: middle;\n",
       "    }\n",
       "\n",
       "    .dataframe tbody tr th {\n",
       "        vertical-align: top;\n",
       "    }\n",
       "\n",
       "    .dataframe thead th {\n",
       "        text-align: right;\n",
       "    }\n",
       "</style>\n",
       "<table border=\"1\" class=\"dataframe\">\n",
       "  <thead>\n",
       "    <tr style=\"text-align: right;\">\n",
       "      <th></th>\n",
       "      <th>number_of_rides</th>\n",
       "    </tr>\n",
       "    <tr>\n",
       "      <th>company_name</th>\n",
       "      <th></th>\n",
       "    </tr>\n",
       "  </thead>\n",
       "  <tbody>\n",
       "    <tr>\n",
       "      <th>Flash Cab</th>\n",
       "      <td>19558</td>\n",
       "    </tr>\n",
       "    <tr>\n",
       "      <th>Taxi Affiliation Services</th>\n",
       "      <td>11422</td>\n",
       "    </tr>\n",
       "    <tr>\n",
       "      <th>Medallion Leasin</th>\n",
       "      <td>10367</td>\n",
       "    </tr>\n",
       "    <tr>\n",
       "      <th>Yellow Cab</th>\n",
       "      <td>9888</td>\n",
       "    </tr>\n",
       "    <tr>\n",
       "      <th>Taxi Affiliation Service Yellow</th>\n",
       "      <td>9299</td>\n",
       "    </tr>\n",
       "  </tbody>\n",
       "</table>\n",
       "</div>"
      ],
      "text/plain": [
       "                                 number_of_rides\n",
       "company_name                                    \n",
       "Flash Cab                                  19558\n",
       "Taxi Affiliation Services                  11422\n",
       "Medallion Leasin                           10367\n",
       "Yellow Cab                                  9888\n",
       "Taxi Affiliation Service Yellow             9299"
      ]
     },
     "metadata": {},
     "output_type": "display_data"
    },
    {
     "data": {
      "image/png": "[encoded data removed]",
      "text/plain": [
       "<Figure size 864x576 with 1 Axes>"
      ]
     },
     "metadata": {
      "needs_background": "light"
     },
     "output_type": "display_data"
    }
   ],
   "source": [
    "# Top 10 taxi companies and number of rides\n",
    "trips_df_pivot = trips_df.pivot_table(index = ['company_name'],values = ['number_of_rides'], aggfunc=['sum'])\n",
    "trips_df_pivot.columns=['number_of_rides']\n",
    "trips_df_pivot_sort= trips_df_pivot.sort_values(by='number_of_rides', ascending=False)\n",
    "display(trips_df_pivot_sort.head())\n",
    "trips_df_pivot_sort.head(10).plot(y='number_of_rides', kind='bar', figsize=(12,8))\n",
    "plt.xlabel(\"Company name\")\n",
    "plt.ylabel(\"Number of rides\")\n",
    "plt.title('Number of rides Vs Company name')\n",
    "plt.show()"
   ]
  },
  {
   "cell_type": "markdown",
   "metadata": {},
   "source": [
    "\n",
    "\n",
    "* Conclusion:\n",
    "\n",
    "Top 10 taxi companies and number of rides have been observed.The most popular company are Flash cab and Taxi Affiliation Services.Similar rides have been observed by the rest of the company except Flash cab and Taxi Affiliation Services."
   ]
  },
  {
   "cell_type": "code",
   "execution_count": 6,
   "metadata": {},
   "outputs": [
    {
     "data": {
      "text/html": [
       "<div>\n",
       "<style scoped>\n",
       "    .dataframe tbody tr th:only-of-type {\n",
       "        vertical-align: middle;\n",
       "    }\n",
       "\n",
       "    .dataframe tbody tr th {\n",
       "        vertical-align: top;\n",
       "    }\n",
       "\n",
       "    .dataframe thead th {\n",
       "        text-align: right;\n",
       "    }\n",
       "</style>\n",
       "<table border=\"1\" class=\"dataframe\">\n",
       "  <thead>\n",
       "    <tr style=\"text-align: right;\">\n",
       "      <th></th>\n",
       "      <th>average_number_of_rides</th>\n",
       "    </tr>\n",
       "    <tr>\n",
       "      <th>dropoff_location_name</th>\n",
       "      <th></th>\n",
       "    </tr>\n",
       "  </thead>\n",
       "  <tbody>\n",
       "    <tr>\n",
       "      <th>Loop</th>\n",
       "      <td>10727.466667</td>\n",
       "    </tr>\n",
       "    <tr>\n",
       "      <th>River North</th>\n",
       "      <td>9523.666667</td>\n",
       "    </tr>\n",
       "    <tr>\n",
       "      <th>Streeterville</th>\n",
       "      <td>6664.666667</td>\n",
       "    </tr>\n",
       "    <tr>\n",
       "      <th>West Loop</th>\n",
       "      <td>5163.666667</td>\n",
       "    </tr>\n",
       "    <tr>\n",
       "      <th>O'Hare</th>\n",
       "      <td>2546.900000</td>\n",
       "    </tr>\n",
       "  </tbody>\n",
       "</table>\n",
       "</div>"
      ],
      "text/plain": [
       "                       average_number_of_rides\n",
       "dropoff_location_name                         \n",
       "Loop                              10727.466667\n",
       "River North                        9523.666667\n",
       "Streeterville                      6664.666667\n",
       "West Loop                          5163.666667\n",
       "O'Hare                             2546.900000"
      ]
     },
     "metadata": {},
     "output_type": "display_data"
    },
    {
     "data": {
      "image/png": "[encoded data removed]",
      "text/plain": [
       "<Figure size 864x576 with 1 Axes>"
      ]
     },
     "metadata": {
      "needs_background": "light"
     },
     "output_type": "display_data"
    }
   ],
   "source": [
    " #Top 10 neighborhoods by number of dropoffs\n",
    "\n",
    "neighborhoods_df_pivot = neighborhoods_df.pivot_table(index = ['dropoff_location_name'],values = ['average_number_of_rides'], aggfunc=['sum'])\n",
    "neighborhoods_df_pivot.columns=['average_number_of_rides']\n",
    "neighborhoods_df_pivot_sort= neighborhoods_df_pivot.sort_values(by='average_number_of_rides', ascending=False)\n",
    "display(neighborhoods_df_pivot_sort.head())\n",
    "neighborhoods_df_pivot_sort.head(10).plot(y='average_number_of_rides', kind='bar', figsize=(12,8))\n",
    "plt.xlabel(\"Dropoff location name\")\n",
    "plt.ylabel(\"Average number of rides\")\n",
    "plt.title('Average Number of rides Vs Dropoff location name')\n",
    "plt.show()  "
   ]
  },
  {
   "cell_type": "markdown",
   "metadata": {},
   "source": [
    "\n",
    "\n",
    "* Conclusion:\n",
    "\n",
    "Top 10 neighborhoods by number of dropoffs have been observed.Loop and river north is the most popular which have average rides approx. 10000.Most of the neighborhoods dropoff places have rides between 2000 to 4000.\n",
    "\n"
   ]
  },
  {
   "cell_type": "markdown",
   "metadata": {},
   "source": [
    "\n",
    "    \n",
    "## Step 5. Test the following hypothesis"
   ]
  },
  {
   "cell_type": "markdown",
   "metadata": {},
   "source": [
    "\n",
    "**Test 1 : The average duration of rides from the Loop to O'Hare International Airport didn't changes on rainy Saturdays**  "
   ]
  },
  {
   "cell_type": "code",
   "execution_count": 7,
   "metadata": {},
   "outputs": [
    {
     "data": {
      "text/plain": [
       "6     2969.0\n",
       "30    1980.0\n",
       "34    2460.0\n",
       "51    2760.0\n",
       "52    2460.0\n",
       "Name: duration_seconds, dtype: float64"
      ]
     },
     "metadata": {},
     "output_type": "display_data"
    },
    {
     "data": {
      "text/plain": [
       "0    2410.0\n",
       "1    1920.0\n",
       "2    1543.0\n",
       "3    2512.0\n",
       "4    1440.0\n",
       "Name: duration_seconds, dtype: float64"
      ]
     },
     "metadata": {},
     "output_type": "display_data"
    },
    {
     "name": "stdout",
     "output_type": "stream",
     "text": [
      "loop_df_rain_ride_number: 751.5447049004284 \n",
      "loop_df_without_rain_ride_number std: 773.4448597547351\n"
     ]
    }
   ],
   "source": [
    "loop_df_rain=loop_df.query('weather_conditions== \"Bad\"')\n",
    "loop_df_without_rain=loop_df.query('weather_conditions== \"Good\"')\n",
    "loop_df_rain_ride_number=loop_df_rain['duration_seconds']\n",
    "loop_df_without_rain_ride_number=loop_df_without_rain['duration_seconds']\n",
    "display(loop_df_rain_ride_number.head())\n",
    "display(loop_df_without_rain_ride_number.head())\n",
    "print('loop_df_rain_ride_number:', loop_df_rain_ride_number.std(), '\\nloop_df_without_rain_ride_number std:', loop_df_without_rain_ride_number.std())"
   ]
  },
  {
   "cell_type": "markdown",
   "metadata": {},
   "source": [
    "\n",
    "\n",
    "**Testing:**\n",
    "Let's compare the sample means for user score:\n",
    "1. H0  - the sample means have no difference.\n",
    "1. H1  - the sample means are different.\n",
    "1. alpha - 0.05"
   ]
  },
  {
   "cell_type": "code",
   "execution_count": 8,
   "metadata": {},
   "outputs": [
    {
     "name": "stdout",
     "output_type": "stream",
     "text": [
      "p-value: 9.126383933880083e-08\n",
      "We reject the null hypothesis\n"
     ]
    }
   ],
   "source": [
    "alpha = .05   #critical statistical significance level\n",
    "\n",
    "results = st.ttest_ind(\n",
    "        loop_df_rain_ride_number, \n",
    "        loop_df_without_rain_ride_number,equal_var = False) \n",
    "\n",
    "print('p-value:',results.pvalue) \n",
    "\n",
    "if (results.pvalue < alpha):\n",
    "    print(\"We reject the null hypothesis\")\n",
    "else:\n",
    "    print(\"We can't reject the null hypothesis\")"
   ]
  },
  {
   "cell_type": "markdown",
   "metadata": {},
   "source": [
    "\n",
    "\n",
    "* Conclusion:\n",
    "    \n",
    "From our hypothesis, it is clear that the average duration of rides from the Loop to O'Hare International Airport changes on rainy Saturdays."
   ]
  },
  {
   "cell_type": "markdown",
   "metadata": {},
   "source": [
    "\n",
    "\n",
    "* Overall conclusion:\n",
    "    \n",
    " A passenger behavior's pattern for a new ride-sharing company that's launching in Chicago have been analysed through this project.The most popular taxi company are Flash cab and Taxi Affiliation Services.And Loop and river north is the most popular dropoff places which have average rides approx. 10000.The weather condition impact the Zuber company's ride duration.If the weather is rainy or stormy, less number of people go outside and people use less taxi service and their average number of rides duration go down.If the weather is good,  Zuber company's ride duration increases because people go outside more if the weather condition are comfortable."
   ]
  }
 ],
 "metadata": {
  "kernelspec": {
   "display_name": "Python 3",
   "language": "python",
   "name": "python3"
  },
  "language_info": {
   "codemirror_mode": {
    "name": "ipython",
    "version": 3
   },
   "file_extension": ".py",
   "mimetype": "text/x-python",
   "name": "python",
   "nbconvert_exporter": "python",
   "pygments_lexer": "ipython3",
   "version": "3.8.5"
  },
  "toc": {
   "base_numbering": 1,
   "nav_menu": {},
   "number_sections": true,
   "sideBar": true,
   "skip_h1_title": true,
   "title_cell": "Table of Contents",
   "title_sidebar": "Contents",
   "toc_cell": false,
   "toc_position": {},
   "toc_section_display": true,
   "toc_window_display": false
  }
 },
 "nbformat": 4,
 "nbformat_minor": 4
}
