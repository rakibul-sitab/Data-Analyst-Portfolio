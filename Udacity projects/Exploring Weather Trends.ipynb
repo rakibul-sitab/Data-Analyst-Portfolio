{
 "cells": [
  {
   "cell_type": "markdown",
   "metadata": {},
   "source": [
    "## Project description:\n",
    "    \n",
    "In this project, We will analyse local and global temperature data and compare the temperature trends where i live to overall global temperature trends.\n",
    "\n",
    "\n",
    "\n",
    "**Project purpose:**\n",
    "Our goal will be to create a visualization and prepare a write up describing the similarities and differences between global temperature trends and temperature trends in the closest big city to where i live. To do this, we’ll follow the steps below:\n",
    "\n",
    "### Project task:\n",
    "\n",
    "**Extract the data from the database:** \n",
    "\n",
    "There's a workspace that is connected to a database. We’ll need to export the temperature data for the world as well as for the closest big city to where i live. We can find a list of cities and countries in the city_list table. To interact with the database, We'll need to write a SQL query.\n",
    "\n",
    "1. Write a SQL query to extract the city level data. Export to CSV.\n",
    "2. Write a SQL query to extract the global data. Export to CSV.\n",
    "\n",
    "**Open up the CSV using pyton:**\n",
    "\n",
    "1. Create a line chart that compares Dhaka city’s temperatures with the global temperatures. Make sure to plot the moving average rather than the yearly averages in order to smooth out the lines, making trends more observable (the last concept in the previous lesson goes over how to do this in a spreadsheet).\n",
    "\n",
    "2. Make observations about the similarities and differences between the world averages and your city’s averages, as well as overall trends. Here are some questions to get you started.\n",
    "\n",
    "**Is my city hotter or cooler on average compared to the global average? Has the difference been consistent over time?**\n",
    "\n",
    "**“How do the changes in my city’s temperatures over time compare to the changes in the global average?”**\n",
    "\n",
    "**What does the overall trend look like? Is the world getting hotter or cooler? Has the trend been consistent over the last few hundred years?**\n"
   ]
  },
  {
   "cell_type": "markdown",
   "metadata": {},
   "source": [
    "## Step 1. Extract the data"
   ]
  },
  {
   "cell_type": "markdown",
   "metadata": {},
   "source": [
    "Using the SQL Workspace in udacity integration platform ,data have been extracted from the temperatures database and then downloaded the results to a CSV using following commands.\n",
    "\n",
    "SELECT*\n",
    "\n",
    "FROM global_data\n",
    "\n",
    "SELECT*\n",
    "\n",
    "FROM city_data\n",
    "\n",
    "WHERE city='Dhaka'\n",
    "\n",
    "SELECT*\n",
    "\n",
    "FROM city_list"
   ]
  },
  {
   "cell_type": "markdown",
   "metadata": {},
   "source": [
    "## Step 2. Open the data file and study the general information."
   ]
  },
  {
   "cell_type": "code",
   "execution_count": 1,
   "metadata": {},
   "outputs": [],
   "source": [
    "import pandas as pd\n",
    "import numpy as np\n",
    "import seaborn as sns\n",
    "import matplotlib.pyplot as plt\n",
    "import seaborn as sns\n",
    "import matplotlib.pyplot as plt\n",
    "from functools import reduce"
   ]
  },
  {
   "cell_type": "code",
   "execution_count": 2,
   "metadata": {},
   "outputs": [
    {
     "data": {
      "text/html": [
       "<div>\n",
       "<style scoped>\n",
       "    .dataframe tbody tr th:only-of-type {\n",
       "        vertical-align: middle;\n",
       "    }\n",
       "\n",
       "    .dataframe tbody tr th {\n",
       "        vertical-align: top;\n",
       "    }\n",
       "\n",
       "    .dataframe thead th {\n",
       "        text-align: right;\n",
       "    }\n",
       "</style>\n",
       "<table border=\"1\" class=\"dataframe\">\n",
       "  <thead>\n",
       "    <tr style=\"text-align: right;\">\n",
       "      <th></th>\n",
       "      <th>year</th>\n",
       "      <th>city</th>\n",
       "      <th>country</th>\n",
       "      <th>dhaka_avg_temp</th>\n",
       "    </tr>\n",
       "  </thead>\n",
       "  <tbody>\n",
       "    <tr>\n",
       "      <th>0</th>\n",
       "      <td>1796</td>\n",
       "      <td>Dhaka</td>\n",
       "      <td>Bangladesh</td>\n",
       "      <td>25.35</td>\n",
       "    </tr>\n",
       "    <tr>\n",
       "      <th>1</th>\n",
       "      <td>1797</td>\n",
       "      <td>Dhaka</td>\n",
       "      <td>Bangladesh</td>\n",
       "      <td>26.36</td>\n",
       "    </tr>\n",
       "    <tr>\n",
       "      <th>2</th>\n",
       "      <td>1798</td>\n",
       "      <td>Dhaka</td>\n",
       "      <td>Bangladesh</td>\n",
       "      <td>25.22</td>\n",
       "    </tr>\n",
       "    <tr>\n",
       "      <th>3</th>\n",
       "      <td>1799</td>\n",
       "      <td>Dhaka</td>\n",
       "      <td>Bangladesh</td>\n",
       "      <td>25.61</td>\n",
       "    </tr>\n",
       "    <tr>\n",
       "      <th>4</th>\n",
       "      <td>1800</td>\n",
       "      <td>Dhaka</td>\n",
       "      <td>Bangladesh</td>\n",
       "      <td>25.54</td>\n",
       "    </tr>\n",
       "  </tbody>\n",
       "</table>\n",
       "</div>"
      ],
      "text/plain": [
       "   year   city     country  dhaka_avg_temp\n",
       "0  1796  Dhaka  Bangladesh           25.35\n",
       "1  1797  Dhaka  Bangladesh           26.36\n",
       "2  1798  Dhaka  Bangladesh           25.22\n",
       "3  1799  Dhaka  Bangladesh           25.61\n",
       "4  1800  Dhaka  Bangladesh           25.54"
      ]
     },
     "metadata": {},
     "output_type": "display_data"
    },
    {
     "data": {
      "text/html": [
       "<div>\n",
       "<style scoped>\n",
       "    .dataframe tbody tr th:only-of-type {\n",
       "        vertical-align: middle;\n",
       "    }\n",
       "\n",
       "    .dataframe tbody tr th {\n",
       "        vertical-align: top;\n",
       "    }\n",
       "\n",
       "    .dataframe thead th {\n",
       "        text-align: right;\n",
       "    }\n",
       "</style>\n",
       "<table border=\"1\" class=\"dataframe\">\n",
       "  <thead>\n",
       "    <tr style=\"text-align: right;\">\n",
       "      <th></th>\n",
       "      <th>year</th>\n",
       "      <th>city</th>\n",
       "      <th>country</th>\n",
       "      <th>berlin_avg_temp</th>\n",
       "    </tr>\n",
       "  </thead>\n",
       "  <tbody>\n",
       "    <tr>\n",
       "      <th>0</th>\n",
       "      <td>1743</td>\n",
       "      <td>Berlin</td>\n",
       "      <td>Germany</td>\n",
       "      <td>6.33</td>\n",
       "    </tr>\n",
       "    <tr>\n",
       "      <th>1</th>\n",
       "      <td>1744</td>\n",
       "      <td>Berlin</td>\n",
       "      <td>Germany</td>\n",
       "      <td>10.36</td>\n",
       "    </tr>\n",
       "    <tr>\n",
       "      <th>2</th>\n",
       "      <td>1745</td>\n",
       "      <td>Berlin</td>\n",
       "      <td>Germany</td>\n",
       "      <td>1.43</td>\n",
       "    </tr>\n",
       "    <tr>\n",
       "      <th>3</th>\n",
       "      <td>1746</td>\n",
       "      <td>Berlin</td>\n",
       "      <td>Germany</td>\n",
       "      <td>NaN</td>\n",
       "    </tr>\n",
       "    <tr>\n",
       "      <th>4</th>\n",
       "      <td>1747</td>\n",
       "      <td>Berlin</td>\n",
       "      <td>Germany</td>\n",
       "      <td>NaN</td>\n",
       "    </tr>\n",
       "  </tbody>\n",
       "</table>\n",
       "</div>"
      ],
      "text/plain": [
       "   year    city  country  berlin_avg_temp\n",
       "0  1743  Berlin  Germany             6.33\n",
       "1  1744  Berlin  Germany            10.36\n",
       "2  1745  Berlin  Germany             1.43\n",
       "3  1746  Berlin  Germany              NaN\n",
       "4  1747  Berlin  Germany              NaN"
      ]
     },
     "metadata": {},
     "output_type": "display_data"
    },
    {
     "data": {
      "text/html": [
       "<div>\n",
       "<style scoped>\n",
       "    .dataframe tbody tr th:only-of-type {\n",
       "        vertical-align: middle;\n",
       "    }\n",
       "\n",
       "    .dataframe tbody tr th {\n",
       "        vertical-align: top;\n",
       "    }\n",
       "\n",
       "    .dataframe thead th {\n",
       "        text-align: right;\n",
       "    }\n",
       "</style>\n",
       "<table border=\"1\" class=\"dataframe\">\n",
       "  <thead>\n",
       "    <tr style=\"text-align: right;\">\n",
       "      <th></th>\n",
       "      <th>year</th>\n",
       "      <th>global_avg_temp</th>\n",
       "    </tr>\n",
       "  </thead>\n",
       "  <tbody>\n",
       "    <tr>\n",
       "      <th>0</th>\n",
       "      <td>1750</td>\n",
       "      <td>8.72</td>\n",
       "    </tr>\n",
       "    <tr>\n",
       "      <th>1</th>\n",
       "      <td>1751</td>\n",
       "      <td>7.98</td>\n",
       "    </tr>\n",
       "    <tr>\n",
       "      <th>2</th>\n",
       "      <td>1752</td>\n",
       "      <td>5.78</td>\n",
       "    </tr>\n",
       "    <tr>\n",
       "      <th>3</th>\n",
       "      <td>1753</td>\n",
       "      <td>8.39</td>\n",
       "    </tr>\n",
       "    <tr>\n",
       "      <th>4</th>\n",
       "      <td>1754</td>\n",
       "      <td>8.47</td>\n",
       "    </tr>\n",
       "  </tbody>\n",
       "</table>\n",
       "</div>"
      ],
      "text/plain": [
       "   year  global_avg_temp\n",
       "0  1750             8.72\n",
       "1  1751             7.98\n",
       "2  1752             5.78\n",
       "3  1753             8.39\n",
       "4  1754             8.47"
      ]
     },
     "metadata": {},
     "output_type": "display_data"
    },
    {
     "name": "stdout",
     "output_type": "stream",
     "text": [
      "<class 'pandas.core.frame.DataFrame'>\n",
      "RangeIndex: 218 entries, 0 to 217\n",
      "Data columns (total 4 columns):\n",
      " #   Column          Non-Null Count  Dtype  \n",
      "---  ------          --------------  -----  \n",
      " 0   year            218 non-null    int64  \n",
      " 1   city            218 non-null    object \n",
      " 2   country         218 non-null    object \n",
      " 3   dhaka_avg_temp  213 non-null    float64\n",
      "dtypes: float64(1), int64(1), object(2)\n",
      "memory usage: 6.9+ KB\n"
     ]
    },
    {
     "data": {
      "text/plain": [
       "None"
      ]
     },
     "metadata": {},
     "output_type": "display_data"
    },
    {
     "data": {
      "text/plain": [
       "year              0\n",
       "city              0\n",
       "country           0\n",
       "dhaka_avg_temp    5\n",
       "dtype: int64"
      ]
     },
     "metadata": {},
     "output_type": "display_data"
    },
    {
     "data": {
      "text/plain": [
       "year              0\n",
       "city              0\n",
       "country           0\n",
       "dhaka_avg_temp    0\n",
       "dtype: int64"
      ]
     },
     "metadata": {},
     "output_type": "display_data"
    },
    {
     "name": "stdout",
     "output_type": "stream",
     "text": [
      "<class 'pandas.core.frame.DataFrame'>\n",
      "RangeIndex: 271 entries, 0 to 270\n",
      "Data columns (total 4 columns):\n",
      " #   Column           Non-Null Count  Dtype  \n",
      "---  ------           --------------  -----  \n",
      " 0   year             271 non-null    int64  \n",
      " 1   city             271 non-null    object \n",
      " 2   country          271 non-null    object \n",
      " 3   berlin_avg_temp  267 non-null    float64\n",
      "dtypes: float64(1), int64(1), object(2)\n",
      "memory usage: 8.6+ KB\n"
     ]
    },
    {
     "data": {
      "text/plain": [
       "None"
      ]
     },
     "metadata": {},
     "output_type": "display_data"
    },
    {
     "data": {
      "text/plain": [
       "year               0\n",
       "city               0\n",
       "country            0\n",
       "berlin_avg_temp    4\n",
       "dtype: int64"
      ]
     },
     "metadata": {},
     "output_type": "display_data"
    },
    {
     "data": {
      "text/plain": [
       "year               0\n",
       "city               0\n",
       "country            0\n",
       "berlin_avg_temp    0\n",
       "dtype: int64"
      ]
     },
     "metadata": {},
     "output_type": "display_data"
    },
    {
     "name": "stdout",
     "output_type": "stream",
     "text": [
      "<class 'pandas.core.frame.DataFrame'>\n",
      "RangeIndex: 266 entries, 0 to 265\n",
      "Data columns (total 2 columns):\n",
      " #   Column           Non-Null Count  Dtype  \n",
      "---  ------           --------------  -----  \n",
      " 0   year             266 non-null    int64  \n",
      " 1   global_avg_temp  266 non-null    float64\n",
      "dtypes: float64(1), int64(1)\n",
      "memory usage: 4.3 KB\n"
     ]
    },
    {
     "data": {
      "text/plain": [
       "None"
      ]
     },
     "metadata": {},
     "output_type": "display_data"
    },
    {
     "data": {
      "text/plain": [
       "year               0\n",
       "global_avg_temp    0\n",
       "dtype: int64"
      ]
     },
     "metadata": {},
     "output_type": "display_data"
    }
   ],
   "source": [
    "#Dhaka avgerage temp over the year\n",
    "bd_df = pd.read_csv('bd.csv')\n",
    "\n",
    "# column name change of bd_df\n",
    "bd_df.columns=['year','city','country','dhaka_avg_temp']\n",
    "display(bd_df.head())\n",
    "\n",
    "#Berlin avgerage temp over the year\n",
    "ger_df = pd.read_csv('ger.csv')\n",
    "\n",
    "# column name change of ger_df\n",
    "ger_df.columns=['year','city','country','berlin_avg_temp']\n",
    "display(ger_df.head())\n",
    "\n",
    "#global avgerage temp over the year\n",
    "global_df = pd.read_csv('global.csv')\n",
    "# column name change of global_df\n",
    "global_df.columns=['year','global_avg_temp']\n",
    "display(global_df.head())\n",
    "\n",
    "display(bd_df.info())\n",
    "display(bd_df.isnull().sum())\n",
    "bd_df1 = bd_df.dropna()\n",
    "display(bd_df1.isnull().sum())\n",
    "\n",
    "display(ger_df.info())\n",
    "display(ger_df.isnull().sum())\n",
    "ger_df1 = ger_df.dropna()\n",
    "display(ger_df1.isnull().sum())\n",
    "\n",
    "\n",
    "display(global_df.info())\n",
    "display(global_df.isnull().sum())\n"
   ]
  },
  {
   "cell_type": "markdown",
   "metadata": {},
   "source": [
    "* Conclusion:\n",
    "    \n",
    "In the beginning, the datasets have been opened and the general information have been analyzed .The bd_df data set has 218 rows, 4 columns.The ger_df data set has 271 rows, 4 columns Missing values are in the berlin_avg_temp column. The global_df data set has 266 rows, 2 columns and no missing values observed."
   ]
  },
  {
   "cell_type": "markdown",
   "metadata": {},
   "source": [
    "## Step 3. Data preprocessing"
   ]
  },
  {
   "cell_type": "code",
   "execution_count": 3,
   "metadata": {},
   "outputs": [
    {
     "data": {
      "text/html": [
       "<div>\n",
       "<style scoped>\n",
       "    .dataframe tbody tr th:only-of-type {\n",
       "        vertical-align: middle;\n",
       "    }\n",
       "\n",
       "    .dataframe tbody tr th {\n",
       "        vertical-align: top;\n",
       "    }\n",
       "\n",
       "    .dataframe thead th {\n",
       "        text-align: right;\n",
       "    }\n",
       "</style>\n",
       "<table border=\"1\" class=\"dataframe\">\n",
       "  <thead>\n",
       "    <tr style=\"text-align: right;\">\n",
       "      <th></th>\n",
       "      <th>year</th>\n",
       "      <th>city_x</th>\n",
       "      <th>country_x</th>\n",
       "      <th>dhaka_avg_temp</th>\n",
       "      <th>city_y</th>\n",
       "      <th>country_y</th>\n",
       "      <th>berlin_avg_temp</th>\n",
       "      <th>global_avg_temp</th>\n",
       "    </tr>\n",
       "  </thead>\n",
       "  <tbody>\n",
       "    <tr>\n",
       "      <th>0</th>\n",
       "      <td>1796</td>\n",
       "      <td>Dhaka</td>\n",
       "      <td>Bangladesh</td>\n",
       "      <td>25.35</td>\n",
       "      <td>Berlin</td>\n",
       "      <td>Germany</td>\n",
       "      <td>9.01</td>\n",
       "      <td>8.27</td>\n",
       "    </tr>\n",
       "    <tr>\n",
       "      <th>1</th>\n",
       "      <td>1797</td>\n",
       "      <td>Dhaka</td>\n",
       "      <td>Bangladesh</td>\n",
       "      <td>26.36</td>\n",
       "      <td>Berlin</td>\n",
       "      <td>Germany</td>\n",
       "      <td>10.07</td>\n",
       "      <td>8.51</td>\n",
       "    </tr>\n",
       "    <tr>\n",
       "      <th>2</th>\n",
       "      <td>1798</td>\n",
       "      <td>Dhaka</td>\n",
       "      <td>Bangladesh</td>\n",
       "      <td>25.22</td>\n",
       "      <td>Berlin</td>\n",
       "      <td>Germany</td>\n",
       "      <td>9.33</td>\n",
       "      <td>8.67</td>\n",
       "    </tr>\n",
       "    <tr>\n",
       "      <th>3</th>\n",
       "      <td>1799</td>\n",
       "      <td>Dhaka</td>\n",
       "      <td>Bangladesh</td>\n",
       "      <td>25.61</td>\n",
       "      <td>Berlin</td>\n",
       "      <td>Germany</td>\n",
       "      <td>6.72</td>\n",
       "      <td>8.51</td>\n",
       "    </tr>\n",
       "    <tr>\n",
       "      <th>4</th>\n",
       "      <td>1800</td>\n",
       "      <td>Dhaka</td>\n",
       "      <td>Bangladesh</td>\n",
       "      <td>25.54</td>\n",
       "      <td>Berlin</td>\n",
       "      <td>Germany</td>\n",
       "      <td>8.60</td>\n",
       "      <td>8.48</td>\n",
       "    </tr>\n",
       "  </tbody>\n",
       "</table>\n",
       "</div>"
      ],
      "text/plain": [
       "   year city_x   country_x  dhaka_avg_temp  city_y country_y  berlin_avg_temp  \\\n",
       "0  1796  Dhaka  Bangladesh           25.35  Berlin   Germany             9.01   \n",
       "1  1797  Dhaka  Bangladesh           26.36  Berlin   Germany            10.07   \n",
       "2  1798  Dhaka  Bangladesh           25.22  Berlin   Germany             9.33   \n",
       "3  1799  Dhaka  Bangladesh           25.61  Berlin   Germany             6.72   \n",
       "4  1800  Dhaka  Bangladesh           25.54  Berlin   Germany             8.60   \n",
       "\n",
       "   global_avg_temp  \n",
       "0             8.27  \n",
       "1             8.51  \n",
       "2             8.67  \n",
       "3             8.51  \n",
       "4             8.48  "
      ]
     },
     "metadata": {},
     "output_type": "display_data"
    },
    {
     "data": {
      "text/html": [
       "<div>\n",
       "<style scoped>\n",
       "    .dataframe tbody tr th:only-of-type {\n",
       "        vertical-align: middle;\n",
       "    }\n",
       "\n",
       "    .dataframe tbody tr th {\n",
       "        vertical-align: top;\n",
       "    }\n",
       "\n",
       "    .dataframe thead th {\n",
       "        text-align: right;\n",
       "    }\n",
       "</style>\n",
       "<table border=\"1\" class=\"dataframe\">\n",
       "  <thead>\n",
       "    <tr style=\"text-align: right;\">\n",
       "      <th></th>\n",
       "      <th>year</th>\n",
       "      <th>city_x</th>\n",
       "      <th>country_x</th>\n",
       "      <th>dhaka_avg_temp</th>\n",
       "      <th>city_y</th>\n",
       "      <th>country_y</th>\n",
       "      <th>berlin_avg_temp</th>\n",
       "      <th>global_avg_temp</th>\n",
       "    </tr>\n",
       "  </thead>\n",
       "  <tbody>\n",
       "    <tr>\n",
       "      <th>0</th>\n",
       "      <td>1796</td>\n",
       "      <td>Dhaka</td>\n",
       "      <td>Bangladesh</td>\n",
       "      <td>25.35</td>\n",
       "      <td>Berlin</td>\n",
       "      <td>Germany</td>\n",
       "      <td>9.01</td>\n",
       "      <td>8.27</td>\n",
       "    </tr>\n",
       "    <tr>\n",
       "      <th>1</th>\n",
       "      <td>1797</td>\n",
       "      <td>Dhaka</td>\n",
       "      <td>Bangladesh</td>\n",
       "      <td>26.36</td>\n",
       "      <td>Berlin</td>\n",
       "      <td>Germany</td>\n",
       "      <td>10.07</td>\n",
       "      <td>8.51</td>\n",
       "    </tr>\n",
       "    <tr>\n",
       "      <th>2</th>\n",
       "      <td>1798</td>\n",
       "      <td>Dhaka</td>\n",
       "      <td>Bangladesh</td>\n",
       "      <td>25.22</td>\n",
       "      <td>Berlin</td>\n",
       "      <td>Germany</td>\n",
       "      <td>9.33</td>\n",
       "      <td>8.67</td>\n",
       "    </tr>\n",
       "    <tr>\n",
       "      <th>3</th>\n",
       "      <td>1799</td>\n",
       "      <td>Dhaka</td>\n",
       "      <td>Bangladesh</td>\n",
       "      <td>25.61</td>\n",
       "      <td>Berlin</td>\n",
       "      <td>Germany</td>\n",
       "      <td>6.72</td>\n",
       "      <td>8.51</td>\n",
       "    </tr>\n",
       "    <tr>\n",
       "      <th>4</th>\n",
       "      <td>1800</td>\n",
       "      <td>Dhaka</td>\n",
       "      <td>Bangladesh</td>\n",
       "      <td>25.54</td>\n",
       "      <td>Berlin</td>\n",
       "      <td>Germany</td>\n",
       "      <td>8.60</td>\n",
       "      <td>8.48</td>\n",
       "    </tr>\n",
       "  </tbody>\n",
       "</table>\n",
       "</div>"
      ],
      "text/plain": [
       "   year city_x   country_x  dhaka_avg_temp  city_y country_y  berlin_avg_temp  \\\n",
       "0  1796  Dhaka  Bangladesh           25.35  Berlin   Germany             9.01   \n",
       "1  1797  Dhaka  Bangladesh           26.36  Berlin   Germany            10.07   \n",
       "2  1798  Dhaka  Bangladesh           25.22  Berlin   Germany             9.33   \n",
       "3  1799  Dhaka  Bangladesh           25.61  Berlin   Germany             6.72   \n",
       "4  1800  Dhaka  Bangladesh           25.54  Berlin   Germany             8.60   \n",
       "\n",
       "   global_avg_temp  \n",
       "0             8.27  \n",
       "1             8.51  \n",
       "2             8.67  \n",
       "3             8.51  \n",
       "4             8.48  "
      ]
     },
     "metadata": {},
     "output_type": "display_data"
    },
    {
     "data": {
      "text/html": [
       "<div>\n",
       "<style scoped>\n",
       "    .dataframe tbody tr th:only-of-type {\n",
       "        vertical-align: middle;\n",
       "    }\n",
       "\n",
       "    .dataframe tbody tr th {\n",
       "        vertical-align: top;\n",
       "    }\n",
       "\n",
       "    .dataframe thead th {\n",
       "        text-align: right;\n",
       "    }\n",
       "</style>\n",
       "<table border=\"1\" class=\"dataframe\">\n",
       "  <thead>\n",
       "    <tr style=\"text-align: right;\">\n",
       "      <th></th>\n",
       "      <th>year</th>\n",
       "      <th>city_x</th>\n",
       "      <th>country_x</th>\n",
       "      <th>dhaka_avg_temp</th>\n",
       "      <th>city_y</th>\n",
       "      <th>country_y</th>\n",
       "      <th>berlin_avg_temp</th>\n",
       "      <th>global_avg_temp</th>\n",
       "    </tr>\n",
       "  </thead>\n",
       "  <tbody>\n",
       "    <tr>\n",
       "      <th>0</th>\n",
       "      <td>1796</td>\n",
       "      <td>Dhaka</td>\n",
       "      <td>Bangladesh</td>\n",
       "      <td>25.35</td>\n",
       "      <td>Berlin</td>\n",
       "      <td>Germany</td>\n",
       "      <td>9.01</td>\n",
       "      <td>8.27</td>\n",
       "    </tr>\n",
       "    <tr>\n",
       "      <th>1</th>\n",
       "      <td>1797</td>\n",
       "      <td>Dhaka</td>\n",
       "      <td>Bangladesh</td>\n",
       "      <td>26.36</td>\n",
       "      <td>Berlin</td>\n",
       "      <td>Germany</td>\n",
       "      <td>10.07</td>\n",
       "      <td>8.51</td>\n",
       "    </tr>\n",
       "    <tr>\n",
       "      <th>2</th>\n",
       "      <td>1798</td>\n",
       "      <td>Dhaka</td>\n",
       "      <td>Bangladesh</td>\n",
       "      <td>25.22</td>\n",
       "      <td>Berlin</td>\n",
       "      <td>Germany</td>\n",
       "      <td>9.33</td>\n",
       "      <td>8.67</td>\n",
       "    </tr>\n",
       "    <tr>\n",
       "      <th>3</th>\n",
       "      <td>1799</td>\n",
       "      <td>Dhaka</td>\n",
       "      <td>Bangladesh</td>\n",
       "      <td>25.61</td>\n",
       "      <td>Berlin</td>\n",
       "      <td>Germany</td>\n",
       "      <td>6.72</td>\n",
       "      <td>8.51</td>\n",
       "    </tr>\n",
       "    <tr>\n",
       "      <th>4</th>\n",
       "      <td>1800</td>\n",
       "      <td>Dhaka</td>\n",
       "      <td>Bangladesh</td>\n",
       "      <td>25.54</td>\n",
       "      <td>Berlin</td>\n",
       "      <td>Germany</td>\n",
       "      <td>8.60</td>\n",
       "      <td>8.48</td>\n",
       "    </tr>\n",
       "  </tbody>\n",
       "</table>\n",
       "</div>"
      ],
      "text/plain": [
       "   year city_x   country_x  dhaka_avg_temp  city_y country_y  berlin_avg_temp  \\\n",
       "0  1796  Dhaka  Bangladesh           25.35  Berlin   Germany             9.01   \n",
       "1  1797  Dhaka  Bangladesh           26.36  Berlin   Germany            10.07   \n",
       "2  1798  Dhaka  Bangladesh           25.22  Berlin   Germany             9.33   \n",
       "3  1799  Dhaka  Bangladesh           25.61  Berlin   Germany             6.72   \n",
       "4  1800  Dhaka  Bangladesh           25.54  Berlin   Germany             8.60   \n",
       "\n",
       "   global_avg_temp  \n",
       "0             8.27  \n",
       "1             8.51  \n",
       "2             8.67  \n",
       "3             8.51  \n",
       "4             8.48  "
      ]
     },
     "metadata": {},
     "output_type": "display_data"
    },
    {
     "name": "stdout",
     "output_type": "stream",
     "text": [
      "duplicate rows: 0\n"
     ]
    },
    {
     "name": "stderr",
     "output_type": "stream",
     "text": [
      "<ipython-input-3-3cbbb0286326>:17: SettingWithCopyWarning: \n",
      "A value is trying to be set on a copy of a slice from a DataFrame.\n",
      "Try using .loc[row_indexer,col_indexer] = value instead\n",
      "\n",
      "See the caveats in the documentation: https://pandas.pydata.org/pandas-docs/stable/user_guide/indexing.html#returning-a-view-versus-a-copy\n",
      "  df_merged_1['MA_yearly_dhaka_temp'] = df_merged_1.iloc[:,3].rolling(window=10).mean()\n",
      "<ipython-input-3-3cbbb0286326>:18: SettingWithCopyWarning: \n",
      "A value is trying to be set on a copy of a slice from a DataFrame.\n",
      "Try using .loc[row_indexer,col_indexer] = value instead\n",
      "\n",
      "See the caveats in the documentation: https://pandas.pydata.org/pandas-docs/stable/user_guide/indexing.html#returning-a-view-versus-a-copy\n",
      "  df_merged_1['MA_yearly_berlin_temp'] = df_merged_1.iloc[:,6].rolling(window=10).mean()\n",
      "<ipython-input-3-3cbbb0286326>:19: SettingWithCopyWarning: \n",
      "A value is trying to be set on a copy of a slice from a DataFrame.\n",
      "Try using .loc[row_indexer,col_indexer] = value instead\n",
      "\n",
      "See the caveats in the documentation: https://pandas.pydata.org/pandas-docs/stable/user_guide/indexing.html#returning-a-view-versus-a-copy\n",
      "  df_merged_1['MA_yearly_global_temp'] = df_merged_1.iloc[:,7].rolling(window=10).mean()\n"
     ]
    },
    {
     "data": {
      "text/html": [
       "<div>\n",
       "<style scoped>\n",
       "    .dataframe tbody tr th:only-of-type {\n",
       "        vertical-align: middle;\n",
       "    }\n",
       "\n",
       "    .dataframe tbody tr th {\n",
       "        vertical-align: top;\n",
       "    }\n",
       "\n",
       "    .dataframe thead th {\n",
       "        text-align: right;\n",
       "    }\n",
       "</style>\n",
       "<table border=\"1\" class=\"dataframe\">\n",
       "  <thead>\n",
       "    <tr style=\"text-align: right;\">\n",
       "      <th></th>\n",
       "      <th>year</th>\n",
       "      <th>city_x</th>\n",
       "      <th>country_x</th>\n",
       "      <th>dhaka_avg_temp</th>\n",
       "      <th>city_y</th>\n",
       "      <th>country_y</th>\n",
       "      <th>berlin_avg_temp</th>\n",
       "      <th>global_avg_temp</th>\n",
       "      <th>MA_yearly_dhaka_temp</th>\n",
       "      <th>MA_yearly_berlin_temp</th>\n",
       "      <th>MA_yearly_global_temp</th>\n",
       "    </tr>\n",
       "  </thead>\n",
       "  <tbody>\n",
       "    <tr>\n",
       "      <th>0</th>\n",
       "      <td>1796</td>\n",
       "      <td>Dhaka</td>\n",
       "      <td>Bangladesh</td>\n",
       "      <td>25.35</td>\n",
       "      <td>Berlin</td>\n",
       "      <td>Germany</td>\n",
       "      <td>9.01</td>\n",
       "      <td>8.27</td>\n",
       "      <td>NaN</td>\n",
       "      <td>NaN</td>\n",
       "      <td>NaN</td>\n",
       "    </tr>\n",
       "    <tr>\n",
       "      <th>1</th>\n",
       "      <td>1797</td>\n",
       "      <td>Dhaka</td>\n",
       "      <td>Bangladesh</td>\n",
       "      <td>26.36</td>\n",
       "      <td>Berlin</td>\n",
       "      <td>Germany</td>\n",
       "      <td>10.07</td>\n",
       "      <td>8.51</td>\n",
       "      <td>NaN</td>\n",
       "      <td>NaN</td>\n",
       "      <td>NaN</td>\n",
       "    </tr>\n",
       "    <tr>\n",
       "      <th>2</th>\n",
       "      <td>1798</td>\n",
       "      <td>Dhaka</td>\n",
       "      <td>Bangladesh</td>\n",
       "      <td>25.22</td>\n",
       "      <td>Berlin</td>\n",
       "      <td>Germany</td>\n",
       "      <td>9.33</td>\n",
       "      <td>8.67</td>\n",
       "      <td>NaN</td>\n",
       "      <td>NaN</td>\n",
       "      <td>NaN</td>\n",
       "    </tr>\n",
       "    <tr>\n",
       "      <th>3</th>\n",
       "      <td>1799</td>\n",
       "      <td>Dhaka</td>\n",
       "      <td>Bangladesh</td>\n",
       "      <td>25.61</td>\n",
       "      <td>Berlin</td>\n",
       "      <td>Germany</td>\n",
       "      <td>6.72</td>\n",
       "      <td>8.51</td>\n",
       "      <td>NaN</td>\n",
       "      <td>NaN</td>\n",
       "      <td>NaN</td>\n",
       "    </tr>\n",
       "    <tr>\n",
       "      <th>4</th>\n",
       "      <td>1800</td>\n",
       "      <td>Dhaka</td>\n",
       "      <td>Bangladesh</td>\n",
       "      <td>25.54</td>\n",
       "      <td>Berlin</td>\n",
       "      <td>Germany</td>\n",
       "      <td>8.60</td>\n",
       "      <td>8.48</td>\n",
       "      <td>NaN</td>\n",
       "      <td>NaN</td>\n",
       "      <td>NaN</td>\n",
       "    </tr>\n",
       "  </tbody>\n",
       "</table>\n",
       "</div>"
      ],
      "text/plain": [
       "   year city_x   country_x  dhaka_avg_temp  city_y country_y  berlin_avg_temp  \\\n",
       "0  1796  Dhaka  Bangladesh           25.35  Berlin   Germany             9.01   \n",
       "1  1797  Dhaka  Bangladesh           26.36  Berlin   Germany            10.07   \n",
       "2  1798  Dhaka  Bangladesh           25.22  Berlin   Germany             9.33   \n",
       "3  1799  Dhaka  Bangladesh           25.61  Berlin   Germany             6.72   \n",
       "4  1800  Dhaka  Bangladesh           25.54  Berlin   Germany             8.60   \n",
       "\n",
       "   global_avg_temp  MA_yearly_dhaka_temp  MA_yearly_berlin_temp  \\\n",
       "0             8.27                   NaN                    NaN   \n",
       "1             8.51                   NaN                    NaN   \n",
       "2             8.67                   NaN                    NaN   \n",
       "3             8.51                   NaN                    NaN   \n",
       "4             8.48                   NaN                    NaN   \n",
       "\n",
       "   MA_yearly_global_temp  \n",
       "0                    NaN  \n",
       "1                    NaN  \n",
       "2                    NaN  \n",
       "3                    NaN  \n",
       "4                    NaN  "
      ]
     },
     "metadata": {},
     "output_type": "display_data"
    }
   ],
   "source": [
    "data_frames = [bd_df1,ger_df1, global_df]\n",
    "df_merged = reduce(lambda  left,right: pd.merge(left,right,on=['year'],\n",
    "                                            how='outer'), data_frames).fillna(0)\n",
    "display(df_merged.head())\n",
    "df_merged_1=df_merged.query('city_x==\"Dhaka\" | country_x==\"Bangladesh\" | city_y==\"Berlin\" | country_y==\"Germany\" ')\n",
    "\n",
    "\n",
    "display(df_merged.head())\n",
    "display(df_merged_1.head())\n",
    "\n",
    "\n",
    "#checking duplicates in dataframe\n",
    "print('duplicate rows:',df_merged_1.duplicated().sum())\n",
    "\n",
    "#moving_average\n",
    "\n",
    "df_merged_1['MA_yearly_dhaka_temp'] = df_merged_1.iloc[:,3].rolling(window=10).mean()\n",
    "df_merged_1['MA_yearly_berlin_temp'] = df_merged_1.iloc[:,6].rolling(window=10).mean()\n",
    "df_merged_1['MA_yearly_global_temp'] = df_merged_1.iloc[:,7].rolling(window=10).mean()\n",
    "display(df_merged_1.head())"
   ]
  },
  {
   "cell_type": "markdown",
   "metadata": {},
   "source": [
    "* Conclusion\n",
    "\n",
    "Using reduce merge method bd_df,global_df and ger_df dataframes are merged and some missing data have filtered.After that yearly moving temperature both for dhaka and global have been calculated using default rolling function in python."
   ]
  },
  {
   "cell_type": "code",
   "execution_count": 4,
   "metadata": {},
   "outputs": [
    {
     "data": {
      "image/png": "[encoded data removed]",
      "text/plain": [
       "<Figure size 432x288 with 1 Axes>"
      ]
     },
     "metadata": {
      "needs_background": "light"
     },
     "output_type": "display_data"
    },
    {
     "data": {
      "image/png": "[encoded data removed]",
      "text/plain": [
       "<Figure size 432x288 with 1 Axes>"
      ]
     },
     "metadata": {
      "needs_background": "light"
     },
     "output_type": "display_data"
    },
    {
     "data": {
      "image/png": "[encoded data removed]",
      "text/plain": [
       "<Figure size 432x288 with 1 Axes>"
      ]
     },
     "metadata": {
      "needs_background": "light"
     },
     "output_type": "display_data"
    }
   ],
   "source": [
    "#checking outliers\n",
    "sns.boxplot(x=df_merged_1['MA_yearly_dhaka_temp'])\n",
    "plt.title('MA_yearly_dhaka_temp outliers visualization',loc='left')\n",
    "plt.show()\n",
    "\n",
    "sns.boxplot(x=df_merged_1['MA_yearly_berlin_temp'])\n",
    "plt.title('MA_yearly_berlin_temp outliers visualization',loc='left')\n",
    "plt.show()\n",
    "\n",
    "sns.boxplot(x=df_merged_1['MA_yearly_global_temp'])\n",
    "plt.title('MA_yearly_global_temp outliers visualization',loc='left')\n",
    "plt.show()"
   ]
  },
  {
   "cell_type": "code",
   "execution_count": 5,
   "metadata": {},
   "outputs": [
    {
     "name": "stdout",
     "output_type": "stream",
     "text": [
      "9.533249999999994\n",
      "7.133250000000002\n"
     ]
    },
    {
     "data": {
      "image/png": "[encoded data removed]",
      "text/plain": [
       "<Figure size 432x288 with 1 Axes>"
      ]
     },
     "metadata": {
      "needs_background": "light"
     },
     "output_type": "display_data"
    }
   ],
   "source": [
    "#Removing outliers MA_yearly_global_temp\n",
    "uw_1 =(df_merged_1['MA_yearly_global_temp'].quantile(0.75))+(1.5*((df_merged_1['MA_yearly_global_temp'].quantile(0.75))-(df_merged_1['MA_yearly_global_temp'].quantile(0.25))))\n",
    "lw_1=(df_merged_1['MA_yearly_global_temp'].quantile(0.25))-(1.5*((df_merged_1['MA_yearly_global_temp'].quantile(0.75))-(df_merged_1['MA_yearly_global_temp'].quantile(0.25))))\n",
    "print(uw_1)\n",
    "print(lw_1)\n",
    "df_merged_1_filtered = df_merged_1.query(' @lw_1 <= MA_yearly_global_temp <= @uw_1 ')\n",
    "\n",
    "sns.boxplot(x=df_merged_1_filtered['MA_yearly_global_temp'])\n",
    "plt.title('MA_yearly_global_temp removed outliers visualization',loc='left')\n",
    "plt.show()"
   ]
  },
  {
   "cell_type": "code",
   "execution_count": 6,
   "metadata": {},
   "outputs": [
    {
     "name": "stdout",
     "output_type": "stream",
     "text": [
      "27.04750000000012\n",
      "23.435499999999927\n"
     ]
    },
    {
     "data": {
      "image/png": "[encoded data removed]",
      "text/plain": [
       "<Figure size 432x288 with 1 Axes>"
      ]
     },
     "metadata": {
      "needs_background": "light"
     },
     "output_type": "display_data"
    }
   ],
   "source": [
    "#Removing outliers MA_yearly_dhaka_temp\n",
    "uw_2 =(df_merged_1_filtered['MA_yearly_dhaka_temp'].quantile(0.75))+(1.5*((df_merged_1_filtered['MA_yearly_dhaka_temp'].quantile(0.75))-(df_merged_1_filtered['MA_yearly_dhaka_temp'].quantile(0.25))))\n",
    "lw_2=(df_merged_1_filtered['MA_yearly_dhaka_temp'].quantile(0.25))-(1.5*((df_merged_1_filtered['MA_yearly_dhaka_temp'].quantile(0.75))-(df_merged_1_filtered['MA_yearly_dhaka_temp'].quantile(0.25))))\n",
    "print(uw_2)\n",
    "print(lw_2)\n",
    "df_merged_2_filtered = df_merged_1_filtered.query(' @lw_2 <= MA_yearly_dhaka_temp <= @uw_2 ')\n",
    "\n",
    "sns.boxplot(x=df_merged_2_filtered ['MA_yearly_dhaka_temp'])\n",
    "plt.title('MA_yearly_dhaka_temp removed outliers visualization',loc='left')\n",
    "plt.show()"
   ]
  },
  {
   "cell_type": "code",
   "execution_count": 7,
   "metadata": {},
   "outputs": [
    {
     "name": "stdout",
     "output_type": "stream",
     "text": [
      "9.761000000000006\n",
      "7.944999999999998\n"
     ]
    },
    {
     "data": {
      "image/png": "[encoded data removed]",
      "text/plain": [
       "<Figure size 432x288 with 1 Axes>"
      ]
     },
     "metadata": {
      "needs_background": "light"
     },
     "output_type": "display_data"
    }
   ],
   "source": [
    "#Removing outliers MA_yearly_berlin_temp\n",
    "uw_3 =(df_merged_2_filtered ['MA_yearly_berlin_temp'].quantile(0.75))+(1.5*((df_merged_2_filtered ['MA_yearly_berlin_temp'].quantile(0.75))-(df_merged_2_filtered ['MA_yearly_berlin_temp'].quantile(0.25))))\n",
    "lw_3=(df_merged_2_filtered ['MA_yearly_berlin_temp'].quantile(0.25))-(1.5*((df_merged_2_filtered ['MA_yearly_berlin_temp'].quantile(0.75))-(df_merged_2_filtered ['MA_yearly_berlin_temp'].quantile(0.25))))\n",
    "print(uw_3)\n",
    "print(lw_3)\n",
    "df_merged_3_filtered = df_merged_2_filtered.query(' @lw_3 <= MA_yearly_berlin_temp <= @uw_3 ')\n",
    "\n",
    "sns.boxplot(x=df_merged_3_filtered ['MA_yearly_berlin_temp'])\n",
    "plt.title('MA_yearly_berlin_temp removed outliers visualization',loc='left')\n",
    "plt.show()"
   ]
  },
  {
   "cell_type": "markdown",
   "metadata": {},
   "source": [
    "* Conclusion\n",
    "\n",
    "Outliers in the MA_yearly_dhaka_temp,MA_yearly_global_temp and MA_yearly_berlin_temp columns have been cheked in the df_merged_1 dataframe and outliers have been removed using 1.5*IQR rule."
   ]
  },
  {
   "cell_type": "markdown",
   "metadata": {},
   "source": [
    "## Step 4. Crete a line chart"
   ]
  },
  {
   "cell_type": "code",
   "execution_count": 8,
   "metadata": {},
   "outputs": [
    {
     "data": {
      "text/html": [
       "<div>\n",
       "<style scoped>\n",
       "    .dataframe tbody tr th:only-of-type {\n",
       "        vertical-align: middle;\n",
       "    }\n",
       "\n",
       "    .dataframe tbody tr th {\n",
       "        vertical-align: top;\n",
       "    }\n",
       "\n",
       "    .dataframe thead th {\n",
       "        text-align: right;\n",
       "    }\n",
       "</style>\n",
       "<table border=\"1\" class=\"dataframe\">\n",
       "  <thead>\n",
       "    <tr style=\"text-align: right;\">\n",
       "      <th></th>\n",
       "      <th>year</th>\n",
       "      <th>city_x</th>\n",
       "      <th>country_x</th>\n",
       "      <th>dhaka_avg_temp</th>\n",
       "      <th>city_y</th>\n",
       "      <th>country_y</th>\n",
       "      <th>berlin_avg_temp</th>\n",
       "      <th>global_avg_temp</th>\n",
       "      <th>MA_yearly_dhaka_temp</th>\n",
       "      <th>MA_yearly_berlin_temp</th>\n",
       "      <th>MA_yearly_global_temp</th>\n",
       "    </tr>\n",
       "  </thead>\n",
       "  <tbody>\n",
       "    <tr>\n",
       "      <th>9</th>\n",
       "      <td>1805</td>\n",
       "      <td>Dhaka</td>\n",
       "      <td>Bangladesh</td>\n",
       "      <td>25.64</td>\n",
       "      <td>Berlin</td>\n",
       "      <td>Germany</td>\n",
       "      <td>7.20</td>\n",
       "      <td>8.56</td>\n",
       "      <td>25.662</td>\n",
       "      <td>8.600</td>\n",
       "      <td>8.551</td>\n",
       "    </tr>\n",
       "    <tr>\n",
       "      <th>10</th>\n",
       "      <td>1806</td>\n",
       "      <td>Dhaka</td>\n",
       "      <td>Bangladesh</td>\n",
       "      <td>25.56</td>\n",
       "      <td>Berlin</td>\n",
       "      <td>Germany</td>\n",
       "      <td>9.67</td>\n",
       "      <td>8.43</td>\n",
       "      <td>25.683</td>\n",
       "      <td>8.666</td>\n",
       "      <td>8.567</td>\n",
       "    </tr>\n",
       "    <tr>\n",
       "      <th>11</th>\n",
       "      <td>1807</td>\n",
       "      <td>Dhaka</td>\n",
       "      <td>Bangladesh</td>\n",
       "      <td>25.15</td>\n",
       "      <td>Berlin</td>\n",
       "      <td>Germany</td>\n",
       "      <td>9.42</td>\n",
       "      <td>8.28</td>\n",
       "      <td>25.562</td>\n",
       "      <td>8.601</td>\n",
       "      <td>8.544</td>\n",
       "    </tr>\n",
       "    <tr>\n",
       "      <th>12</th>\n",
       "      <td>1813</td>\n",
       "      <td>Dhaka</td>\n",
       "      <td>Bangladesh</td>\n",
       "      <td>24.90</td>\n",
       "      <td>Berlin</td>\n",
       "      <td>Germany</td>\n",
       "      <td>8.66</td>\n",
       "      <td>7.74</td>\n",
       "      <td>25.530</td>\n",
       "      <td>8.534</td>\n",
       "      <td>8.451</td>\n",
       "    </tr>\n",
       "    <tr>\n",
       "      <th>13</th>\n",
       "      <td>1814</td>\n",
       "      <td>Dhaka</td>\n",
       "      <td>Bangladesh</td>\n",
       "      <td>24.51</td>\n",
       "      <td>Berlin</td>\n",
       "      <td>Germany</td>\n",
       "      <td>7.46</td>\n",
       "      <td>7.59</td>\n",
       "      <td>25.420</td>\n",
       "      <td>8.608</td>\n",
       "      <td>8.359</td>\n",
       "    </tr>\n",
       "  </tbody>\n",
       "</table>\n",
       "</div>"
      ],
      "text/plain": [
       "    year city_x   country_x  dhaka_avg_temp  city_y country_y  \\\n",
       "9   1805  Dhaka  Bangladesh           25.64  Berlin   Germany   \n",
       "10  1806  Dhaka  Bangladesh           25.56  Berlin   Germany   \n",
       "11  1807  Dhaka  Bangladesh           25.15  Berlin   Germany   \n",
       "12  1813  Dhaka  Bangladesh           24.90  Berlin   Germany   \n",
       "13  1814  Dhaka  Bangladesh           24.51  Berlin   Germany   \n",
       "\n",
       "    berlin_avg_temp  global_avg_temp  MA_yearly_dhaka_temp  \\\n",
       "9              7.20             8.56                25.662   \n",
       "10             9.67             8.43                25.683   \n",
       "11             9.42             8.28                25.562   \n",
       "12             8.66             7.74                25.530   \n",
       "13             7.46             7.59                25.420   \n",
       "\n",
       "    MA_yearly_berlin_temp  MA_yearly_global_temp  \n",
       "9                   8.600                  8.551  \n",
       "10                  8.666                  8.567  \n",
       "11                  8.601                  8.544  \n",
       "12                  8.534                  8.451  \n",
       "13                  8.608                  8.359  "
      ]
     },
     "metadata": {},
     "output_type": "display_data"
    },
    {
     "data": {
      "image/png": "[encoded data removed]",
      "text/plain": [
       "<Figure size 1080x720 with 1 Axes>"
      ]
     },
     "metadata": {
      "needs_background": "light"
     },
     "output_type": "display_data"
    }
   ],
   "source": [
    "# moving average yearly plot dhaka and global\n",
    "df_merged_3_filtered=df_merged_3_filtered.set_index('year')\n",
    "display(df_merged_2_filtered.head())\n",
    "plt.figure(figsize=[15,10])\n",
    "plt.grid(True)\n",
    "\n",
    "plt.plot(df_merged_3_filtered['MA_yearly_dhaka_temp'],label='MA yearly dhaka temp')\n",
    "plt.plot(df_merged_3_filtered['MA_yearly_global_temp'],label='MA yearly global temp')\n",
    "plt.plot(df_merged_3_filtered['MA_yearly_berlin_temp'],label='MA yearly berlin temp')\n",
    "plt.title('10 years moving average temperature')\n",
    "plt.xlabel(\"years\")\n",
    "plt.ylabel(\"Temperature(°C)\")\n",
    "plt.legend(loc=2)\n",
    "\n",
    "plt.show()"
   ]
  },
  {
   "cell_type": "code",
   "execution_count": 9,
   "metadata": {},
   "outputs": [
    {
     "data": {
      "text/html": [
       "<div>\n",
       "<style scoped>\n",
       "    .dataframe tbody tr th:only-of-type {\n",
       "        vertical-align: middle;\n",
       "    }\n",
       "\n",
       "    .dataframe tbody tr th {\n",
       "        vertical-align: top;\n",
       "    }\n",
       "\n",
       "    .dataframe thead th {\n",
       "        text-align: right;\n",
       "    }\n",
       "</style>\n",
       "<table border=\"1\" class=\"dataframe\">\n",
       "  <thead>\n",
       "    <tr style=\"text-align: right;\">\n",
       "      <th></th>\n",
       "      <th>dhaka_avg_temp</th>\n",
       "      <th>berlin_avg_temp</th>\n",
       "      <th>global_avg_temp</th>\n",
       "      <th>MA_yearly_dhaka_temp</th>\n",
       "      <th>MA_yearly_berlin_temp</th>\n",
       "      <th>MA_yearly_global_temp</th>\n",
       "    </tr>\n",
       "  </thead>\n",
       "  <tbody>\n",
       "    <tr>\n",
       "      <th>count</th>\n",
       "      <td>187.000000</td>\n",
       "      <td>187.000000</td>\n",
       "      <td>187.00000</td>\n",
       "      <td>187.000000</td>\n",
       "      <td>187.000000</td>\n",
       "      <td>187.000000</td>\n",
       "    </tr>\n",
       "    <tr>\n",
       "      <th>mean</th>\n",
       "      <td>25.404064</td>\n",
       "      <td>8.856310</td>\n",
       "      <td>8.33262</td>\n",
       "      <td>25.397610</td>\n",
       "      <td>8.833176</td>\n",
       "      <td>8.321171</td>\n",
       "    </tr>\n",
       "    <tr>\n",
       "      <th>std</th>\n",
       "      <td>0.584303</td>\n",
       "      <td>0.810941</td>\n",
       "      <td>0.43290</td>\n",
       "      <td>0.385995</td>\n",
       "      <td>0.304480</td>\n",
       "      <td>0.343754</td>\n",
       "    </tr>\n",
       "    <tr>\n",
       "      <th>min</th>\n",
       "      <td>20.490000</td>\n",
       "      <td>6.520000</td>\n",
       "      <td>6.94000</td>\n",
       "      <td>24.525000</td>\n",
       "      <td>8.287000</td>\n",
       "      <td>7.557000</td>\n",
       "    </tr>\n",
       "    <tr>\n",
       "      <th>25%</th>\n",
       "      <td>25.155000</td>\n",
       "      <td>8.340000</td>\n",
       "      <td>8.09000</td>\n",
       "      <td>25.137000</td>\n",
       "      <td>8.605500</td>\n",
       "      <td>8.070000</td>\n",
       "    </tr>\n",
       "    <tr>\n",
       "      <th>50%</th>\n",
       "      <td>25.440000</td>\n",
       "      <td>8.910000</td>\n",
       "      <td>8.35000</td>\n",
       "      <td>25.404000</td>\n",
       "      <td>8.820000</td>\n",
       "      <td>8.278000</td>\n",
       "    </tr>\n",
       "    <tr>\n",
       "      <th>75%</th>\n",
       "      <td>25.760000</td>\n",
       "      <td>9.385000</td>\n",
       "      <td>8.64000</td>\n",
       "      <td>25.699000</td>\n",
       "      <td>9.036500</td>\n",
       "      <td>8.636500</td>\n",
       "    </tr>\n",
       "    <tr>\n",
       "      <th>max</th>\n",
       "      <td>26.530000</td>\n",
       "      <td>10.720000</td>\n",
       "      <td>9.35000</td>\n",
       "      <td>26.039000</td>\n",
       "      <td>9.758000</td>\n",
       "      <td>9.066000</td>\n",
       "    </tr>\n",
       "  </tbody>\n",
       "</table>\n",
       "</div>"
      ],
      "text/plain": [
       "       dhaka_avg_temp  berlin_avg_temp  global_avg_temp  MA_yearly_dhaka_temp  \\\n",
       "count      187.000000       187.000000        187.00000            187.000000   \n",
       "mean        25.404064         8.856310          8.33262             25.397610   \n",
       "std          0.584303         0.810941          0.43290              0.385995   \n",
       "min         20.490000         6.520000          6.94000             24.525000   \n",
       "25%         25.155000         8.340000          8.09000             25.137000   \n",
       "50%         25.440000         8.910000          8.35000             25.404000   \n",
       "75%         25.760000         9.385000          8.64000             25.699000   \n",
       "max         26.530000        10.720000          9.35000             26.039000   \n",
       "\n",
       "       MA_yearly_berlin_temp  MA_yearly_global_temp  \n",
       "count             187.000000             187.000000  \n",
       "mean                8.833176               8.321171  \n",
       "std                 0.304480               0.343754  \n",
       "min                 8.287000               7.557000  \n",
       "25%                 8.605500               8.070000  \n",
       "50%                 8.820000               8.278000  \n",
       "75%                 9.036500               8.636500  \n",
       "max                 9.758000               9.066000  "
      ]
     },
     "metadata": {},
     "output_type": "display_data"
    },
    {
     "data": {
      "image/png": "[encoded data removed]",
      "text/plain": [
       "<Figure size 432x288 with 2 Axes>"
      ]
     },
     "metadata": {
      "needs_background": "light"
     },
     "output_type": "display_data"
    }
   ],
   "source": [
    "# correlation calculation\n",
    "\n",
    "display(df_merged_3_filtered.describe())\n",
    "\n",
    "sns.heatmap(df_merged_3_filtered.corr(), annot = True, fmt='.2g',cmap= 'coolwarm')\n",
    "plt.show()"
   ]
  },
  {
   "cell_type": "markdown",
   "metadata": {},
   "source": [
    "* Conclusion\n",
    "\n",
    "Dark red means positive. The stronger the color, the larger the correlation magnitude.Average temperate of dhaka is highly correlated with average temperature global which is 0.72.\n"
   ]
  },
  {
   "cell_type": "markdown",
   "metadata": {},
   "source": [
    "## Step 5. Observation"
   ]
  },
  {
   "cell_type": "markdown",
   "metadata": {},
   "source": [
    "Question 1: Is your city hotter or cooler on average compared to the global average? Has the difference been consistent over time?\n",
    "\n",
    "* Dhaka city is way more hotter comparing to global average.And this difference is consistant over time."
   ]
  },
  {
   "cell_type": "markdown",
   "metadata": {},
   "source": [
    "Question 2: How do the changes in your city’s temperatures over time compare to the changes in the global average?\n",
    "\n",
    "* Dhaka city's moving average yearly temperature fluctuate from 24.5°C to 26.5°C. And global temperature 7.4°C to 9.5°C."
   ]
  },
  {
   "cell_type": "markdown",
   "metadata": {},
   "source": [
    "Question 3: What does the overall trend look like? Is the world getting hotter or cooler? Has the trend been consistent over the last few hundred years?\n",
    "\n",
    "* Overall, Dhaka city and global  showed increasing temperature trend over the time.The world getting hotter.After 1950, world is getting hotter quickly.The trend is not consistant over the last few hundred years.Between 1800-1850, a temperate drop was obseved for both global and dhaka city.But berlin temperature fluctuate a lot and trend is no consistant.But overall berlin temperature is going up after 1900 century. Also berlin average temperature is 8.9°C and 25.5°C and 8.4°C for dhaka and global average temperature respectively.\n",
    "\n",
    "* There is positive co-relation observed among the city's. Dhaka city temperature is highly correlated to global temperature rather than Berlin."
   ]
  }
 ],
 "metadata": {
  "kernelspec": {
   "display_name": "Python 3",
   "language": "python",
   "name": "python3"
  },
  "language_info": {
   "codemirror_mode": {
    "name": "ipython",
    "version": 3
   },
   "file_extension": ".py",
   "mimetype": "text/x-python",
   "name": "python",
   "nbconvert_exporter": "python",
   "pygments_lexer": "ipython3",
   "version": "3.8.5"
  }
 },
 "nbformat": 4,
 "nbformat_minor": 4
}
