{
 "cells": [
  {
   "cell_type": "markdown",
   "metadata": {},
   "source": [
    "# Project: Investigate a Dataset (TMDb Movie Data)\n",
    "\n",
    "## Table of Contents\n",
    "\n",
    "* Introduction\n",
    "* Data Wrangling\n",
    "* Exploratory Data Analysis\n",
    "* Conclusions\n",
    "\n",
    "Introduction\n",
    "\n",
    "We choose the TMDb movie data set for data analysis. This data set contains information about 10,000 movies collected from The Movie Database (TMDb),we would like to find intresting patterns in the dataset.\n",
    "\n",
    "\n",
    " #### We're going to study:\n",
    " \n",
    " 1. What is the average runtime/budget/revenue of all movies?\n",
    " 2. Relation between Budget Vs Runtime and Revenue Vs Budget?\n",
    " 3. Which are the successfull genres?\n",
    " 4. Which genres are most popular from year to year?\n",
    " 5. Movie with Longest And Shortest Runtime?\n",
    " 6. Which Month Released Highest Number Of Movies In All Of The Years? And Which Month Made The Highest Average   Revenue?\n",
    " 7. Movie with highest And lowest revenue?\n"
   ]
  },
  {
   "cell_type": "code",
   "execution_count": null,
   "metadata": {},
   "outputs": [],
   "source": [
    "import pandas as pd\n",
    "import numpy as np\n",
    "import seaborn as sns\n",
    "import matplotlib.pyplot as plt\n",
    "from functools import reduce\n",
    "import datetime as dt\n",
    "from scipy import stats as st"
   ]
  },
  {
   "cell_type": "markdown",
   "metadata": {},
   "source": [
    "\n",
    "    \n",
    "## Step 1. Download the data and prepare it for analysis"
   ]
  },
  {
   "cell_type": "code",
   "execution_count": null,
   "metadata": {},
   "outputs": [],
   "source": [
    "movies = pd.read_csv('tmdb-movies.csv')\n",
    "display(movies.head(2))"
   ]
  },
  {
   "cell_type": "code",
   "execution_count": null,
   "metadata": {},
   "outputs": [],
   "source": [
    "# drop columns from 2008 dataset\n",
    "movies.drop(['homepage','imdb_id','keywords','tagline','overview','production_companies','budget_adj','revenue_adj','vote_count','cast','director'], axis=1, inplace=True)\n",
    "display(movies.head(2))"
   ]
  },
  {
   "cell_type": "code",
   "execution_count": null,
   "metadata": {},
   "outputs": [],
   "source": [
    "#Rearrange column name\n",
    "\n",
    "movies = pd.DataFrame(movies, columns =['id', 'original_title','genres', 'release_year','release_date','budget','revenue','vote_average','popularity','runtime'])\n",
    "movies= movies.query('budget > 0 & runtime > 0 & revenue > 0 ')\n",
    "display(movies.head(2))\n",
    "display(movies.info())\n",
    "movies = movies.dropna()\n",
    "display(movies.isnull().sum())"
   ]
  },
  {
   "cell_type": "markdown",
   "metadata": {},
   "source": [
    "\n",
    "\n",
    "* Conclusion:\n",
    "    \n",
    "1. The movies data set has 10866 rows and 9\n",
    "    columns\n",
    "2. There have no missing and duplicate values observed.And all The data types are correct."
   ]
  },
  {
   "cell_type": "markdown",
   "metadata": {},
   "source": [
    "\n",
    "    \n",
    "## Step 2. Exploratory data analysis\n",
    "    "
   ]
  },
  {
   "cell_type": "markdown",
   "metadata": {},
   "source": [
    "### Q1 : What is the average runtime/budget/revenue of all movies?"
   ]
  },
  {
   "cell_type": "code",
   "execution_count": null,
   "metadata": {},
   "outputs": [],
   "source": [
    "# Average runtime of movies\n",
    "print('Average movie run time:',movies['runtime'].mean())\n",
    "#histogram movie runtime\n",
    "plt.hist(movies[\"runtime\"],bins= 30,range=(0,300))\n",
    "plt.title(\"Movie runtime distribution\")\n",
    "plt.xlabel(\"runtime of movies\")\n",
    "plt.ylabel(\"number of movies\")\n",
    "plt.show()"
   ]
  },
  {
   "cell_type": "code",
   "execution_count": null,
   "metadata": {},
   "outputs": [],
   "source": [
    "# Average runtime of movies\n",
    "print('Average movie budget:',movies['budget'].mean())\n",
    "#histogram movie budget\n",
    "plt.hist(movies[\"budget\"],bins= 20,range=(0,350000000))\n",
    "plt.title(\"Movie budget distribution\")\n",
    "plt.xlabel(\"budget of movies\")\n",
    "plt.ylabel(\"number of movies\")\n",
    "plt.show()"
   ]
  },
  {
   "cell_type": "code",
   "execution_count": null,
   "metadata": {},
   "outputs": [],
   "source": [
    "# Average revenue of movies\n",
    "print('Average movie revenue:',movies['revenue'].mean())\n",
    "#histogram movie revenue\n",
    "plt.hist(movies[\"revenue\"],bins= 30,range=(0,1000000000))\n",
    "plt.title(\"Movie revenue distribution\")\n",
    "plt.xlabel(\"revenue of movies\")\n",
    "plt.ylabel(\"number of movies\")\n",
    "plt.show()"
   ]
  },
  {
   "cell_type": "markdown",
   "metadata": {},
   "source": [
    "* Conclusion:\n",
    "\n",
    "Average runtime of movies is approx. 102 minutes,Average movie budget is 40 millions and average revenue is approx. one billion.So average movie invest to profit ratio is approx. 2.5 times.But it is not same for all."
   ]
  },
  {
   "cell_type": "markdown",
   "metadata": {},
   "source": [
    "### Q2 : Relation between Budget Vs Runtime and Revenue Vs Budget?"
   ]
  },
  {
   "cell_type": "code",
   "execution_count": null,
   "metadata": {},
   "outputs": [],
   "source": [
    "#Budget Vs Runtime \n",
    "movies.plot(x='runtime', y='budget', kind='scatter', figsize=(8, 6), sharex=False, grid=True);\n",
    "plt.title(\"Movie budget Vs runtime\")\n",
    "plt.show()\n",
    "\n",
    "#correlation between budget Vs Runtime\n",
    "print('corelation between budget Vs Runtime',movies['budget'].corr(movies['runtime']))"
   ]
  },
  {
   "cell_type": "code",
   "execution_count": null,
   "metadata": {},
   "outputs": [],
   "source": [
    "#Revenue Vs Budget \n",
    "movies.plot(x='budget', y='revenue', kind='scatter', figsize=(8, 6), sharex=False, grid=True);\n",
    "plt.title(\"Movie revenue Vs budget\")\n",
    "plt.show()\n",
    "#correlation between budget Vs Runtime\n",
    "print('corelation between revenue Vs Budget',movies['revenue'].corr(movies['budget']))"
   ]
  },
  {
   "cell_type": "markdown",
   "metadata": {},
   "source": [
    "* Conclusion:\n",
    "\n",
    "\n",
    "\n",
    "1. There is a postive relation observed between budget and runtime.Most of the movies runtime is greater than 50 minutes and less than 200 minutes.Though there is a positive correlation, but higher run time of movies leads to low budget.It could be the editing factors and low optimized.Movies between 150-200 minutes leads to higher budget.\n",
    "\n",
    "1. There is a postive relation observed between revenue and budget.Most of the movies budget is not greater than 100 millions and average revenue is approx. one billion.Higher run budget movies leads to high revenue as well. For example, Two hundred million budget movies brings approx. 1.5 billions."
   ]
  },
  {
   "cell_type": "markdown",
   "metadata": {},
   "source": [
    "### Q3 : Which are the successfull genres?"
   ]
  },
  {
   "cell_type": "code",
   "execution_count": null,
   "metadata": {},
   "outputs": [],
   "source": [
    "#showing types of our movies \n",
    "print(movies.iloc[:,2].values)"
   ]
  },
  {
   "cell_type": "code",
   "execution_count": null,
   "metadata": {},
   "outputs": [],
   "source": [
    "count = pd.Series(movies['genres'].str.cat(sep = '|').split('|')).value_counts(ascending = False)\n",
    "count"
   ]
  },
  {
   "cell_type": "code",
   "execution_count": null,
   "metadata": {},
   "outputs": [],
   "source": [
    "# Initialize the plot for top 6 successful genre\n",
    "diagram = count[:6].plot.bar(fontsize = 10)\n",
    "# Set a title\n",
    "diagram.set(title = 'Top Genres')\n",
    "# x-label and y-label\n",
    "diagram.set_xlabel('Type of genres')\n",
    "diagram.set_ylabel('Number of Movies')\n",
    "# Show the plot\n",
    "plt.show()"
   ]
  },
  {
   "cell_type": "markdown",
   "metadata": {},
   "source": [
    "*Conclusion:\n",
    "\n",
    "The top six genres are Drama,comedy,thriller,action,adventure and romance."
   ]
  },
  {
   "cell_type": "markdown",
   "metadata": {},
   "source": [
    "### Q4 : Which genres are most popular from year to year?"
   ]
  },
  {
   "cell_type": "code",
   "execution_count": null,
   "metadata": {},
   "outputs": [],
   "source": [
    "#map all the rows of genres in a list.\n",
    "genre_details = list(map(str,(movies['genres'])))\n",
    "genre = ['Adventure', 'Science Fiction', 'Fantasy', 'Crime', 'Western', 'Family','Animation','War','Mystery','Romance','TV Movie','Action', 'Thriller','Comedy','Drama' , 'History', 'Music', 'Horror', 'Documentary', 'Foreign']\n",
    "\n",
    "#make the numpy array of year and popularity which contain all the rows of release_year and popularity column. \n",
    "year = np.array(movies['release_year'])\n",
    "popularity = np.array(movies['popularity'])\n",
    "\n",
    "#make a null dataframe which indexs are genres and columns are years.\n",
    "popularity_df = pd.DataFrame(index = genre, columns = range(1960, 2016))\n",
    "#change all the values of the dataframe from NAN to zero.\n",
    "popularity_df = popularity_df.fillna(value = 0.0)\n",
    "\n",
    "z = 0\n",
    "for i in genre_details:\n",
    "    split_genre = list(map(str,i.split('|')))\n",
    "    popularity_df.loc[split_genre, year[z]] = popularity_df.loc[split_genre, year[z]] + popularity[z]\n",
    "    z+=1"
   ]
  },
  {
   "cell_type": "code",
   "execution_count": null,
   "metadata": {},
   "outputs": [],
   "source": [
    "#calculate the standard deviation for the accurate results.\n",
    "def calculate_std(x):\n",
    "    return (x-x.mean())/x.std(ddof=0)\n",
    "\n",
    "popular_genre = calculate_std(popularity_df)\n",
    "popular_genre.head()"
   ]
  },
  {
   "cell_type": "code",
   "execution_count": null,
   "metadata": {},
   "outputs": [],
   "source": [
    "#How the top6 genre popularity differ year by year.\n",
    "sns.set_style(\"whitegrid\")\n",
    "#make a subplot of size 2,3.\n",
    "fig, ax = plt.subplots(2,3,figsize = (16,10))\n",
    "\n",
    "#set the title of the subplot.\n",
    "fig.suptitle('Genre Popularity Over Year To Year',fontsize = 16)\n",
    "\n",
    "#plot the 'Drama' genre plot see the popularity difference over year to year.\n",
    "popular_genre.loc['Drama'].plot(label = \"Drama\",color = '#f67280',ax = ax[0][0],legend=True)\n",
    "\n",
    "#plot the 'Comedy' genre plot see the popularity difference over year to year.\n",
    "popular_genre.loc['Comedy'].plot(label = \"Comedy\",color='#33FFB5',ax = ax[0][1],legend=True)\n",
    "\n",
    "#plot the 'Thriller' genre plot see the popularity difference over year to year.\n",
    "popular_genre.loc['Thriller'].plot(label = \"Thriller\",color='#33FFB5',ax = ax[0][2],legend=True)\n",
    "\n",
    "#plot the 'Action' genre plot see the popularity difference over year to year.\n",
    "popular_genre.loc['Action'].plot(label = \"Action\",color='#00818a',ax = ax[1][0],legend=True)\n",
    "\n",
    "#plot the 'Adventure' genre plot see the popularity difference over year to year.\n",
    "popular_genre.loc['Adventure'].plot(label = \"Adventure\",color='#08c299',ax = ax[1][1],legend=True)\n",
    "\n",
    "#plot the 'Adventure' genre plot see the popularity difference over year to year.\n",
    "popular_genre.loc['Romance'].plot(label = \"Romance\",color='#08c299',ax = ax[1][2],legend=True)\n",
    "plt.show()\n",
    "\n",
    "\n"
   ]
  },
  {
   "cell_type": "markdown",
   "metadata": {},
   "source": [
    "* Conclusion:\n",
    "\n",
    "Drama was most popular in the early years.But with the time it gets down trend.In the recent years, Drama is no longer popular genre for people.People are more interested in action genre in recent years."
   ]
  },
  {
   "cell_type": "markdown",
   "metadata": {},
   "source": [
    "### Q5 : Which Month Released Highest Number Of Movies In All Of The Years? And Which Month Made The Highest Average Revenue?"
   ]
  },
  {
   "cell_type": "code",
   "execution_count": null,
   "metadata": {},
   "outputs": [],
   "source": [
    "\n",
    "#extract the month number from the release date.\n",
    "movies['release_date'] = pd.to_datetime(movies['release_date'])\n",
    "movies['month'] = movies['release_date'].dt.month\n",
    "month_release = movies['release_date'].dt.month\n",
    "\n",
    "display(movies.head())\n",
    "\n",
    "#count the movies in each month using value_counts().\n",
    "number_of_release = month_release.value_counts().sort_index()\n",
    "\n",
    "months=['Jan','Feb','Mar','Apr','May','Jun','Jul','Aug','Sep','Oct','Nov','Dec']\n",
    "number_of_release = pd.DataFrame(number_of_release)\n",
    "number_of_release['month'] = months\n",
    "\n",
    "#change the column name of the new dataframe 'number_of_release'\n",
    "number_of_release.rename(columns = {'release_date':'number_of_release'},inplace=True)\n",
    "\n",
    "#plot the bar graph using plot.\n",
    "number_of_release.plot(x='month',kind='bar',fontsize = 11,figsize=(8,6))\n",
    "\n",
    "#set the labels and titles of the plot.\n",
    "plt.title('Months vs Number Of Movie Releases',fontsize = 15)\n",
    "plt.xlabel('Month',fontsize = 13)\n",
    "plt.ylabel('Number of movie releases',fontsize = 13)\n",
    "sns.set_style(\"darkgrid\")"
   ]
  },
  {
   "cell_type": "code",
   "execution_count": null,
   "metadata": {},
   "outputs": [],
   "source": [
    "#which month made the highest average revenue?.\n",
    "#make a dataframe with in which store the release month of each movie.\n",
    "month_release = pd.DataFrame(month_release)\n",
    "\n",
    "#change the column name of the new dataframe 'month_release'.\n",
    "month_release.rename(columns = {'release_date':'release_month'},inplace=True)\n",
    "\n",
    "#add a new column 'revenue' in the dataframe 'month_release'.\n",
    "month_release['revenue'] = movies['revenue']\n",
    "\n",
    "#make the group of the data according to their month and calculate the mean revenue of each month.\n",
    "mean_revenue  = month_release.groupby('release_month').mean()\n",
    "mean_revenue['month'] = months\n",
    "\n",
    "#make the bar plot using pandas plot function.\n",
    "mean_revenue.plot(x='month',kind='bar',figsize = (8,6),fontsize=11)\n",
    "\n",
    "#setup the title and lables of the plot.\n",
    "plt.title('Average revenue by month (1960 - 2015)',fontsize = 15)\n",
    "plt.xlabel('Month',fontsize = 13)\n",
    "plt.ylabel('Average Revenue',fontsize = 13)\n",
    "sns.set_style(\"darkgrid\")"
   ]
  },
  {
   "cell_type": "markdown",
   "metadata": {},
   "source": [
    "* Conclusion:\n",
    "\n",
    "Highest number of movies were released in the month of september and december.And highest revenue is earned in June,May and November."
   ]
  },
  {
   "cell_type": "markdown",
   "metadata": {},
   "source": [
    "### Q6 : Movie with Longest And Shortest Runtime?"
   ]
  },
  {
   "cell_type": "code",
   "execution_count": null,
   "metadata": {},
   "outputs": [],
   "source": [
    "#top 5 Movies With Longest runtime\n",
    "#sort the 'runtime' column in decending order and store it in the new dataframe.\n",
    "info = pd.DataFrame(movies['runtime'].sort_values(ascending = False))\n",
    "info['original_title'] = movies['original_title']\n",
    "data = list(map(str,(info['original_title'])))\n",
    "\n",
    "#extract the top 10 longest duraton movies data from the list and dataframe.\n",
    "x = list(data[:5])\n",
    "y = list(info['runtime'][:5])\n",
    "\n",
    "#make the point plot and setup the title and labels.\n",
    "ax = sns.pointplot(x=y,y=x)\n",
    "sns.set(rc={'figure.figsize':(10,5)})\n",
    "ax.set_title(\"Top 5 Longest Movies\",fontsize = 15)\n",
    "ax.set_xlabel(\"Runtime\",fontsize = 13)\n",
    "sns.set_style(\"darkgrid\")"
   ]
  },
  {
   "cell_type": "markdown",
   "metadata": {},
   "source": [
    "Top 5 longest movies are:\n",
    "1. carlos\n",
    "2. cleopatra\n",
    "3. heaven's gate\n",
    "4. lawrence of arabia\n",
    "5. gods and generals\n",
    "\n",
    "carlos is the longest movie which is close to 340 minutes."
   ]
  },
  {
   "cell_type": "code",
   "execution_count": null,
   "metadata": {},
   "outputs": [],
   "source": [
    "#top 5 Movies With shortest runtime\n",
    "#sort the 'runtime' column in decending order and store it in the new dataframe.\n",
    "info = pd.DataFrame(movies['runtime'].sort_values(ascending = True))\n",
    "info['original_title'] = movies['original_title']\n",
    "data = list(map(str,(info['original_title'])))\n",
    "\n",
    "#extract the top 10 longest duraton movies data from the list and dataframe.\n",
    "x = list(data[:5])\n",
    "y = list(info['runtime'][:5])\n",
    "\n",
    "#make the point plot and setup the title and labels.\n",
    "ax = sns.pointplot(x=y,y=x)\n",
    "sns.set(rc={'figure.figsize':(10,5)})\n",
    "ax.set_title(\"Top 5 shortest Movies\",fontsize = 15)\n",
    "ax.set_xlabel(\"Runtime\",fontsize = 13)\n",
    "sns.set_style(\"darkgrid\")"
   ]
  },
  {
   "cell_type": "markdown",
   "metadata": {},
   "source": [
    "Top 5 shortest movies are:\n",
    "\n",
    "1. kid's story\n",
    "2. mickey's christmas carol\n",
    "3. dr. horrible's sing along blog\n",
    "4. louis C.K at the beacon theater\n",
    "5. winnie the pooh\n",
    "\n",
    "kid's story is less than 20 minutes whereas louis C.K at the beacon theater and winnie the pooh is around 60 minutes."
   ]
  },
  {
   "cell_type": "markdown",
   "metadata": {},
   "source": [
    "### Q7 : Movie with highest And lowest Revenue?"
   ]
  },
  {
   "cell_type": "code",
   "execution_count": null,
   "metadata": {},
   "outputs": [],
   "source": [
    "#top 5 movies which made highest revenue.\n",
    "#sort the 'revenue' column in decending order and store it in the new dataframe.\n",
    "info = pd.DataFrame(movies['revenue'].sort_values(ascending = False))\n",
    "info['original_title'] = movies['original_title']\n",
    "data = list(map(str,(info['original_title'])))\n",
    "\n",
    "#extract the top 10 movies with high revenue data from the list and dataframe.\n",
    "x = list(data[:5])\n",
    "y = list(info['revenue'][:5])\n",
    "\n",
    "#make the point plot and setup the title and labels.\n",
    "ax = sns.pointplot(x=y,y=x)\n",
    "sns.set(rc={'figure.figsize':(10,5)})\n",
    "ax.set_title(\"Top 5 High Revenue Movies\",fontsize = 15)\n",
    "ax.set_xlabel(\"Revenue\",fontsize = 13)\n",
    "sns.set_style(\"darkgrid\")"
   ]
  },
  {
   "cell_type": "markdown",
   "metadata": {},
   "source": [
    "* Conclusion:\n",
    "\n",
    "Top high revenue movies are:\n",
    "1. Avatar\n",
    "2. star wars\n",
    "3. titanic\n",
    "4. the avengers\n",
    "5. jurrasic world\n",
    "\n",
    "Avatar earned almost two billion eight hundred million which is higher than any other movies in the given time period."
   ]
  },
  {
   "cell_type": "code",
   "execution_count": null,
   "metadata": {},
   "outputs": [],
   "source": [
    "#top 5 movies which made lowest revenue.\n",
    "#sort the 'revenue' column in decending order and store it in the new dataframe.\n",
    "info = pd.DataFrame(movies['revenue'].sort_values(ascending = True))\n",
    "info['original_title'] = movies['original_title']\n",
    "data = list(map(str,(info['original_title'])))\n",
    "\n",
    "#extract the top 10 movies with high revenue data from the list and dataframe.\n",
    "x = list(data[:5])\n",
    "y = list(info['revenue'][:5])\n",
    "\n",
    "#make the point plot and setup the title and labels.\n",
    "ax = sns.pointplot(x=y,y=x)\n",
    "sns.set(rc={'figure.figsize':(10,5)})\n",
    "ax.set_title(\"Top 5 low Revenue Movies\",fontsize = 15)\n",
    "ax.set_xlabel(\"Revenue\",fontsize = 13)\n",
    "sns.set_style(\"darkgrid\")"
   ]
  },
  {
   "cell_type": "markdown",
   "metadata": {},
   "source": [
    "Top low revenue movies are:\n",
    "\n",
    "1. shattered glass\n",
    "2. mallrats\n",
    "3. dr. horrible's sing along blog\n",
    "4. bordello of blood\n",
    "5. kid's story\n",
    "\n",
    "The lowest revnue movies are suspicious.For example shattered glass and mallrats earned 2$.This data is not acceptable in reality.There might be some information missing.\n"
   ]
  },
  {
   "cell_type": "markdown",
   "metadata": {},
   "source": [
    "## Step 3. Test the following hypothesis"
   ]
  },
  {
   "cell_type": "markdown",
   "metadata": {},
   "source": [
    "#### Test : Average movie revenue is not higher in may than june all over the time period"
   ]
  },
  {
   "cell_type": "markdown",
   "metadata": {},
   "source": [
    "**Testing:**\n",
    "Let's compare the sample means for user score:\n",
    "1. H0  - the sample means have no difference.\n",
    "1. H1  - the sample means are different.\n",
    "1. alpha - 0.05"
   ]
  },
  {
   "cell_type": "code",
   "execution_count": null,
   "metadata": {},
   "outputs": [],
   "source": [
    "revenue_may=movies.query('month == 6')\n",
    "revenue_june=movies.query('month == 5')\n",
    "\n",
    "revenue_may_2=revenue_may['revenue']\n",
    "revenue_june_2=revenue_june['revenue']\n",
    "display(revenue_may_2.head())\n",
    "print('revenue_may_2 std:', revenue_may_2.std(), '\\nrevenue_june_2 std:', revenue_june_2.std())"
   ]
  },
  {
   "cell_type": "code",
   "execution_count": null,
   "metadata": {},
   "outputs": [],
   "source": [
    "alpha = .05   #critical statistical significance level\n",
    "\n",
    "results = st.ttest_ind(revenue_may_2, revenue_june_2,equal_var = False) \n",
    "\n",
    "print('p-value:',results.pvalue) \n",
    "\n",
    "if (results.pvalue < alpha):\n",
    "    print(\"We reject the null hypothesis\")\n",
    "else:\n",
    "    print(\"We can't reject the null hypothesis\")"
   ]
  },
  {
   "cell_type": "markdown",
   "metadata": {},
   "source": [
    "* Conclusion:\n",
    "    \n",
    "From our hypothesis, it is clear that the average movie revenue is higher in june than may all over the time period."
   ]
  },
  {
   "cell_type": "markdown",
   "metadata": {},
   "source": [
    "# Overall conclusion:\n",
    "\n",
    "1. The movies data set has 10866 rows and 9 columns.\n",
    "1. There have no missing and duplicate values observed.And all The data types are correct.\n",
    "1. Average runtime of movies is approx. 102 minutes,Average movie budget is 40 millions and average revenue is approx. one billion.So average movie invest to profit ratio is approx. 2.5 times.But it is not same for all.\n",
    "1. There is a postive relation observed between budget and runtime.Most of the movies runtime is greater than 50 minutes and less than 200 minutes.Though there is a positive correlation, but higher run time of movies leads to low budget.It could be the editing factors and low optimized.Movies between 150-200 minutes leads to higher budget.\n",
    "1. There is a postive relation observed between revenue and budget.Most of the movies budget is not greater than 100 millions and average revenue is approx. one billion.Higher run budget movies leads to high revenue as well. For example, Two hundred million budget movies brings approx. 1.5 billions.\n",
    "1. The top six genres are Drama,comedy,thriller,action,adventure and romance.\n",
    "1. Drama was most popular in the early years.But with the time it gets down trend.In the recent years, Drama is no longer popular genre for people.People are more interested in action genre in recent years.\n",
    "1. Highest number of movies were released in the month of september and december.And highest revenue is earned in June,May and November.\n",
    "1. From our hypothesis, it is clear that the average movie revenue is higher in june than may all over the time period.\n",
    "1. Top 5 longest movies are:\n",
    "\n",
    "* carlos\n",
    "* cleopatra\n",
    "* heaven's gate\n",
    "* lawrence of arabia\n",
    "* gods and genera \n",
    "\n",
    "Top 5 shortest movies are:\n",
    "\n",
    "* kid's story\n",
    "* mickey's christmas carol\n",
    "* dr. horrible's sing along blog\n",
    "* louis C.K at the beacon theater\n",
    "* winnie the pooh\n",
    "\n",
    "# Limitations:\n",
    "\n",
    "\n",
    "1. The lowest revnue movies are suspicious.For example shattered glass and mallrats earned 2 unit currency.This data is not acceptable in reality.There might be some information missing.\n",
    "1. The budget and revenue columns did not have a currency specified so there may be some differences due to fluctuating exchange rates. \n",
    "1. Rows with NaN values were dropped, hence a lot of key data might have been lost in the process.\n",
    "1. People having higher expectations gives less probability of meeting their expectations. Even if the movie was worth, people's high expectations would lead in biased results ultimately effecting the profits."
   ]
  },
  {
   "cell_type": "code",
   "execution_count": null,
   "metadata": {},
   "outputs": [],
   "source": []
  }
 ],
 "metadata": {
  "kernelspec": {
   "display_name": "Python 3",
   "language": "python",
   "name": "python3"
  },
  "language_info": {
   "codemirror_mode": {
    "name": "ipython",
    "version": 3
   },
   "file_extension": ".py",
   "mimetype": "text/x-python",
   "name": "python",
   "nbconvert_exporter": "python",
   "pygments_lexer": "ipython3",
   "version": "3.8.5"
  }
 },
 "nbformat": 4,
 "nbformat_minor": 4
}
