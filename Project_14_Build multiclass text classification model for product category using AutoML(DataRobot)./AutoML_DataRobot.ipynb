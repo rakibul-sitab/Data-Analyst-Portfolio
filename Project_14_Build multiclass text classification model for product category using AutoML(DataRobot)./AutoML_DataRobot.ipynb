{
 "cells": [
  {
   "cell_type": "code",
   "execution_count": 1,
   "id": "b7c99e12",
   "metadata": {},
   "outputs": [],
   "source": [
    "import pandas as pd\n",
    "import numpy as np\n",
    "#import gensim\n",
    "#from gensim.models import Word2Vec\n",
    "#from gensim.models import FastText\n",
    "#from sklearn.decomposition import PCA\n",
    "from matplotlib import pyplot"
   ]
  },
  {
   "cell_type": "code",
   "execution_count": 2,
   "id": "3916d0b9",
   "metadata": {},
   "outputs": [
    {
     "name": "stderr",
     "output_type": "stream",
     "text": [
      "[nltk_data] Downloading package stopwords to\n",
      "[nltk_data]     C:\\Users\\user\\AppData\\Roaming\\nltk_data...\n",
      "[nltk_data]   Package stopwords is already up-to-date!\n",
      "[nltk_data] Downloading package wordnet to\n",
      "[nltk_data]     C:\\Users\\user\\AppData\\Roaming\\nltk_data...\n",
      "[nltk_data]   Package wordnet is already up-to-date!\n",
      "[nltk_data] Downloading package punkt to\n",
      "[nltk_data]     C:\\Users\\user\\AppData\\Roaming\\nltk_data...\n",
      "[nltk_data]   Package punkt is already up-to-date!\n"
     ]
    },
    {
     "data": {
      "text/plain": [
       "True"
      ]
     },
     "execution_count": 2,
     "metadata": {},
     "output_type": "execute_result"
    }
   ],
   "source": [
    "import matplotlib.pyplot as plt # our main display package\n",
    "import plotly.graph_objects as go\n",
    "import string # used for preprocessing\n",
    "import re # used for preprocessing\n",
    "import nltk # the Natural Language Toolkit, used for preprocessing\n",
    "import numpy as np # used for managing NaNs\n",
    "import nltk\n",
    "from nltk.tokenize import word_tokenize\n",
    "from nltk.corpus import stopwords # used for preprocessing\n",
    "from nltk.stem import WordNetLemmatizer # used for preprocessing\n",
    "from sklearn.model_selection import train_test_split\n",
    "nltk.download('stopwords')\n",
    "nltk.download('wordnet')\n",
    "nltk.download('punkt')"
   ]
  },
  {
   "cell_type": "markdown",
   "id": "83f0983d",
   "metadata": {},
   "source": [
    "<div style=\"border:solid black 2px; padding: 10px\">\n",
    "    \n",
    "## Load complaints csv file"
   ]
  },
  {
   "cell_type": "code",
   "execution_count": 3,
   "id": "1737380d",
   "metadata": {},
   "outputs": [
    {
     "name": "stderr",
     "output_type": "stream",
     "text": [
      "C:\\Users\\user\\anaconda3\\lib\\site-packages\\IPython\\core\\interactiveshell.py:3444: DtypeWarning: Columns (9) have mixed types.Specify dtype option on import or set low_memory=False.\n",
      "  exec(code_obj, self.user_global_ns, self.user_ns)\n"
     ]
    }
   ],
   "source": [
    "data = pd.read_csv('complaints.csv')\n"
   ]
  },
  {
   "cell_type": "code",
   "execution_count": 4,
   "id": "e53e3f65",
   "metadata": {},
   "outputs": [
    {
     "name": "stdout",
     "output_type": "stream",
     "text": [
      "<class 'pandas.core.frame.DataFrame'>\n",
      "RangeIndex: 2773556 entries, 0 to 2773555\n",
      "Data columns (total 18 columns):\n",
      " #   Column                        Dtype \n",
      "---  ------                        ----- \n",
      " 0   Date received                 object\n",
      " 1   Product                       object\n",
      " 2   Sub-product                   object\n",
      " 3   Issue                         object\n",
      " 4   Sub-issue                     object\n",
      " 5   Consumer complaint narrative  object\n",
      " 6   Company public response       object\n",
      " 7   Company                       object\n",
      " 8   State                         object\n",
      " 9   ZIP code                      object\n",
      " 10  Tags                          object\n",
      " 11  Consumer consent provided?    object\n",
      " 12  Submitted via                 object\n",
      " 13  Date sent to company          object\n",
      " 14  Company response to consumer  object\n",
      " 15  Timely response?              object\n",
      " 16  Consumer disputed?            object\n",
      " 17  Complaint ID                  int64 \n",
      "dtypes: int64(1), object(17)\n",
      "memory usage: 380.9+ MB\n"
     ]
    }
   ],
   "source": [
    "data.info()"
   ]
  },
  {
   "cell_type": "code",
   "execution_count": 5,
   "id": "72beacde",
   "metadata": {},
   "outputs": [],
   "source": [
    "#taking only first 1,00,000 rows\n",
    "\n",
    "df =data.iloc[:100000,:]"
   ]
  },
  {
   "cell_type": "code",
   "execution_count": 6,
   "id": "08aef6ca",
   "metadata": {},
   "outputs": [
    {
     "name": "stdout",
     "output_type": "stream",
     "text": [
      "<class 'pandas.core.frame.DataFrame'>\n",
      "RangeIndex: 100000 entries, 0 to 99999\n",
      "Data columns (total 18 columns):\n",
      " #   Column                        Non-Null Count   Dtype \n",
      "---  ------                        --------------   ----- \n",
      " 0   Date received                 100000 non-null  object\n",
      " 1   Product                       100000 non-null  object\n",
      " 2   Sub-product                   99998 non-null   object\n",
      " 3   Issue                         100000 non-null  object\n",
      " 4   Sub-issue                     92845 non-null   object\n",
      " 5   Consumer complaint narrative  34520 non-null   object\n",
      " 6   Company public response       46159 non-null   object\n",
      " 7   Company                       100000 non-null  object\n",
      " 8   State                         99574 non-null   object\n",
      " 9   ZIP code                      99541 non-null   object\n",
      " 10  Tags                          9721 non-null    object\n",
      " 11  Consumer consent provided?    69411 non-null   object\n",
      " 12  Submitted via                 100000 non-null  object\n",
      " 13  Date sent to company          100000 non-null  object\n",
      " 14  Company response to consumer  100000 non-null  object\n",
      " 15  Timely response?              100000 non-null  object\n",
      " 16  Consumer disputed?            19 non-null      object\n",
      " 17  Complaint ID                  100000 non-null  int64 \n",
      "dtypes: int64(1), object(17)\n",
      "memory usage: 13.7+ MB\n"
     ]
    }
   ],
   "source": [
    "df.info()"
   ]
  },
  {
   "cell_type": "code",
   "execution_count": 7,
   "id": "d74f396f",
   "metadata": {},
   "outputs": [],
   "source": [
    "complain = df[['Product','Consumer complaint narrative']]\n",
    "complain_df = data[['Product','Consumer complaint narrative']]"
   ]
  },
  {
   "cell_type": "code",
   "execution_count": 8,
   "id": "1911dd73",
   "metadata": {},
   "outputs": [
    {
     "data": {
      "text/html": [
       "<div>\n",
       "<style scoped>\n",
       "    .dataframe tbody tr th:only-of-type {\n",
       "        vertical-align: middle;\n",
       "    }\n",
       "\n",
       "    .dataframe tbody tr th {\n",
       "        vertical-align: top;\n",
       "    }\n",
       "\n",
       "    .dataframe thead th {\n",
       "        text-align: right;\n",
       "    }\n",
       "</style>\n",
       "<table border=\"1\" class=\"dataframe\">\n",
       "  <thead>\n",
       "    <tr style=\"text-align: right;\">\n",
       "      <th></th>\n",
       "      <th>Product</th>\n",
       "      <th>Consumer complaint narrative</th>\n",
       "    </tr>\n",
       "  </thead>\n",
       "  <tbody>\n",
       "    <tr>\n",
       "      <th>0</th>\n",
       "      <td>Credit reporting, credit repair services, or o...</td>\n",
       "      <td>NaN</td>\n",
       "    </tr>\n",
       "    <tr>\n",
       "      <th>1</th>\n",
       "      <td>Credit reporting, credit repair services, or o...</td>\n",
       "      <td>This consumer reporting agency as defined by l...</td>\n",
       "    </tr>\n",
       "    <tr>\n",
       "      <th>2</th>\n",
       "      <td>Debt collection</td>\n",
       "      <td>NaN</td>\n",
       "    </tr>\n",
       "    <tr>\n",
       "      <th>3</th>\n",
       "      <td>Credit reporting, credit repair services, or o...</td>\n",
       "      <td>SOME FRAUDULENT ACCOUNTS WERE ON MY CREDIT REP...</td>\n",
       "    </tr>\n",
       "    <tr>\n",
       "      <th>4</th>\n",
       "      <td>Checking or savings account</td>\n",
       "      <td>NaN</td>\n",
       "    </tr>\n",
       "  </tbody>\n",
       "</table>\n",
       "</div>"
      ],
      "text/plain": [
       "                                             Product  \\\n",
       "0  Credit reporting, credit repair services, or o...   \n",
       "1  Credit reporting, credit repair services, or o...   \n",
       "2                                    Debt collection   \n",
       "3  Credit reporting, credit repair services, or o...   \n",
       "4                        Checking or savings account   \n",
       "\n",
       "                        Consumer complaint narrative  \n",
       "0                                                NaN  \n",
       "1  This consumer reporting agency as defined by l...  \n",
       "2                                                NaN  \n",
       "3  SOME FRAUDULENT ACCOUNTS WERE ON MY CREDIT REP...  \n",
       "4                                                NaN  "
      ]
     },
     "execution_count": 8,
     "metadata": {},
     "output_type": "execute_result"
    }
   ],
   "source": [
    "complain.head()"
   ]
  },
  {
   "cell_type": "code",
   "execution_count": 9,
   "id": "188248e6",
   "metadata": {},
   "outputs": [
    {
     "name": "stderr",
     "output_type": "stream",
     "text": [
      "C:\\Users\\user\\anaconda3\\lib\\site-packages\\pandas\\util\\_decorators.py:311: SettingWithCopyWarning: \n",
      "A value is trying to be set on a copy of a slice from a DataFrame\n",
      "\n",
      "See the caveats in the documentation: https://pandas.pydata.org/pandas-docs/stable/user_guide/indexing.html#returning-a-view-versus-a-copy\n",
      "  return func(*args, **kwargs)\n"
     ]
    }
   ],
   "source": [
    "# droppping null values\n",
    "\n",
    "complain.dropna(inplace =True)\n",
    "complain.reset_index(inplace=True)\n",
    "\n",
    "complain_df.dropna(inplace =True)\n",
    "complain_df.reset_index(inplace=True)\n"
   ]
  },
  {
   "cell_type": "code",
   "execution_count": 10,
   "id": "0d4d089e",
   "metadata": {},
   "outputs": [
    {
     "data": {
      "text/html": [
       "<div>\n",
       "<style scoped>\n",
       "    .dataframe tbody tr th:only-of-type {\n",
       "        vertical-align: middle;\n",
       "    }\n",
       "\n",
       "    .dataframe tbody tr th {\n",
       "        vertical-align: top;\n",
       "    }\n",
       "\n",
       "    .dataframe thead th {\n",
       "        text-align: right;\n",
       "    }\n",
       "</style>\n",
       "<table border=\"1\" class=\"dataframe\">\n",
       "  <thead>\n",
       "    <tr style=\"text-align: right;\">\n",
       "      <th></th>\n",
       "      <th>index</th>\n",
       "      <th>Product</th>\n",
       "      <th>Consumer complaint narrative</th>\n",
       "    </tr>\n",
       "  </thead>\n",
       "  <tbody>\n",
       "    <tr>\n",
       "      <th>0</th>\n",
       "      <td>1</td>\n",
       "      <td>Credit reporting, credit repair services, or o...</td>\n",
       "      <td>This consumer reporting agency as defined by l...</td>\n",
       "    </tr>\n",
       "    <tr>\n",
       "      <th>1</th>\n",
       "      <td>3</td>\n",
       "      <td>Credit reporting, credit repair services, or o...</td>\n",
       "      <td>SOME FRAUDULENT ACCOUNTS WERE ON MY CREDIT REP...</td>\n",
       "    </tr>\n",
       "    <tr>\n",
       "      <th>2</th>\n",
       "      <td>10</td>\n",
       "      <td>Checking or savings account</td>\n",
       "      <td>I set up a recurring scheduled payment on my c...</td>\n",
       "    </tr>\n",
       "    <tr>\n",
       "      <th>3</th>\n",
       "      <td>19</td>\n",
       "      <td>Credit reporting, credit repair services, or o...</td>\n",
       "      <td>Bank of america is a very reputable bank and h...</td>\n",
       "    </tr>\n",
       "    <tr>\n",
       "      <th>4</th>\n",
       "      <td>22</td>\n",
       "      <td>Credit reporting, credit repair services, or o...</td>\n",
       "      <td>In accordance with the Fair Credit Reporting A...</td>\n",
       "    </tr>\n",
       "  </tbody>\n",
       "</table>\n",
       "</div>"
      ],
      "text/plain": [
       "   index                                            Product  \\\n",
       "0      1  Credit reporting, credit repair services, or o...   \n",
       "1      3  Credit reporting, credit repair services, or o...   \n",
       "2     10                        Checking or savings account   \n",
       "3     19  Credit reporting, credit repair services, or o...   \n",
       "4     22  Credit reporting, credit repair services, or o...   \n",
       "\n",
       "                        Consumer complaint narrative  \n",
       "0  This consumer reporting agency as defined by l...  \n",
       "1  SOME FRAUDULENT ACCOUNTS WERE ON MY CREDIT REP...  \n",
       "2  I set up a recurring scheduled payment on my c...  \n",
       "3  Bank of america is a very reputable bank and h...  \n",
       "4  In accordance with the Fair Credit Reporting A...  "
      ]
     },
     "execution_count": 10,
     "metadata": {},
     "output_type": "execute_result"
    }
   ],
   "source": [
    "complain.head()"
   ]
  },
  {
   "cell_type": "code",
   "execution_count": 11,
   "id": "79b4791f",
   "metadata": {},
   "outputs": [],
   "source": [
    "complain = complain.rename(columns={'Product': 'product','Consumer complaint narrative':'customer_complain'})"
   ]
  },
  {
   "cell_type": "code",
   "execution_count": 12,
   "id": "527b4e99",
   "metadata": {},
   "outputs": [],
   "source": [
    "complain  = complain[['product','customer_complain']]"
   ]
  },
  {
   "cell_type": "code",
   "execution_count": 13,
   "id": "7e982989",
   "metadata": {},
   "outputs": [
    {
     "data": {
      "text/html": [
       "<div>\n",
       "<style scoped>\n",
       "    .dataframe tbody tr th:only-of-type {\n",
       "        vertical-align: middle;\n",
       "    }\n",
       "\n",
       "    .dataframe tbody tr th {\n",
       "        vertical-align: top;\n",
       "    }\n",
       "\n",
       "    .dataframe thead th {\n",
       "        text-align: right;\n",
       "    }\n",
       "</style>\n",
       "<table border=\"1\" class=\"dataframe\">\n",
       "  <thead>\n",
       "    <tr style=\"text-align: right;\">\n",
       "      <th></th>\n",
       "      <th>product</th>\n",
       "      <th>customer_complain</th>\n",
       "    </tr>\n",
       "  </thead>\n",
       "  <tbody>\n",
       "    <tr>\n",
       "      <th>0</th>\n",
       "      <td>Credit reporting, credit repair services, or o...</td>\n",
       "      <td>This consumer reporting agency as defined by l...</td>\n",
       "    </tr>\n",
       "    <tr>\n",
       "      <th>1</th>\n",
       "      <td>Credit reporting, credit repair services, or o...</td>\n",
       "      <td>SOME FRAUDULENT ACCOUNTS WERE ON MY CREDIT REP...</td>\n",
       "    </tr>\n",
       "    <tr>\n",
       "      <th>2</th>\n",
       "      <td>Checking or savings account</td>\n",
       "      <td>I set up a recurring scheduled payment on my c...</td>\n",
       "    </tr>\n",
       "    <tr>\n",
       "      <th>3</th>\n",
       "      <td>Credit reporting, credit repair services, or o...</td>\n",
       "      <td>Bank of america is a very reputable bank and h...</td>\n",
       "    </tr>\n",
       "    <tr>\n",
       "      <th>4</th>\n",
       "      <td>Credit reporting, credit repair services, or o...</td>\n",
       "      <td>In accordance with the Fair Credit Reporting A...</td>\n",
       "    </tr>\n",
       "  </tbody>\n",
       "</table>\n",
       "</div>"
      ],
      "text/plain": [
       "                                             product  \\\n",
       "0  Credit reporting, credit repair services, or o...   \n",
       "1  Credit reporting, credit repair services, or o...   \n",
       "2                        Checking or savings account   \n",
       "3  Credit reporting, credit repair services, or o...   \n",
       "4  Credit reporting, credit repair services, or o...   \n",
       "\n",
       "                                   customer_complain  \n",
       "0  This consumer reporting agency as defined by l...  \n",
       "1  SOME FRAUDULENT ACCOUNTS WERE ON MY CREDIT REP...  \n",
       "2  I set up a recurring scheduled payment on my c...  \n",
       "3  Bank of america is a very reputable bank and h...  \n",
       "4  In accordance with the Fair Credit Reporting A...  "
      ]
     },
     "execution_count": 13,
     "metadata": {},
     "output_type": "execute_result"
    }
   ],
   "source": [
    "complain.head()"
   ]
  },
  {
   "cell_type": "code",
   "execution_count": 14,
   "id": "60940108",
   "metadata": {},
   "outputs": [
    {
     "data": {
      "text/plain": [
       "(34520, 2)"
      ]
     },
     "execution_count": 14,
     "metadata": {},
     "output_type": "execute_result"
    }
   ],
   "source": [
    "complain.shape"
   ]
  },
  {
   "cell_type": "markdown",
   "id": "9add14a3",
   "metadata": {},
   "source": [
    "### Cleaning the text"
   ]
  },
  {
   "cell_type": "code",
   "execution_count": 15,
   "id": "9c51ad1c",
   "metadata": {},
   "outputs": [],
   "source": [
    "# function to remove all urls\n",
    "def remove_urls(text):    \n",
    "    new_text = ' '.join(re.sub(\"(@[A-Za-z0-9]+)|([^0-9A-Za-z \\t])|(\\w+:\\/\\/\\S+)\",\" \",text).split())\n",
    "    return new_text\n",
    "\n",
    "# make all text lowercase\n",
    "def text_lowercase(text):\n",
    "    return text.lower()\n",
    "\n",
    "# remove numbers\n",
    "def remove_numbers(text):\n",
    "    result = re.sub(r'\\d+', '', text)\n",
    "    return result\n",
    "\n",
    "# remove punctuation\n",
    "def remove_punctuation(text):\n",
    "    translator = str.maketrans('', '', string.punctuation)\n",
    "    return text.translate(translator)\n",
    "\n",
    "# tokenize\n",
    "def tokenize(text):\n",
    "    text = word_tokenize(text)\n",
    "    return text\n",
    "\n",
    "# remove stopwords\n",
    "stop_words = set(stopwords.words('english'))\n",
    "def remove_stopwords(text):\n",
    "    text = [i for i in text if not i in stop_words]\n",
    "    return text\n",
    "\n",
    "# lemmatize Words \n",
    "lemmatizer = WordNetLemmatizer()\n",
    "def lemmatize(text):\n",
    "    text = [lemmatizer.lemmatize(token) for token in text]\n",
    "    return text\n",
    "\n",
    "#Creating one function so that all functions can be applied at once\n",
    "def preprocessing(text):\n",
    "    \n",
    "    text = text_lowercase(text)\n",
    "    text = remove_urls(text)\n",
    "    text = remove_numbers(text)\n",
    "    text = remove_punctuation(text)\n",
    "    text = tokenize(text)\n",
    "    text = remove_stopwords(text)\n",
    "    text = lemmatize(text)\n",
    "    text = ' '.join(text)\n",
    "    return text"
   ]
  },
  {
   "cell_type": "markdown",
   "id": "6d62daf6",
   "metadata": {},
   "source": [
    "## product mapping : 18 class to 8 class"
   ]
  },
  {
   "cell_type": "code",
   "execution_count": 16,
   "id": "f52b4188",
   "metadata": {},
   "outputs": [],
   "source": [
    "product_map = {'Vehicle loan or lease': 'vehicle loan',\n",
    "              'Credit reporting, credit repair services, or other personal consumer reports':'credit report',\n",
    "              'Credit card or prepaid card': 'card',\n",
    "              'Money transfer, virtual currency, or money service': 'money transfer',\n",
    "              'virtual currency': 'money transfer',\n",
    "              'Mortgage': 'mortgage',\n",
    "               'Payday loan, title loan, or personal loan': 'loan',\n",
    "               'Debt collection': 'debt collection',\n",
    "               'Checking or savings account': 'savings account',\n",
    "               'Credit card': 'card',\n",
    "               'Bank account or service': 'savings account',\n",
    "               'Credit reporting': 'credit report',\n",
    "               'Prepaid card': 'card',\n",
    "               'Payday loan': 'loan',\n",
    "               'Virtual currency': 'money transfer',\n",
    "               'Student loan': 'loan',\n",
    "               'Consumer Loan': 'loan',\n",
    "               'Money transfers': 'money transfer'\n",
    "              }\n",
    "\n",
    "complain.replace({\"product\": product_map}, inplace=True)"
   ]
  },
  {
   "cell_type": "code",
   "execution_count": 17,
   "id": "7e046dd8",
   "metadata": {},
   "outputs": [
    {
     "data": {
      "text/html": [
       "<div>\n",
       "<style scoped>\n",
       "    .dataframe tbody tr th:only-of-type {\n",
       "        vertical-align: middle;\n",
       "    }\n",
       "\n",
       "    .dataframe tbody tr th {\n",
       "        vertical-align: top;\n",
       "    }\n",
       "\n",
       "    .dataframe thead th {\n",
       "        text-align: right;\n",
       "    }\n",
       "</style>\n",
       "<table border=\"1\" class=\"dataframe\">\n",
       "  <thead>\n",
       "    <tr style=\"text-align: right;\">\n",
       "      <th></th>\n",
       "      <th>product</th>\n",
       "      <th>customer_complain</th>\n",
       "    </tr>\n",
       "  </thead>\n",
       "  <tbody>\n",
       "    <tr>\n",
       "      <th>0</th>\n",
       "      <td>credit report</td>\n",
       "      <td>This consumer reporting agency as defined by l...</td>\n",
       "    </tr>\n",
       "    <tr>\n",
       "      <th>1</th>\n",
       "      <td>credit report</td>\n",
       "      <td>SOME FRAUDULENT ACCOUNTS WERE ON MY CREDIT REP...</td>\n",
       "    </tr>\n",
       "    <tr>\n",
       "      <th>2</th>\n",
       "      <td>savings account</td>\n",
       "      <td>I set up a recurring scheduled payment on my c...</td>\n",
       "    </tr>\n",
       "    <tr>\n",
       "      <th>3</th>\n",
       "      <td>credit report</td>\n",
       "      <td>Bank of america is a very reputable bank and h...</td>\n",
       "    </tr>\n",
       "    <tr>\n",
       "      <th>4</th>\n",
       "      <td>credit report</td>\n",
       "      <td>In accordance with the Fair Credit Reporting A...</td>\n",
       "    </tr>\n",
       "  </tbody>\n",
       "</table>\n",
       "</div>"
      ],
      "text/plain": [
       "           product                                  customer_complain\n",
       "0    credit report  This consumer reporting agency as defined by l...\n",
       "1    credit report  SOME FRAUDULENT ACCOUNTS WERE ON MY CREDIT REP...\n",
       "2  savings account  I set up a recurring scheduled payment on my c...\n",
       "3    credit report  Bank of america is a very reputable bank and h...\n",
       "4    credit report  In accordance with the Fair Credit Reporting A..."
      ]
     },
     "execution_count": 17,
     "metadata": {},
     "output_type": "execute_result"
    }
   ],
   "source": [
    "complain.head()"
   ]
  },
  {
   "cell_type": "code",
   "execution_count": 18,
   "id": "909eb689",
   "metadata": {},
   "outputs": [],
   "source": [
    "count = complain.groupby([\"product\"]).count()"
   ]
  },
  {
   "cell_type": "code",
   "execution_count": 19,
   "id": "b01917a5",
   "metadata": {},
   "outputs": [
    {
     "data": {
      "text/html": [
       "<div>\n",
       "<style scoped>\n",
       "    .dataframe tbody tr th:only-of-type {\n",
       "        vertical-align: middle;\n",
       "    }\n",
       "\n",
       "    .dataframe tbody tr th {\n",
       "        vertical-align: top;\n",
       "    }\n",
       "\n",
       "    .dataframe thead th {\n",
       "        text-align: right;\n",
       "    }\n",
       "</style>\n",
       "<table border=\"1\" class=\"dataframe\">\n",
       "  <thead>\n",
       "    <tr style=\"text-align: right;\">\n",
       "      <th></th>\n",
       "      <th>customer_complain</th>\n",
       "    </tr>\n",
       "    <tr>\n",
       "      <th>product</th>\n",
       "      <th></th>\n",
       "    </tr>\n",
       "  </thead>\n",
       "  <tbody>\n",
       "    <tr>\n",
       "      <th>card</th>\n",
       "      <td>2478</td>\n",
       "    </tr>\n",
       "    <tr>\n",
       "      <th>credit report</th>\n",
       "      <td>21432</td>\n",
       "    </tr>\n",
       "    <tr>\n",
       "      <th>debt collection</th>\n",
       "      <td>4508</td>\n",
       "    </tr>\n",
       "    <tr>\n",
       "      <th>loan</th>\n",
       "      <td>813</td>\n",
       "    </tr>\n",
       "    <tr>\n",
       "      <th>money transfer</th>\n",
       "      <td>923</td>\n",
       "    </tr>\n",
       "    <tr>\n",
       "      <th>mortgage</th>\n",
       "      <td>1736</td>\n",
       "    </tr>\n",
       "    <tr>\n",
       "      <th>savings account</th>\n",
       "      <td>2047</td>\n",
       "    </tr>\n",
       "    <tr>\n",
       "      <th>vehicle loan</th>\n",
       "      <td>583</td>\n",
       "    </tr>\n",
       "  </tbody>\n",
       "</table>\n",
       "</div>"
      ],
      "text/plain": [
       "                 customer_complain\n",
       "product                           \n",
       "card                          2478\n",
       "credit report                21432\n",
       "debt collection               4508\n",
       "loan                           813\n",
       "money transfer                 923\n",
       "mortgage                      1736\n",
       "savings account               2047\n",
       "vehicle loan                   583"
      ]
     },
     "metadata": {},
     "output_type": "display_data"
    }
   ],
   "source": [
    "display(count)"
   ]
  },
  {
   "cell_type": "code",
   "execution_count": 20,
   "id": "7af0e60e",
   "metadata": {},
   "outputs": [],
   "source": [
    "#applying preprocessing function and create new clean_complain column\n",
    "\n",
    "complain['clean_complain']= complain['customer_complain'].apply(lambda x:preprocessing(x))"
   ]
  },
  {
   "cell_type": "code",
   "execution_count": 21,
   "id": "aef85de4",
   "metadata": {},
   "outputs": [
    {
     "data": {
      "text/html": [
       "<div>\n",
       "<style scoped>\n",
       "    .dataframe tbody tr th:only-of-type {\n",
       "        vertical-align: middle;\n",
       "    }\n",
       "\n",
       "    .dataframe tbody tr th {\n",
       "        vertical-align: top;\n",
       "    }\n",
       "\n",
       "    .dataframe thead th {\n",
       "        text-align: right;\n",
       "    }\n",
       "</style>\n",
       "<table border=\"1\" class=\"dataframe\">\n",
       "  <thead>\n",
       "    <tr style=\"text-align: right;\">\n",
       "      <th></th>\n",
       "      <th>product</th>\n",
       "      <th>customer_complain</th>\n",
       "      <th>clean_complain</th>\n",
       "    </tr>\n",
       "  </thead>\n",
       "  <tbody>\n",
       "    <tr>\n",
       "      <th>0</th>\n",
       "      <td>credit report</td>\n",
       "      <td>This consumer reporting agency as defined by l...</td>\n",
       "      <td>consumer reporting agency defined law violated...</td>\n",
       "    </tr>\n",
       "    <tr>\n",
       "      <th>1</th>\n",
       "      <td>credit report</td>\n",
       "      <td>SOME FRAUDULENT ACCOUNTS WERE ON MY CREDIT REP...</td>\n",
       "      <td>fraudulent account credit report inquires neve...</td>\n",
       "    </tr>\n",
       "    <tr>\n",
       "      <th>2</th>\n",
       "      <td>savings account</td>\n",
       "      <td>I set up a recurring scheduled payment on my c...</td>\n",
       "      <td>set recurring scheduled payment checking accou...</td>\n",
       "    </tr>\n",
       "    <tr>\n",
       "      <th>3</th>\n",
       "      <td>credit report</td>\n",
       "      <td>Bank of america is a very reputable bank and h...</td>\n",
       "      <td>bank america reputable bank long time covid de...</td>\n",
       "    </tr>\n",
       "    <tr>\n",
       "      <th>4</th>\n",
       "      <td>credit report</td>\n",
       "      <td>In accordance with the Fair Credit Reporting A...</td>\n",
       "      <td>accordance fair credit reporting act displayin...</td>\n",
       "    </tr>\n",
       "  </tbody>\n",
       "</table>\n",
       "</div>"
      ],
      "text/plain": [
       "           product                                  customer_complain  \\\n",
       "0    credit report  This consumer reporting agency as defined by l...   \n",
       "1    credit report  SOME FRAUDULENT ACCOUNTS WERE ON MY CREDIT REP...   \n",
       "2  savings account  I set up a recurring scheduled payment on my c...   \n",
       "3    credit report  Bank of america is a very reputable bank and h...   \n",
       "4    credit report  In accordance with the Fair Credit Reporting A...   \n",
       "\n",
       "                                      clean_complain  \n",
       "0  consumer reporting agency defined law violated...  \n",
       "1  fraudulent account credit report inquires neve...  \n",
       "2  set recurring scheduled payment checking accou...  \n",
       "3  bank america reputable bank long time covid de...  \n",
       "4  accordance fair credit reporting act displayin...  "
      ]
     },
     "execution_count": 21,
     "metadata": {},
     "output_type": "execute_result"
    }
   ],
   "source": [
    "complain.head()"
   ]
  },
  {
   "cell_type": "code",
   "execution_count": 22,
   "id": "2728d6ac",
   "metadata": {},
   "outputs": [],
   "source": [
    "#Applying preprocessing and removing '\\n' character to customer complain column\n",
    "\n",
    "#for i in range(complain.shape[0]):\n",
    "    #complain['customer_complain'][i]=preprocessing(str(complain['customer_complain'][i])) \n",
    "#for text in complain.customer_complain:\n",
    "\n",
    "    #text=text.replace('\\n',' ') "
   ]
  },
  {
   "cell_type": "code",
   "execution_count": 23,
   "id": "bb765df7",
   "metadata": {},
   "outputs": [],
   "source": [
    "#pip install NLP-python"
   ]
  },
  {
   "cell_type": "code",
   "execution_count": 24,
   "id": "ce6ee3fc",
   "metadata": {},
   "outputs": [],
   "source": [
    "#pip install en_core_web_lg"
   ]
  },
  {
   "cell_type": "code",
   "execution_count": 25,
   "id": "d9cde3a4",
   "metadata": {},
   "outputs": [],
   "source": [
    "#pip install spacy\n"
   ]
  },
  {
   "cell_type": "code",
   "execution_count": 26,
   "id": "58f96158",
   "metadata": {},
   "outputs": [],
   "source": [
    "from NLP import NLP\n",
    "nlp = NLP()"
   ]
  },
  {
   "cell_type": "code",
   "execution_count": 27,
   "id": "f25ee213",
   "metadata": {},
   "outputs": [],
   "source": [
    "#!python -m spacy download en_core_web_lg"
   ]
  },
  {
   "cell_type": "code",
   "execution_count": 28,
   "id": "02936722",
   "metadata": {},
   "outputs": [],
   "source": [
    "import en_core_web_lg\n"
   ]
  },
  {
   "cell_type": "code",
   "execution_count": 29,
   "id": "16b30c72",
   "metadata": {},
   "outputs": [],
   "source": [
    "nlp = en_core_web_lg.load()"
   ]
  },
  {
   "cell_type": "code",
   "execution_count": 30,
   "id": "7b4d391a",
   "metadata": {},
   "outputs": [],
   "source": [
    "# create functions for vectorization\n",
    "\n",
    "def get_vec(x) :\n",
    "    doc = nlp(x)\n",
    "    vec = doc.vector\n",
    "    return vec"
   ]
  },
  {
   "cell_type": "code",
   "execution_count": 31,
   "id": "c74c5f58",
   "metadata": {},
   "outputs": [],
   "source": [
    "# create new column vec which have the complain text vectorization\n",
    "\n",
    "complain['vec'] = complain['clean_complain'].apply(lambda x: get_vec(x))"
   ]
  },
  {
   "cell_type": "code",
   "execution_count": 32,
   "id": "6d56086f",
   "metadata": {},
   "outputs": [],
   "source": [
    "X = complain['vec']"
   ]
  },
  {
   "cell_type": "code",
   "execution_count": 33,
   "id": "a93ad855",
   "metadata": {},
   "outputs": [],
   "source": [
    "X = X.values.reshape(-1,1)"
   ]
  },
  {
   "cell_type": "code",
   "execution_count": 34,
   "id": "76b5f4be",
   "metadata": {},
   "outputs": [
    {
     "data": {
      "text/plain": [
       "(34520, 1)"
      ]
     },
     "execution_count": 34,
     "metadata": {},
     "output_type": "execute_result"
    }
   ],
   "source": [
    "X.shape"
   ]
  },
  {
   "cell_type": "code",
   "execution_count": 35,
   "id": "607af4e5",
   "metadata": {},
   "outputs": [],
   "source": [
    "X = np.concatenate(np.concatenate(X,axis =0),axis=0).reshape(-1,300)"
   ]
  },
  {
   "cell_type": "code",
   "execution_count": 36,
   "id": "3b2aefe3",
   "metadata": {},
   "outputs": [
    {
     "data": {
      "text/plain": [
       "(34520, 300)"
      ]
     },
     "execution_count": 36,
     "metadata": {},
     "output_type": "execute_result"
    }
   ],
   "source": [
    "X.shape"
   ]
  },
  {
   "cell_type": "code",
   "execution_count": 37,
   "id": "704afdba",
   "metadata": {},
   "outputs": [],
   "source": [
    "y = complain['product']"
   ]
  },
  {
   "cell_type": "code",
   "execution_count": 38,
   "id": "9b9f83d1",
   "metadata": {},
   "outputs": [
    {
     "data": {
      "text/plain": [
       "array([[-0.13681993, -0.45854867,  0.80511445, ..., -1.2215408 ,\n",
       "        -0.4475213 ,  2.08393   ],\n",
       "       [ 0.11763671, -1.4172043 ,  0.93198395, ..., -0.5759235 ,\n",
       "        -0.35577184,  3.0638096 ],\n",
       "       [-0.5406246 , -0.37838858, -0.8808601 , ..., -0.4415435 ,\n",
       "        -1.6588451 ,  1.5358824 ],\n",
       "       ...,\n",
       "       [ 0.37819836, -1.4845881 ,  0.618526  , ..., -0.8281333 ,\n",
       "        -0.38920933,  2.1740003 ],\n",
       "       [-0.04268235, -1.7294381 , -0.7593904 , ..., -0.95458734,\n",
       "        -0.3333579 ,  2.448873  ],\n",
       "       [-1.2043273 , -0.87703645, -1.0597833 , ..., -2.3197675 ,\n",
       "        -0.97081655,  0.91464573]], dtype=float32)"
      ]
     },
     "execution_count": 38,
     "metadata": {},
     "output_type": "execute_result"
    }
   ],
   "source": [
    "X"
   ]
  },
  {
   "cell_type": "code",
   "execution_count": 39,
   "id": "bfb06ae5",
   "metadata": {},
   "outputs": [
    {
     "data": {
      "text/plain": [
       "0          credit report\n",
       "1          credit report\n",
       "2        savings account\n",
       "3          credit report\n",
       "4          credit report\n",
       "              ...       \n",
       "34515      credit report\n",
       "34516               card\n",
       "34517      credit report\n",
       "34518      credit report\n",
       "34519    debt collection\n",
       "Name: product, Length: 34520, dtype: object"
      ]
     },
     "execution_count": 39,
     "metadata": {},
     "output_type": "execute_result"
    }
   ],
   "source": [
    "y"
   ]
  },
  {
   "cell_type": "code",
   "execution_count": 40,
   "id": "d261bf38",
   "metadata": {},
   "outputs": [],
   "source": [
    "# Create the pandas DataFrame\n",
    "df1 = pd.DataFrame(X)"
   ]
  },
  {
   "cell_type": "code",
   "execution_count": 41,
   "id": "fd9be419",
   "metadata": {},
   "outputs": [
    {
     "data": {
      "text/html": [
       "<div>\n",
       "<style scoped>\n",
       "    .dataframe tbody tr th:only-of-type {\n",
       "        vertical-align: middle;\n",
       "    }\n",
       "\n",
       "    .dataframe tbody tr th {\n",
       "        vertical-align: top;\n",
       "    }\n",
       "\n",
       "    .dataframe thead th {\n",
       "        text-align: right;\n",
       "    }\n",
       "</style>\n",
       "<table border=\"1\" class=\"dataframe\">\n",
       "  <thead>\n",
       "    <tr style=\"text-align: right;\">\n",
       "      <th></th>\n",
       "      <th>0</th>\n",
       "      <th>1</th>\n",
       "      <th>2</th>\n",
       "      <th>3</th>\n",
       "      <th>4</th>\n",
       "      <th>5</th>\n",
       "      <th>6</th>\n",
       "      <th>7</th>\n",
       "      <th>8</th>\n",
       "      <th>9</th>\n",
       "      <th>...</th>\n",
       "      <th>290</th>\n",
       "      <th>291</th>\n",
       "      <th>292</th>\n",
       "      <th>293</th>\n",
       "      <th>294</th>\n",
       "      <th>295</th>\n",
       "      <th>296</th>\n",
       "      <th>297</th>\n",
       "      <th>298</th>\n",
       "      <th>299</th>\n",
       "    </tr>\n",
       "  </thead>\n",
       "  <tbody>\n",
       "    <tr>\n",
       "      <th>0</th>\n",
       "      <td>-0.136820</td>\n",
       "      <td>-0.458549</td>\n",
       "      <td>0.805114</td>\n",
       "      <td>-0.138953</td>\n",
       "      <td>1.414641</td>\n",
       "      <td>0.948406</td>\n",
       "      <td>0.066215</td>\n",
       "      <td>1.460580</td>\n",
       "      <td>-0.587082</td>\n",
       "      <td>-0.848020</td>\n",
       "      <td>...</td>\n",
       "      <td>1.397480</td>\n",
       "      <td>0.905932</td>\n",
       "      <td>-0.072287</td>\n",
       "      <td>0.260658</td>\n",
       "      <td>0.246249</td>\n",
       "      <td>0.064927</td>\n",
       "      <td>0.559086</td>\n",
       "      <td>-1.221541</td>\n",
       "      <td>-0.447521</td>\n",
       "      <td>2.083930</td>\n",
       "    </tr>\n",
       "    <tr>\n",
       "      <th>1</th>\n",
       "      <td>0.117637</td>\n",
       "      <td>-1.417204</td>\n",
       "      <td>0.931984</td>\n",
       "      <td>-1.126132</td>\n",
       "      <td>-0.462083</td>\n",
       "      <td>1.851371</td>\n",
       "      <td>-0.399511</td>\n",
       "      <td>0.226660</td>\n",
       "      <td>0.122011</td>\n",
       "      <td>0.549005</td>\n",
       "      <td>...</td>\n",
       "      <td>1.701107</td>\n",
       "      <td>2.033760</td>\n",
       "      <td>-0.263365</td>\n",
       "      <td>0.080754</td>\n",
       "      <td>1.520636</td>\n",
       "      <td>0.689707</td>\n",
       "      <td>0.588681</td>\n",
       "      <td>-0.575924</td>\n",
       "      <td>-0.355772</td>\n",
       "      <td>3.063810</td>\n",
       "    </tr>\n",
       "    <tr>\n",
       "      <th>2</th>\n",
       "      <td>-0.540625</td>\n",
       "      <td>-0.378389</td>\n",
       "      <td>-0.880860</td>\n",
       "      <td>-0.675592</td>\n",
       "      <td>2.429070</td>\n",
       "      <td>1.180347</td>\n",
       "      <td>0.631470</td>\n",
       "      <td>1.853935</td>\n",
       "      <td>-1.224610</td>\n",
       "      <td>0.516182</td>\n",
       "      <td>...</td>\n",
       "      <td>1.057666</td>\n",
       "      <td>-0.136302</td>\n",
       "      <td>-0.056258</td>\n",
       "      <td>-0.302484</td>\n",
       "      <td>-0.368588</td>\n",
       "      <td>0.790483</td>\n",
       "      <td>-0.106671</td>\n",
       "      <td>-0.441543</td>\n",
       "      <td>-1.658845</td>\n",
       "      <td>1.535882</td>\n",
       "    </tr>\n",
       "    <tr>\n",
       "      <th>3</th>\n",
       "      <td>0.485237</td>\n",
       "      <td>0.328353</td>\n",
       "      <td>-2.014436</td>\n",
       "      <td>0.314919</td>\n",
       "      <td>2.621444</td>\n",
       "      <td>0.785266</td>\n",
       "      <td>1.524495</td>\n",
       "      <td>3.918720</td>\n",
       "      <td>-1.694383</td>\n",
       "      <td>-0.295844</td>\n",
       "      <td>...</td>\n",
       "      <td>1.305003</td>\n",
       "      <td>-2.530739</td>\n",
       "      <td>0.409787</td>\n",
       "      <td>0.019420</td>\n",
       "      <td>-1.317838</td>\n",
       "      <td>0.624033</td>\n",
       "      <td>-0.053283</td>\n",
       "      <td>-0.627893</td>\n",
       "      <td>-2.003273</td>\n",
       "      <td>1.648353</td>\n",
       "    </tr>\n",
       "    <tr>\n",
       "      <th>4</th>\n",
       "      <td>-0.083514</td>\n",
       "      <td>-0.626824</td>\n",
       "      <td>1.559217</td>\n",
       "      <td>-0.460597</td>\n",
       "      <td>-0.217662</td>\n",
       "      <td>1.385080</td>\n",
       "      <td>-0.824983</td>\n",
       "      <td>0.354125</td>\n",
       "      <td>0.584702</td>\n",
       "      <td>-0.759060</td>\n",
       "      <td>...</td>\n",
       "      <td>1.335188</td>\n",
       "      <td>1.880489</td>\n",
       "      <td>-0.600188</td>\n",
       "      <td>0.738402</td>\n",
       "      <td>1.776924</td>\n",
       "      <td>-0.154004</td>\n",
       "      <td>0.237224</td>\n",
       "      <td>-0.857443</td>\n",
       "      <td>-0.059611</td>\n",
       "      <td>2.487927</td>\n",
       "    </tr>\n",
       "  </tbody>\n",
       "</table>\n",
       "<p>5 rows × 300 columns</p>\n",
       "</div>"
      ],
      "text/plain": [
       "        0         1         2         3         4         5         6    \\\n",
       "0 -0.136820 -0.458549  0.805114 -0.138953  1.414641  0.948406  0.066215   \n",
       "1  0.117637 -1.417204  0.931984 -1.126132 -0.462083  1.851371 -0.399511   \n",
       "2 -0.540625 -0.378389 -0.880860 -0.675592  2.429070  1.180347  0.631470   \n",
       "3  0.485237  0.328353 -2.014436  0.314919  2.621444  0.785266  1.524495   \n",
       "4 -0.083514 -0.626824  1.559217 -0.460597 -0.217662  1.385080 -0.824983   \n",
       "\n",
       "        7         8         9    ...       290       291       292       293  \\\n",
       "0  1.460580 -0.587082 -0.848020  ...  1.397480  0.905932 -0.072287  0.260658   \n",
       "1  0.226660  0.122011  0.549005  ...  1.701107  2.033760 -0.263365  0.080754   \n",
       "2  1.853935 -1.224610  0.516182  ...  1.057666 -0.136302 -0.056258 -0.302484   \n",
       "3  3.918720 -1.694383 -0.295844  ...  1.305003 -2.530739  0.409787  0.019420   \n",
       "4  0.354125  0.584702 -0.759060  ...  1.335188  1.880489 -0.600188  0.738402   \n",
       "\n",
       "        294       295       296       297       298       299  \n",
       "0  0.246249  0.064927  0.559086 -1.221541 -0.447521  2.083930  \n",
       "1  1.520636  0.689707  0.588681 -0.575924 -0.355772  3.063810  \n",
       "2 -0.368588  0.790483 -0.106671 -0.441543 -1.658845  1.535882  \n",
       "3 -1.317838  0.624033 -0.053283 -0.627893 -2.003273  1.648353  \n",
       "4  1.776924 -0.154004  0.237224 -0.857443 -0.059611  2.487927  \n",
       "\n",
       "[5 rows x 300 columns]"
      ]
     },
     "execution_count": 41,
     "metadata": {},
     "output_type": "execute_result"
    }
   ],
   "source": [
    "df1.head()"
   ]
  },
  {
   "cell_type": "code",
   "execution_count": 42,
   "id": "c13f0f0e",
   "metadata": {},
   "outputs": [],
   "source": [
    "merge =  pd.concat([complain['product'], df1], axis=1)"
   ]
  },
  {
   "cell_type": "code",
   "execution_count": 43,
   "id": "a4888e10",
   "metadata": {},
   "outputs": [
    {
     "data": {
      "text/html": [
       "<div>\n",
       "<style scoped>\n",
       "    .dataframe tbody tr th:only-of-type {\n",
       "        vertical-align: middle;\n",
       "    }\n",
       "\n",
       "    .dataframe tbody tr th {\n",
       "        vertical-align: top;\n",
       "    }\n",
       "\n",
       "    .dataframe thead th {\n",
       "        text-align: right;\n",
       "    }\n",
       "</style>\n",
       "<table border=\"1\" class=\"dataframe\">\n",
       "  <thead>\n",
       "    <tr style=\"text-align: right;\">\n",
       "      <th></th>\n",
       "      <th>product</th>\n",
       "      <th>0</th>\n",
       "      <th>1</th>\n",
       "      <th>2</th>\n",
       "      <th>3</th>\n",
       "      <th>4</th>\n",
       "      <th>5</th>\n",
       "      <th>6</th>\n",
       "      <th>7</th>\n",
       "      <th>8</th>\n",
       "      <th>...</th>\n",
       "      <th>290</th>\n",
       "      <th>291</th>\n",
       "      <th>292</th>\n",
       "      <th>293</th>\n",
       "      <th>294</th>\n",
       "      <th>295</th>\n",
       "      <th>296</th>\n",
       "      <th>297</th>\n",
       "      <th>298</th>\n",
       "      <th>299</th>\n",
       "    </tr>\n",
       "  </thead>\n",
       "  <tbody>\n",
       "    <tr>\n",
       "      <th>0</th>\n",
       "      <td>credit report</td>\n",
       "      <td>-0.136820</td>\n",
       "      <td>-0.458549</td>\n",
       "      <td>0.805114</td>\n",
       "      <td>-0.138953</td>\n",
       "      <td>1.414641</td>\n",
       "      <td>0.948406</td>\n",
       "      <td>0.066215</td>\n",
       "      <td>1.460580</td>\n",
       "      <td>-0.587082</td>\n",
       "      <td>...</td>\n",
       "      <td>1.397480</td>\n",
       "      <td>0.905932</td>\n",
       "      <td>-0.072287</td>\n",
       "      <td>0.260658</td>\n",
       "      <td>0.246249</td>\n",
       "      <td>0.064927</td>\n",
       "      <td>0.559086</td>\n",
       "      <td>-1.221541</td>\n",
       "      <td>-0.447521</td>\n",
       "      <td>2.083930</td>\n",
       "    </tr>\n",
       "    <tr>\n",
       "      <th>1</th>\n",
       "      <td>credit report</td>\n",
       "      <td>0.117637</td>\n",
       "      <td>-1.417204</td>\n",
       "      <td>0.931984</td>\n",
       "      <td>-1.126132</td>\n",
       "      <td>-0.462083</td>\n",
       "      <td>1.851371</td>\n",
       "      <td>-0.399511</td>\n",
       "      <td>0.226660</td>\n",
       "      <td>0.122011</td>\n",
       "      <td>...</td>\n",
       "      <td>1.701107</td>\n",
       "      <td>2.033760</td>\n",
       "      <td>-0.263365</td>\n",
       "      <td>0.080754</td>\n",
       "      <td>1.520636</td>\n",
       "      <td>0.689707</td>\n",
       "      <td>0.588681</td>\n",
       "      <td>-0.575924</td>\n",
       "      <td>-0.355772</td>\n",
       "      <td>3.063810</td>\n",
       "    </tr>\n",
       "    <tr>\n",
       "      <th>2</th>\n",
       "      <td>savings account</td>\n",
       "      <td>-0.540625</td>\n",
       "      <td>-0.378389</td>\n",
       "      <td>-0.880860</td>\n",
       "      <td>-0.675592</td>\n",
       "      <td>2.429070</td>\n",
       "      <td>1.180347</td>\n",
       "      <td>0.631470</td>\n",
       "      <td>1.853935</td>\n",
       "      <td>-1.224610</td>\n",
       "      <td>...</td>\n",
       "      <td>1.057666</td>\n",
       "      <td>-0.136302</td>\n",
       "      <td>-0.056258</td>\n",
       "      <td>-0.302484</td>\n",
       "      <td>-0.368588</td>\n",
       "      <td>0.790483</td>\n",
       "      <td>-0.106671</td>\n",
       "      <td>-0.441543</td>\n",
       "      <td>-1.658845</td>\n",
       "      <td>1.535882</td>\n",
       "    </tr>\n",
       "    <tr>\n",
       "      <th>3</th>\n",
       "      <td>credit report</td>\n",
       "      <td>0.485237</td>\n",
       "      <td>0.328353</td>\n",
       "      <td>-2.014436</td>\n",
       "      <td>0.314919</td>\n",
       "      <td>2.621444</td>\n",
       "      <td>0.785266</td>\n",
       "      <td>1.524495</td>\n",
       "      <td>3.918720</td>\n",
       "      <td>-1.694383</td>\n",
       "      <td>...</td>\n",
       "      <td>1.305003</td>\n",
       "      <td>-2.530739</td>\n",
       "      <td>0.409787</td>\n",
       "      <td>0.019420</td>\n",
       "      <td>-1.317838</td>\n",
       "      <td>0.624033</td>\n",
       "      <td>-0.053283</td>\n",
       "      <td>-0.627893</td>\n",
       "      <td>-2.003273</td>\n",
       "      <td>1.648353</td>\n",
       "    </tr>\n",
       "    <tr>\n",
       "      <th>4</th>\n",
       "      <td>credit report</td>\n",
       "      <td>-0.083514</td>\n",
       "      <td>-0.626824</td>\n",
       "      <td>1.559217</td>\n",
       "      <td>-0.460597</td>\n",
       "      <td>-0.217662</td>\n",
       "      <td>1.385080</td>\n",
       "      <td>-0.824983</td>\n",
       "      <td>0.354125</td>\n",
       "      <td>0.584702</td>\n",
       "      <td>...</td>\n",
       "      <td>1.335188</td>\n",
       "      <td>1.880489</td>\n",
       "      <td>-0.600188</td>\n",
       "      <td>0.738402</td>\n",
       "      <td>1.776924</td>\n",
       "      <td>-0.154004</td>\n",
       "      <td>0.237224</td>\n",
       "      <td>-0.857443</td>\n",
       "      <td>-0.059611</td>\n",
       "      <td>2.487927</td>\n",
       "    </tr>\n",
       "  </tbody>\n",
       "</table>\n",
       "<p>5 rows × 301 columns</p>\n",
       "</div>"
      ],
      "text/plain": [
       "           product         0         1         2         3         4  \\\n",
       "0    credit report -0.136820 -0.458549  0.805114 -0.138953  1.414641   \n",
       "1    credit report  0.117637 -1.417204  0.931984 -1.126132 -0.462083   \n",
       "2  savings account -0.540625 -0.378389 -0.880860 -0.675592  2.429070   \n",
       "3    credit report  0.485237  0.328353 -2.014436  0.314919  2.621444   \n",
       "4    credit report -0.083514 -0.626824  1.559217 -0.460597 -0.217662   \n",
       "\n",
       "          5         6         7         8  ...       290       291       292  \\\n",
       "0  0.948406  0.066215  1.460580 -0.587082  ...  1.397480  0.905932 -0.072287   \n",
       "1  1.851371 -0.399511  0.226660  0.122011  ...  1.701107  2.033760 -0.263365   \n",
       "2  1.180347  0.631470  1.853935 -1.224610  ...  1.057666 -0.136302 -0.056258   \n",
       "3  0.785266  1.524495  3.918720 -1.694383  ...  1.305003 -2.530739  0.409787   \n",
       "4  1.385080 -0.824983  0.354125  0.584702  ...  1.335188  1.880489 -0.600188   \n",
       "\n",
       "        293       294       295       296       297       298       299  \n",
       "0  0.260658  0.246249  0.064927  0.559086 -1.221541 -0.447521  2.083930  \n",
       "1  0.080754  1.520636  0.689707  0.588681 -0.575924 -0.355772  3.063810  \n",
       "2 -0.302484 -0.368588  0.790483 -0.106671 -0.441543 -1.658845  1.535882  \n",
       "3  0.019420 -1.317838  0.624033 -0.053283 -0.627893 -2.003273  1.648353  \n",
       "4  0.738402  1.776924 -0.154004  0.237224 -0.857443 -0.059611  2.487927  \n",
       "\n",
       "[5 rows x 301 columns]"
      ]
     },
     "execution_count": 43,
     "metadata": {},
     "output_type": "execute_result"
    }
   ],
   "source": [
    "merge.head()"
   ]
  },
  {
   "cell_type": "code",
   "execution_count": 44,
   "id": "918d7d9e",
   "metadata": {},
   "outputs": [],
   "source": [
    "#saving this file to local\n",
    "\n",
    "merge.to_csv('merge.csv',index = False)"
   ]
  },
  {
   "cell_type": "markdown",
   "id": "8b17c5ba",
   "metadata": {},
   "source": [
    "<div style=\"border:solid black 2px; padding: 10px\">\n",
    "    \n",
    "## Interacting with data robot"
   ]
  },
  {
   "cell_type": "code",
   "execution_count": 45,
   "id": "1e258017",
   "metadata": {},
   "outputs": [
    {
     "data": {
      "text/plain": [
       "<datarobot.rest.RESTClientObject at 0x293cece3b80>"
      ]
     },
     "execution_count": 45,
     "metadata": {},
     "output_type": "execute_result"
    }
   ],
   "source": [
    "#https://app2.datarobot.com/api/v2\n",
    "    \n",
    "import datarobot as dr\n",
    "dr.Client(endpoint='https://app2.datarobot.com/api/v2', token='NjJhOGE2ZmYwZTU2ZTA1MGZkNzNhODU3OllVZ2VqVnhjT3RvMkUzdEx0UnBrcDhBVnVrM005S25IeS9xUHBpS08zd0U9')\n"
   ]
  },
  {
   "cell_type": "code",
   "execution_count": 46,
   "id": "944e513f",
   "metadata": {},
   "outputs": [],
   "source": [
    "#Create project to datarobot\n",
    "\n",
    "#Set to the location of your auto-mpg.csv and auto-mpg-test.csv data files\n",
    "# Example: dataset_file_path = '/Users/myuser/Downloads/auto-mpg.csv'\n",
    "#training_dataset_file_path = 'merge.csv'\n",
    "#test_dataset_file_path = 'test.csv'\n",
    "\n",
    "#Load dataset\n",
    "#training_dataset = dr.Dataset.create_from_file(training_dataset_file_path)\n",
    "\n",
    "# Create a new project based on dataset\n",
    "#project = dr.Project.create_from_dataset(training_dataset.id, project_name='complain3')"
   ]
  },
  {
   "cell_type": "code",
   "execution_count": 47,
   "id": "8c233dc2",
   "metadata": {},
   "outputs": [],
   "source": [
    "#set the target\n",
    "#project.set_target(target='product')\n",
    "\n",
    "# Use training data to build models.\n",
    "#project.wait_for_autopilot()\n",
    "#model = dr.ModelRecommendation.get(project.id).get_model()\n",
    "\n"
   ]
  },
  {
   "cell_type": "code",
   "execution_count": 48,
   "id": "0263898e",
   "metadata": {},
   "outputs": [],
   "source": [
    "# Get all project list in datarobot for my account\n",
    "\n",
    "import datarobot as dr\n",
    "project = dr.Project.list()\n"
   ]
  },
  {
   "cell_type": "code",
   "execution_count": 49,
   "id": "79775b77",
   "metadata": {},
   "outputs": [
    {
     "data": {
      "text/plain": [
       "[Project(complain3),\n",
       " Project(complain2),\n",
       " Project(complain1),\n",
       " Project(Auto complain DR-Client),\n",
       " Project(Auto complain DR-Client),\n",
       " Project(Auto complain DR-Client),\n",
       " Project(Auto MPG DR-Client),\n",
       " Project(LendingClub_for_BA_Starter.csv),\n",
       " Project(My first ML Project),\n",
       " Project(My first ML Project)]"
      ]
     },
     "execution_count": 49,
     "metadata": {},
     "output_type": "execute_result"
    }
   ],
   "source": [
    "project"
   ]
  },
  {
   "cell_type": "code",
   "execution_count": 50,
   "id": "a3315464",
   "metadata": {},
   "outputs": [],
   "source": [
    "#import datarobot as dr\n",
    "project = project[0]"
   ]
  },
  {
   "cell_type": "code",
   "execution_count": 51,
   "id": "18ef5869",
   "metadata": {},
   "outputs": [
    {
     "data": {
      "text/plain": [
       "'62d3770488045b8309b02719'"
      ]
     },
     "execution_count": 51,
     "metadata": {},
     "output_type": "execute_result"
    }
   ],
   "source": [
    "#getting project id for project complain 3\n",
    "project.id"
   ]
  },
  {
   "cell_type": "code",
   "execution_count": 52,
   "id": "9d1bb2ca",
   "metadata": {},
   "outputs": [
    {
     "name": "stdout",
     "output_type": "stream",
     "text": [
      "[Model('AVG Blender'), Model('Keras Slim Residual Neural Network Classifier using Training Schedule (1 Layer: 64 Units)'), Model('Light Gradient Boosted Trees Classifier with Early Stopping (SoftMax Loss) (64 leaves)'), Model('Gradient Boosted Trees Classifier with Early Stopping'), Model('Keras Slim Residual Neural Network Classifier using Training Schedule (1 Layer: 64 Units)')]\n"
     ]
    }
   ],
   "source": [
    "import datarobot as dr\n",
    "import datarobot as dr\n",
    "project = dr.Project.get('62d3770488045b8309b02719')\n",
    "models = project.get_models()\n",
    "print(models[:5])\n",
    "model = models[3]"
   ]
  },
  {
   "cell_type": "code",
   "execution_count": 53,
   "id": "d11bc6ff",
   "metadata": {},
   "outputs": [
    {
     "data": {
      "text/plain": [
       "Model('Gradient Boosted Trees Classifier with Early Stopping')"
      ]
     },
     "execution_count": 53,
     "metadata": {},
     "output_type": "execute_result"
    }
   ],
   "source": [
    "model"
   ]
  },
  {
   "cell_type": "code",
   "execution_count": 54,
   "id": "43044ce9",
   "metadata": {},
   "outputs": [
    {
     "data": {
      "text/plain": [
       "'62d37ea98702ef9804a95ddf'"
      ]
     },
     "execution_count": 54,
     "metadata": {},
     "output_type": "execute_result"
    }
   ],
   "source": [
    "model.id"
   ]
  },
  {
   "cell_type": "code",
   "execution_count": 55,
   "id": "e63a3fed",
   "metadata": {},
   "outputs": [],
   "source": [
    "import datarobot as dr\n",
    "\n",
    "project_id = '62d3770488045b8309b02719'\n",
    "#model_id = '62d37ea98702ef9804a95dde'\n",
    "model_id = '62d37ea98702ef9804a95ddf'\n",
    "project = dr.Project.get(project_id)\n",
    "model = dr.Model.get(project=project_id,model_id=model_id)\n"
   ]
  },
  {
   "cell_type": "markdown",
   "id": "f12d5327",
   "metadata": {},
   "source": [
    "<div style=\"border:solid black 2px; padding: 10px\">\n",
    "    \n",
    "## Testing new complain text using data robot trained model"
   ]
  },
  {
   "cell_type": "code",
   "execution_count": 56,
   "id": "1f2afd44",
   "metadata": {},
   "outputs": [],
   "source": [
    "test_complaint_1 = complain_df['Consumer complaint narrative'][100060]"
   ]
  },
  {
   "cell_type": "code",
   "execution_count": 57,
   "id": "f0772384",
   "metadata": {},
   "outputs": [
    {
     "data": {
      "text/plain": [
       "'Equifax is ignoring my requests to investigate, verify and remove accounts from my credit report that do not belong to me.'"
      ]
     },
     "execution_count": 57,
     "metadata": {},
     "output_type": "execute_result"
    }
   ],
   "source": [
    "test_complaint_1"
   ]
  },
  {
   "cell_type": "code",
   "execution_count": 58,
   "id": "f472f721",
   "metadata": {},
   "outputs": [],
   "source": [
    "#Preprocessing data : remove all urls,punctuation,number,removing stopwords,lemmatization\n",
    "\n",
    "preprocess = preprocessing(test_complaint_1 )"
   ]
  },
  {
   "cell_type": "code",
   "execution_count": 59,
   "id": "c3b6391c",
   "metadata": {},
   "outputs": [
    {
     "data": {
      "text/plain": [
       "'equifax ignoring request investigate verify remove account credit report belong'"
      ]
     },
     "execution_count": 59,
     "metadata": {},
     "output_type": "execute_result"
    }
   ],
   "source": [
    "preprocess"
   ]
  },
  {
   "cell_type": "code",
   "execution_count": 60,
   "id": "d2f136b6",
   "metadata": {},
   "outputs": [],
   "source": [
    "#creating vectors for the text to input in the model\n",
    "\n",
    "vect = get_vec(preprocess)"
   ]
  },
  {
   "cell_type": "code",
   "execution_count": 61,
   "id": "35c51673",
   "metadata": {},
   "outputs": [
    {
     "data": {
      "text/plain": [
       "array([-6.2692001e-02, -1.3132651e+00, -5.9128606e-01,  7.3232017e-02,\n",
       "        3.4505532e+00,  7.5158906e-01,  1.3345921e-01,  3.0747449e+00,\n",
       "       -1.6242840e+00, -1.7279819e-01,  3.5665679e+00,  1.5780430e+00,\n",
       "       -4.8406701e+00,  8.3900899e-01,  1.2495999e-01,  1.2593399e+00,\n",
       "        2.1151369e+00, -3.9114600e-01, -1.0639498e+00, -2.1781299e-01,\n",
       "       -1.8734261e+00, -2.2439239e+00, -1.6677971e+00,  3.2376304e-01,\n",
       "       -2.6712952e+00,  3.7279502e-01, -8.4651792e-01, -1.0288606e+00,\n",
       "        1.5822400e-01,  2.8487992e-02,  1.9838072e+00,  8.6019838e-01,\n",
       "       -3.2651401e+00,  1.4347150e+00,  2.2465901e-01, -2.5399399e-01,\n",
       "       -1.0881530e+00, -8.5787308e-01,  2.9677289e+00,  2.7999721e+00,\n",
       "       -1.4188271e+00, -4.3959299e-01,  2.5068599e-01,  1.9117720e+00,\n",
       "       -2.4028060e+00,  2.4526508e-01,  3.5424645e+00, -2.7488332e+00,\n",
       "       -6.5037197e-01,  9.2753962e-02,  3.9716753e-01,  1.4489430e+00,\n",
       "        5.2677405e-01, -3.4406810e+00, -2.5478940e+00,  9.8192102e-01,\n",
       "       -6.2193233e-01,  1.4097815e+00,  6.4278013e-01, -1.0481420e+00,\n",
       "        2.6936750e+00, -3.6429104e-01, -2.5372100e+00, -8.1021535e-01,\n",
       "        2.4895029e+00,  1.2031181e+00, -1.5287319e+00, -2.7459407e+00,\n",
       "       -1.7184468e-01,  4.1140504e+00, -3.8057905e-01, -1.0591590e+00,\n",
       "       -9.2184460e-01, -1.0473291e+00, -6.5567404e-01,  1.7483313e+00,\n",
       "       -5.0545704e-01,  1.4959860e+00, -1.2996540e+00,  1.2992380e+00,\n",
       "       -2.2124889e+00,  7.5986880e-01,  1.7272352e+00,  2.6726604e+00,\n",
       "        9.5626104e-01,  3.0557820e-01, -1.0841069e+00, -2.6944919e+00,\n",
       "        2.1930130e+00,  1.2104552e+00, -3.6186982e-02,  4.9549302e-01,\n",
       "        5.3123039e-01,  4.0322518e-01,  2.1590695e+00,  6.7087996e-01,\n",
       "       -1.5379670e+00, -8.9409339e-01, -1.0934666e+00,  1.7469790e+00,\n",
       "        2.5553627e+00,  1.6372010e+00,  5.0800240e-01,  8.1216096e-04,\n",
       "       -2.7524501e-01,  4.0915699e+00, -3.8100502e-01, -2.2112701e+00,\n",
       "       -7.7374601e-01, -3.0773041e+00,  1.3471491e+00,  6.7178202e-01,\n",
       "       -6.3268495e-01,  8.1138037e-02,  1.2655081e+00,  3.3113809e+00,\n",
       "       -3.9507899e+00, -9.3461210e-01, -9.3582189e-01, -1.4861690e+00,\n",
       "       -1.8021641e+00, -2.3453331e+00,  3.9205605e-01,  3.0793795e-01,\n",
       "        4.5045376e-02, -1.3931211e+00,  2.4177299e+00,  2.0609312e-01,\n",
       "        3.1399498e+00,  8.6546019e-02, -2.6151035e+00,  1.1908489e+00,\n",
       "        8.0227697e-01, -4.3148297e-01, -9.5039093e-01, -1.6727778e-01,\n",
       "       -1.0537121e+00, -1.7459929e+00,  1.6825612e+00, -8.9242303e-01,\n",
       "       -1.3311779e+00,  7.7298671e-01,  1.6630005e-02,  2.4624851e+00,\n",
       "       -5.1047099e-01, -5.7572001e-01, -1.3560100e+00,  5.7770699e-01,\n",
       "        4.7777988e-02,  1.1897709e+00,  8.7101974e-02,  1.1007743e+00,\n",
       "        7.2458112e-01,  8.8513106e-01,  1.4163296e-01, -2.0388715e+00,\n",
       "        2.0613961e+00, -6.0397899e-01, -4.1531006e-01, -1.4711699e+00,\n",
       "       -5.8496010e-01, -1.5759041e+00, -1.1290097e+00,  8.4709370e-01,\n",
       "       -1.9540812e+00,  6.3118804e-01, -3.1641068e+00,  2.0486119e+00,\n",
       "        2.7576900e-01, -9.5125818e-01, -9.9707687e-01,  8.4861660e-01,\n",
       "        1.4289596e+00, -1.0310199e+00,  2.1604269e+00,  1.2442781e+00,\n",
       "        4.1729125e-01,  1.1262412e+00, -1.3060070e+00, -2.8669820e+00,\n",
       "        1.9283388e+00,  1.7341242e+00,  1.9137570e+00,  5.1846993e-01,\n",
       "        4.1630602e-01, -2.1316600e+00, -5.7210447e-03,  3.8988005e-02,\n",
       "        8.9674538e-01,  1.4204338e+00,  8.7361896e-01, -1.0526930e+00,\n",
       "       -1.5723315e+00, -2.1406331e+00, -1.5543371e+00,  1.5482379e+00,\n",
       "       -2.5928440e+00, -5.0131994e-01,  2.5184512e-01,  1.1959870e+00,\n",
       "       -3.5850501e+00, -6.9845104e-01, -2.1250005e-01, -1.2909299e+00,\n",
       "        2.3834405e+00,  1.7157701e+00, -1.8360586e+00,  1.6401930e+00,\n",
       "        1.7180459e+00,  6.6153795e-01,  6.3600200e-01, -1.5443619e+00,\n",
       "       -5.9691048e-01,  8.8918895e-01, -2.8524014e-01,  3.8361400e-01,\n",
       "        1.6308209e+00, -1.1631639e+00,  1.6638902e-01,  1.3933574e+00,\n",
       "       -2.0038331e+00,  4.3421999e-01,  1.3207999e+00, -1.1800950e+00,\n",
       "       -3.7229800e-01, -1.0502189e+00, -5.2284849e-01,  1.5579543e+00,\n",
       "        1.1439013e-02, -1.1228859e+00,  1.0647810e+00, -3.9914901e+00,\n",
       "       -1.4776380e+00,  1.5733811e+00,  1.4117931e+00,  6.3782805e-01,\n",
       "       -3.1700197e-01,  6.8084139e-01,  6.9532976e-02, -1.0224998e-01,\n",
       "       -2.0553269e+00, -1.3985322e+00, -3.8449502e-01,  1.8326031e+00,\n",
       "       -1.9452705e+00,  2.1729627e+00, -1.3349121e+00, -1.0563170e+00,\n",
       "        5.6099308e-01,  9.8867291e-01,  7.8048013e-02, -3.5911603e+00,\n",
       "       -2.4634230e+00, -1.4110090e+00,  1.3407300e+00, -3.7749512e+00,\n",
       "        2.0668070e+00, -2.1637170e+00,  4.2649204e-01,  3.9308402e-01,\n",
       "       -2.2344420e+00,  4.0075998e+00, -5.4492199e-01,  4.8455507e-01,\n",
       "        7.7231598e-01, -4.7953597e-01,  1.3515351e+00,  1.4914104e+00,\n",
       "       -3.6983743e+00,  1.8674967e-01, -2.2450233e+00, -2.2964101e-01,\n",
       "        2.0540304e-01, -2.0821471e+00, -9.4752014e-02, -1.1249750e+00,\n",
       "        1.2842302e-01, -1.8668131e+00, -3.3671504e-01,  3.5169849e+00,\n",
       "        7.7441800e-01,  1.4839741e+00, -6.0831469e-01, -2.5167602e-01,\n",
       "        1.0701649e+00, -9.4857299e-01,  1.7295650e+00,  2.3850780e+00,\n",
       "       -1.2593271e+00,  4.5893002e-02,  8.2338667e-01, -6.2179184e-01,\n",
       "        7.4952829e-01, -1.0969603e-01, -1.9920841e+00,  1.1433280e+00,\n",
       "        8.5497998e-02, -1.8730491e+00,  4.9000682e-04,  9.5149195e-01],\n",
       "      dtype=float32)"
      ]
     },
     "execution_count": 61,
     "metadata": {},
     "output_type": "execute_result"
    }
   ],
   "source": [
    "vect"
   ]
  },
  {
   "cell_type": "code",
   "execution_count": 62,
   "id": "133ff45e",
   "metadata": {},
   "outputs": [],
   "source": [
    "df = pd.DataFrame(vect)"
   ]
  },
  {
   "cell_type": "code",
   "execution_count": 63,
   "id": "bbc9b6c7",
   "metadata": {},
   "outputs": [],
   "source": [
    "df = df.T"
   ]
  },
  {
   "cell_type": "code",
   "execution_count": 64,
   "id": "a000cce9",
   "metadata": {},
   "outputs": [
    {
     "name": "stdout",
     "output_type": "stream",
     "text": [
      "<class 'pandas.core.frame.DataFrame'>\n",
      "RangeIndex: 1 entries, 0 to 0\n",
      "Columns: 300 entries, 0 to 299\n",
      "dtypes: float32(300)\n",
      "memory usage: 1.3 KB\n"
     ]
    }
   ],
   "source": [
    "df.info()"
   ]
  },
  {
   "cell_type": "code",
   "execution_count": 65,
   "id": "940d33e7",
   "metadata": {},
   "outputs": [
    {
     "data": {
      "text/html": [
       "<div>\n",
       "<style scoped>\n",
       "    .dataframe tbody tr th:only-of-type {\n",
       "        vertical-align: middle;\n",
       "    }\n",
       "\n",
       "    .dataframe tbody tr th {\n",
       "        vertical-align: top;\n",
       "    }\n",
       "\n",
       "    .dataframe thead th {\n",
       "        text-align: right;\n",
       "    }\n",
       "</style>\n",
       "<table border=\"1\" class=\"dataframe\">\n",
       "  <thead>\n",
       "    <tr style=\"text-align: right;\">\n",
       "      <th></th>\n",
       "      <th>0</th>\n",
       "      <th>1</th>\n",
       "      <th>2</th>\n",
       "      <th>3</th>\n",
       "      <th>4</th>\n",
       "      <th>5</th>\n",
       "      <th>6</th>\n",
       "      <th>7</th>\n",
       "      <th>8</th>\n",
       "      <th>9</th>\n",
       "      <th>...</th>\n",
       "      <th>290</th>\n",
       "      <th>291</th>\n",
       "      <th>292</th>\n",
       "      <th>293</th>\n",
       "      <th>294</th>\n",
       "      <th>295</th>\n",
       "      <th>296</th>\n",
       "      <th>297</th>\n",
       "      <th>298</th>\n",
       "      <th>299</th>\n",
       "    </tr>\n",
       "  </thead>\n",
       "  <tbody>\n",
       "    <tr>\n",
       "      <th>0</th>\n",
       "      <td>-0.062692</td>\n",
       "      <td>-1.313265</td>\n",
       "      <td>-0.591286</td>\n",
       "      <td>0.073232</td>\n",
       "      <td>3.450553</td>\n",
       "      <td>0.751589</td>\n",
       "      <td>0.133459</td>\n",
       "      <td>3.074745</td>\n",
       "      <td>-1.624284</td>\n",
       "      <td>-0.172798</td>\n",
       "      <td>...</td>\n",
       "      <td>0.823387</td>\n",
       "      <td>-0.621792</td>\n",
       "      <td>0.749528</td>\n",
       "      <td>-0.109696</td>\n",
       "      <td>-1.992084</td>\n",
       "      <td>1.143328</td>\n",
       "      <td>0.085498</td>\n",
       "      <td>-1.873049</td>\n",
       "      <td>0.00049</td>\n",
       "      <td>0.951492</td>\n",
       "    </tr>\n",
       "  </tbody>\n",
       "</table>\n",
       "<p>1 rows × 300 columns</p>\n",
       "</div>"
      ],
      "text/plain": [
       "        0         1         2         3         4         5         6    \\\n",
       "0 -0.062692 -1.313265 -0.591286  0.073232  3.450553  0.751589  0.133459   \n",
       "\n",
       "        7         8         9    ...       290       291       292       293  \\\n",
       "0  3.074745 -1.624284 -0.172798  ...  0.823387 -0.621792  0.749528 -0.109696   \n",
       "\n",
       "        294       295       296       297      298       299  \n",
       "0 -1.992084  1.143328  0.085498 -1.873049  0.00049  0.951492  \n",
       "\n",
       "[1 rows x 300 columns]"
      ]
     },
     "execution_count": 65,
     "metadata": {},
     "output_type": "execute_result"
    }
   ],
   "source": [
    "df"
   ]
  },
  {
   "cell_type": "code",
   "execution_count": 66,
   "id": "76c0b866",
   "metadata": {},
   "outputs": [],
   "source": [
    "#saving to local as dataframe\n",
    "\n",
    "df.to_csv('df.csv',index = False)"
   ]
  },
  {
   "cell_type": "code",
   "execution_count": 67,
   "id": "d0fd3f8b",
   "metadata": {},
   "outputs": [],
   "source": [
    "\n",
    "# Using path to local file to generate predictions \n",
    "dataset_from_path = project.upload_dataset('df.csv')\n",
    "\n",
    "predict_job_1 = model.request_predictions(dataset_from_path.id)\n"
   ]
  },
  {
   "cell_type": "code",
   "execution_count": 68,
   "id": "a3fcb993",
   "metadata": {},
   "outputs": [
    {
     "data": {
      "text/plain": [
       "PredictJob(Model('62d37ea98702ef9804a95ddf'), status=inprogress)"
      ]
     },
     "execution_count": 68,
     "metadata": {},
     "output_type": "execute_result"
    }
   ],
   "source": [
    "predict_job_1 "
   ]
  },
  {
   "cell_type": "code",
   "execution_count": 69,
   "id": "dd06be9b",
   "metadata": {},
   "outputs": [
    {
     "name": "stdout",
     "output_type": "stream",
     "text": [
      "[Predictions(prediction_id='62d4182928538abe0f5ccf02', project_id='62d3770488045b8309b02719', model_id='62d37ea98702ef9804a95dde', dataset_id='62d4181128538abe0f5ccef0', includes_prediction_intervals=False, prediction_intervals_size=None, forecast_point=None, predictions_start_date=None, predictions_end_date=None, actual_value_column=None, explanation_algorithm=None, max_explanations=None, shap_warnings=None), Predictions(prediction_id='62d4199c8a1577446f1feade', project_id='62d3770488045b8309b02719', model_id='62d37ea98702ef9804a95dde', dataset_id='62d4197f72643f4b60be593f', includes_prediction_intervals=False, prediction_intervals_size=None, forecast_point=None, predictions_start_date=None, predictions_end_date=None, actual_value_column=None, explanation_algorithm=None, max_explanations=None, shap_warnings=None), Predictions(prediction_id='62d41ce369785fd2bb5cccae', project_id='62d3770488045b8309b02719', model_id='62d37ea98702ef9804a95dde', dataset_id='62d41cc769785fd2bb5ccc91', includes_prediction_intervals=False, prediction_intervals_size=None, forecast_point=None, predictions_start_date=None, predictions_end_date=None, actual_value_column=None, explanation_algorithm=None, max_explanations=None, shap_warnings=None), Predictions(prediction_id='62d41d33235cacff431fe890', project_id='62d3770488045b8309b02719', model_id='62d37ea98702ef9804a95dde', dataset_id='62d41d1769785fd2bb5ccccd', includes_prediction_intervals=False, prediction_intervals_size=None, forecast_point=None, predictions_start_date=None, predictions_end_date=None, actual_value_column=None, explanation_algorithm=None, max_explanations=None, shap_warnings=None), Predictions(prediction_id='62d4240a235cacff431fe992', project_id='62d3770488045b8309b02719', model_id='62d37ea98702ef9804a95dde', dataset_id='62d423f3474707ec3fbe599e', includes_prediction_intervals=False, prediction_intervals_size=None, forecast_point=None, predictions_start_date=None, predictions_end_date=None, actual_value_column=None, explanation_algorithm=None, max_explanations=None, shap_warnings=None), Predictions(prediction_id='62d42495eb83f0df785ccc3f', project_id='62d3770488045b8309b02719', model_id='62d37ea98702ef9804a95dde', dataset_id='62d4247acf7ff68a8f1fea31', includes_prediction_intervals=False, prediction_intervals_size=None, forecast_point=None, predictions_start_date=None, predictions_end_date=None, actual_value_column=None, explanation_algorithm=None, max_explanations=None, shap_warnings=None), Predictions(prediction_id='62d4261d474707ec3fbe59f8', project_id='62d3770488045b8309b02719', model_id='62d37ea98702ef9804a95dde', dataset_id='62d42606474707ec3fbe59ef', includes_prediction_intervals=False, prediction_intervals_size=None, forecast_point=None, predictions_start_date=None, predictions_end_date=None, actual_value_column=None, explanation_algorithm=None, max_explanations=None, shap_warnings=None), Predictions(prediction_id='62d426dbaaeb1ee326be5854', project_id='62d3770488045b8309b02719', model_id='62d37ea98702ef9804a95dde', dataset_id='62d426c4aaeb1ee326be583a', includes_prediction_intervals=False, prediction_intervals_size=None, forecast_point=None, predictions_start_date=None, predictions_end_date=None, actual_value_column=None, explanation_algorithm=None, max_explanations=None, shap_warnings=None), Predictions(prediction_id='62d42875037116e2c3be5859', project_id='62d3770488045b8309b02719', model_id='62d37ea98702ef9804a95dde', dataset_id='62d4285eeb83f0df785ccce4', includes_prediction_intervals=False, prediction_intervals_size=None, forecast_point=None, predictions_start_date=None, predictions_end_date=None, actual_value_column=None, explanation_algorithm=None, max_explanations=None, shap_warnings=None), Predictions(prediction_id='62d48c5ce1e799950d5cccce', project_id='62d3770488045b8309b02719', model_id='62d37ea98702ef9804a95dde', dataset_id='62d48c46f704bc4ef55ccd8e', includes_prediction_intervals=False, prediction_intervals_size=None, forecast_point=None, predictions_start_date=None, predictions_end_date=None, actual_value_column=None, explanation_algorithm=None, max_explanations=None, shap_warnings=None), Predictions(prediction_id='62d48d4c2ab1c37364be5ab0', project_id='62d3770488045b8309b02719', model_id='62d37ea98702ef9804a95dde', dataset_id='62d48d312ab1c37364be5a9d', includes_prediction_intervals=False, prediction_intervals_size=None, forecast_point=None, predictions_start_date=None, predictions_end_date=None, actual_value_column=None, explanation_algorithm=None, max_explanations=None, shap_warnings=None), Predictions(prediction_id='62d48dab312c023bfe1fe905', project_id='62d3770488045b8309b02719', model_id='62d37ea98702ef9804a95dde', dataset_id='62d48d8ff704bc4ef55cce2e', includes_prediction_intervals=False, prediction_intervals_size=None, forecast_point=None, predictions_start_date=None, predictions_end_date=None, actual_value_column=None, explanation_algorithm=None, max_explanations=None, shap_warnings=None), Predictions(prediction_id='62d48fb4d6fec5edbc5ccbc6', project_id='62d3770488045b8309b02719', model_id='62d37ea98702ef9804a95dde', dataset_id='62d48f99f3ec0277471fea58', includes_prediction_intervals=False, prediction_intervals_size=None, forecast_point=None, predictions_start_date=None, predictions_end_date=None, actual_value_column=None, explanation_algorithm=None, max_explanations=None, shap_warnings=None), Predictions(prediction_id='62d49097b0e03807b5be57f5', project_id='62d3770488045b8309b02719', model_id='62d37ea98702ef9804a95dde', dataset_id='62d4907bd6fec5edbc5ccc1d', includes_prediction_intervals=False, prediction_intervals_size=None, forecast_point=None, predictions_start_date=None, predictions_end_date=None, actual_value_column=None, explanation_algorithm=None, max_explanations=None, shap_warnings=None), Predictions(prediction_id='62d49520f032838b821fe807', project_id='62d3770488045b8309b02719', model_id='62d37ea98702ef9804a95dde', dataset_id='62d49505d6fec5edbc5ccd95', includes_prediction_intervals=False, prediction_intervals_size=None, forecast_point=None, predictions_start_date=None, predictions_end_date=None, actual_value_column=None, explanation_algorithm=None, max_explanations=None, shap_warnings=None), Predictions(prediction_id='62d49690d6fec5edbc5cce0f', project_id='62d3770488045b8309b02719', model_id='62d37ea98702ef9804a95dde', dataset_id='62d49679c8026c9326be58b8', includes_prediction_intervals=False, prediction_intervals_size=None, forecast_point=None, predictions_start_date=None, predictions_end_date=None, actual_value_column=None, explanation_algorithm=None, max_explanations=None, shap_warnings=None), Predictions(prediction_id='62d497c7e1e799950d5cce39', project_id='62d3770488045b8309b02719', model_id='62d37ea98702ef9804a95dde', dataset_id='62d497abd6fec5edbc5cce59', includes_prediction_intervals=False, prediction_intervals_size=None, forecast_point=None, predictions_start_date=None, predictions_end_date=None, actual_value_column=None, explanation_algorithm=None, max_explanations=None, shap_warnings=None), Predictions(prediction_id='62d4985ff906c744365cce61', project_id='62d3770488045b8309b02719', model_id='62d37ea98702ef9804a95dde', dataset_id='62d49848c8026c9326be5924', includes_prediction_intervals=False, prediction_intervals_size=None, forecast_point=None, predictions_start_date=None, predictions_end_date=None, actual_value_column=None, explanation_algorithm=None, max_explanations=None, shap_warnings=None), Predictions(prediction_id='62d499f1357b1833031fe7c9', project_id='62d3770488045b8309b02719', model_id='62d37ea98702ef9804a95dde', dataset_id='62d499d5c8026c9326be5992', includes_prediction_intervals=False, prediction_intervals_size=None, forecast_point=None, predictions_start_date=None, predictions_end_date=None, actual_value_column=None, explanation_algorithm=None, max_explanations=None, shap_warnings=None), Predictions(prediction_id='62d4a2b1b5ace3b1021fea77', project_id='62d3770488045b8309b02719', model_id='62d37ea98702ef9804a95dde', dataset_id='62d4a29aa06cd437f55cce42', includes_prediction_intervals=False, prediction_intervals_size=None, forecast_point=None, predictions_start_date=None, predictions_end_date=None, actual_value_column=None, explanation_algorithm=None, max_explanations=None, shap_warnings=None), Predictions(prediction_id='62d4a380f906c744365cce7b', project_id='62d3770488045b8309b02719', model_id='62d37ea98702ef9804a95dde', dataset_id='62d4a36af906c744365cce72', includes_prediction_intervals=False, prediction_intervals_size=None, forecast_point=None, predictions_start_date=None, predictions_end_date=None, actual_value_column=None, explanation_algorithm=None, max_explanations=None, shap_warnings=None), Predictions(prediction_id='62d4a41e8c257c067d1fe804', project_id='62d3770488045b8309b02719', model_id='62d37ea98702ef9804a95dde', dataset_id='62d4a40246c7a63e761feaa4', includes_prediction_intervals=False, prediction_intervals_size=None, forecast_point=None, predictions_start_date=None, predictions_end_date=None, actual_value_column=None, explanation_algorithm=None, max_explanations=None, shap_warnings=None), Predictions(prediction_id='62d4a4bd8c257c067d1fe833', project_id='62d3770488045b8309b02719', model_id='62d37ea98702ef9804a95dde', dataset_id='62d4a4a7d69cc179d9be58f4', includes_prediction_intervals=False, prediction_intervals_size=None, forecast_point=None, predictions_start_date=None, predictions_end_date=None, actual_value_column=None, explanation_algorithm=None, max_explanations=None, shap_warnings=None), Predictions(prediction_id='62d4a508335a2f11c45ccbb7', project_id='62d3770488045b8309b02719', model_id='62d37ea98702ef9804a95dde', dataset_id='62d4a4f2d69cc179d9be5907', includes_prediction_intervals=False, prediction_intervals_size=None, forecast_point=None, predictions_start_date=None, predictions_end_date=None, actual_value_column=None, explanation_algorithm=None, max_explanations=None, shap_warnings=None), Predictions(prediction_id='62dfe9479a6bab8db11979b4', project_id='62d3770488045b8309b02719', model_id='62d37ea98702ef9804a95ddf', dataset_id='62dfe9319a6bab8db1197993', includes_prediction_intervals=False, prediction_intervals_size=None, forecast_point=None, predictions_start_date=None, predictions_end_date=None, actual_value_column=None, explanation_algorithm=None, max_explanations=None, shap_warnings=None)]\n"
     ]
    }
   ],
   "source": [
    "import datarobot as dr\n",
    "predictions = dr.Predictions.list('62d3770488045b8309b02719')\n",
    "\n",
    "print(predictions)"
   ]
  },
  {
   "cell_type": "code",
   "execution_count": 70,
   "id": "bd476eeb",
   "metadata": {},
   "outputs": [],
   "source": [
    "#get last prediction request id and put it into to prediction_id\n",
    "\n",
    "\n",
    "import datarobot as dr\n",
    "\n",
    "preds = dr.Predictions.get(\"62d3770488045b8309b02719\", prediction_id=\"62dfe9479a6bab8db11979b4\")\n",
    "df = preds.get_all_as_dataframe()"
   ]
  },
  {
   "cell_type": "code",
   "execution_count": 71,
   "id": "f0599e29",
   "metadata": {},
   "outputs": [
    {
     "data": {
      "text/html": [
       "<div>\n",
       "<style scoped>\n",
       "    .dataframe tbody tr th:only-of-type {\n",
       "        vertical-align: middle;\n",
       "    }\n",
       "\n",
       "    .dataframe tbody tr th {\n",
       "        vertical-align: top;\n",
       "    }\n",
       "\n",
       "    .dataframe thead th {\n",
       "        text-align: right;\n",
       "    }\n",
       "</style>\n",
       "<table border=\"1\" class=\"dataframe\">\n",
       "  <thead>\n",
       "    <tr style=\"text-align: right;\">\n",
       "      <th></th>\n",
       "      <th>row_id</th>\n",
       "      <th>prediction</th>\n",
       "      <th>class_card</th>\n",
       "      <th>class_credit report</th>\n",
       "      <th>class_debt collection</th>\n",
       "      <th>class_loan</th>\n",
       "      <th>class_money transfer</th>\n",
       "      <th>class_mortgage</th>\n",
       "      <th>class_savings account</th>\n",
       "      <th>class_vehicle loan</th>\n",
       "    </tr>\n",
       "  </thead>\n",
       "  <tbody>\n",
       "    <tr>\n",
       "      <th>0</th>\n",
       "      <td>0</td>\n",
       "      <td>credit report</td>\n",
       "      <td>0.00061</td>\n",
       "      <td>0.992659</td>\n",
       "      <td>0.006033</td>\n",
       "      <td>0.000078</td>\n",
       "      <td>0.000084</td>\n",
       "      <td>0.000091</td>\n",
       "      <td>0.000242</td>\n",
       "      <td>0.000203</td>\n",
       "    </tr>\n",
       "  </tbody>\n",
       "</table>\n",
       "</div>"
      ],
      "text/plain": [
       "   row_id     prediction  class_card  class_credit report  \\\n",
       "0       0  credit report     0.00061             0.992659   \n",
       "\n",
       "   class_debt collection  class_loan  class_money transfer  class_mortgage  \\\n",
       "0               0.006033    0.000078              0.000084        0.000091   \n",
       "\n",
       "   class_savings account  class_vehicle loan  \n",
       "0               0.000242            0.000203  "
      ]
     },
     "execution_count": 71,
     "metadata": {},
     "output_type": "execute_result"
    }
   ],
   "source": [
    "df"
   ]
  },
  {
   "cell_type": "code",
   "execution_count": null,
   "id": "53a09203",
   "metadata": {},
   "outputs": [],
   "source": []
  }
 ],
 "metadata": {
  "kernelspec": {
   "display_name": "Python 3 (ipykernel)",
   "language": "python",
   "name": "python3"
  },
  "language_info": {
   "codemirror_mode": {
    "name": "ipython",
    "version": 3
   },
   "file_extension": ".py",
   "mimetype": "text/x-python",
   "name": "python",
   "nbconvert_exporter": "python",
   "pygments_lexer": "ipython3",
   "version": "3.9.7"
  }
 },
 "nbformat": 4,
 "nbformat_minor": 5
}
