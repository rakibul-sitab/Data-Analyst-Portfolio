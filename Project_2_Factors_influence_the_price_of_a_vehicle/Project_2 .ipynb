{
 "cells": [
  {
   "cell_type": "markdown",
   "metadata": {},
   "source": [
    "### Step 1. Open the data file and study the general information. "
   ]
  },
  {
   "cell_type": "code",
   "execution_count": null,
   "metadata": {},
   "outputs": [],
   "source": [
    "%pip install missingno"
   ]
  },
  {
   "cell_type": "code",
   "execution_count": null,
   "metadata": {},
   "outputs": [],
   "source": [
    "import pandas as pd\n",
    "import numpy as np\n",
    "import seaborn as sns\n",
    "import missingno as msno\n",
    "import matplotlib.pyplot as plt\n",
    "import seaborn as sns\n",
    "import plotly.express as px\n",
    "import matplotlib.ticker as mtick\n",
    "from pylab import *"
   ]
  },
  {
   "cell_type": "code",
   "execution_count": null,
   "metadata": {},
   "outputs": [],
   "source": [
    "price_factors = pd.read_csv(\"vehicles_us.csv\")\n",
    "display(price_factors.head())\n",
    "display(price_factors.info())\n",
    "display(price_factors.isnull().sum())\n",
    "\n",
    "#checking duplicates in model column\n",
    "pd.concat(g for _, g in price_factors.groupby(\"model\") if len(g) > 1)\n",
    "\n",
    "#checking missing at random\n",
    "msno.matrix(price_factors)\n",
    "sorted1=price_factors.sort_values('is_4wd')\n",
    "sorted2=price_factors.sort_values('paint_color')\n",
    "sorted3=price_factors.sort_values('odometer')\n",
    "sorted4=price_factors.sort_values('cylinders')\n",
    "sorted5=price_factors.sort_values('model_year')\n",
    "msno.matrix(sorted1)\n",
    "msno.matrix(sorted2)\n",
    "msno.matrix(sorted3)\n",
    "msno.matrix(sorted4)\n",
    "msno.matrix(sorted5)\n",
    "msno.dendrogram(price_factors, figsize=(10,5), fontsize=12);\n",
    "plt.title('dendrogram nulity correlation')\n",
    "plt.ylabel('nulity correlation')\n",
    "\n",
    "plt.show()\n",
    "\n"
   ]
  },
  {
   "cell_type": "markdown",
   "metadata": {},
   "source": [
    "There is missing values in is_4wd,paint_color,odometer,cylinders and model_year columns.There is no strong co-relation of missingness observed which is checked by msno() sorted method.So, the data missing at random hypothesis is interpreted.There might be a reason for missingness in between is_4wd and paint_color columns that cannot be directly observed which is also shown in dendogram tree plot.is_4wd is a boolean column only having two possible value'1' or 'NaN'.So, there is a systematic relationshio between missingness and observed data, but not the missing data."
   ]
  },
  {
   "cell_type": "markdown",
   "metadata": {},
   "source": [
    "### Step 2. Data preprocessing"
   ]
  },
  {
   "cell_type": "code",
   "execution_count": null,
   "metadata": {},
   "outputs": [],
   "source": [
    "display(price_factors.isna().any().any())\n",
    "\n",
    "# converting date_posted column from object type to datatime \n",
    "price_factors['date_posted'] = pd.to_datetime(price_factors['date_posted'], format='%Y-%m-%d') \n",
    "\n",
    "#null value of column model_year is filled with the mode value for each model\n",
    "price_factors['model_year'] = price_factors.groupby('model')['model_year'].transform(lambda grp:grp.fillna(grp.mode()[0]))\n",
    "\n",
    "# The rows are deleted which have values with 'nan' in model_year column\n",
    "price_factors = price_factors[price_factors.model_year != 'nan']\n",
    "\n",
    "#cylinders column null values filled up with mean values because there is no outliers\n",
    "sns.boxplot(x=price_factors['cylinders'])\n",
    "mean_cylinders=price_factors['cylinders'].mean()\n",
    "price_factors['cylinders'].fillna(mean_cylinders, inplace=True)\n",
    "\n",
    "#null value of column odometer is filled with the median value using trasnform method of model column as it has outliers\n",
    "sns.boxplot(x=price_factors['odometer'])\n",
    "plt.title('odometer outliers visualization')\n",
    "plt.show()\n",
    "price_factors['odometer'] = price_factors.groupby('model')['odometer'].transform(lambda x: x.fillna(x.median()))\n",
    "\n",
    "#rest null values is filled with median \n",
    "median_odometer=price_factors['odometer'].median()\n",
    "price_factors['odometer'].fillna(median_odometer, inplace=True)\n",
    "\n",
    "##null value of column paint_colour is filled with the mode value for each model\n",
    "price_factors['paint_color'] = price_factors.groupby('model')['paint_color'].transform(lambda grp:grp.fillna(grp.mode()[0]))\n",
    "\n",
    "# converting is_4wd column from float type to string \n",
    "price_factors['is_4wd'] = price_factors['is_4wd'].astype(str)\n",
    "\n",
    "# converting is_4wd column value 1.0 to 'yes' and NaN value to 'no' \n",
    "price_factors['is_4wd'] = price_factors['is_4wd'].map({'1.0': 'yes'})\n",
    "price_factors['is_4wd'] = price_factors['is_4wd'].fillna('no')\n",
    "\n",
    "\n",
    "display(price_factors.info())\n",
    "display(price_factors['is_4wd'].value_counts())\n",
    "display(price_factors.isnull().sum())\n",
    "display(price_factors.head(5))"
   ]
  },
  {
   "cell_type": "markdown",
   "metadata": {},
   "source": [
    "date_posted column have been changed from object type to datetime type.Then null value of column model_year is filled with the mode value for each model.Then cylinders column null values filled up with mean values because there is no outliers.After that null value of odometer column is filled with the median value using trasnform method of model column as it has outliers.Then null value of column paint_colour is filled with the mode value for each model.Finally, the logical is_4wd column converted from float type to string and the value of is_4wd column 1.0 to 'yes' and NaN value to 'no' have been considered."
   ]
  },
  {
   "cell_type": "markdown",
   "metadata": {},
   "source": [
    "### Step 3. Make calculations and add them to the table"
   ]
  },
  {
   "cell_type": "code",
   "execution_count": null,
   "metadata": {
    "scrolled": true
   },
   "outputs": [],
   "source": [
    "# new table is added for Day of the week, month, and year from the ad was placed\n",
    "price_factors['Ad_posted_weekday']=price_factors['date_posted'].dt.weekday\n",
    "price_factors['Ad_posted_month']=price_factors['date_posted'].dt.month\n",
    "price_factors['Ad_posted_year']=price_factors['date_posted'].dt.year\n",
    "\n",
    "#Vehicle age calculation\n",
    "price_factors['vehicle_age']=price_factors['Ad_posted_year']-price_factors['model_year']\n",
    "\n",
    "# converting vehicle column from float type to integer \n",
    "price_factors['vehicle_age'] = price_factors['vehicle_age'].astype(int)\n",
    "\n",
    "#replace resulting infinite values in vehicle_age column with the corresponding odometer value of the observation\n",
    "\n",
    "price_factors['vehicle_millege_per_year'] = (price_factors['odometer']) / (price_factors['vehicle_age'])\n",
    "price_factors['vehicle_millege_per_year'] = price_factors['odometer'].apply(lambda x : price_factors['odometer'] if x == float('inf') else x)    \n",
    "\n",
    "    \n",
    "#vehicle_average_mileage_per_year\n",
    "vehicle_average_mileage_per_year = price_factors.pivot_table(index = 'model',values = 'vehicle_millege_per_year')\n",
    "\n",
    "#In the condition column, string values is replaced with a numeric scale:\n",
    "def car_condition(condition):\n",
    "    \n",
    "    if condition == 'salvage':\n",
    "        return 0\n",
    "    if condition == 'fair':\n",
    "        return 1\n",
    "    if condition == 'good':\n",
    "        return 2\n",
    "    if condition == 'excellent':\n",
    "        return 3\n",
    "    if condition == 'like new':\n",
    "        return 4\n",
    "    if condition == 'new':\n",
    "        return 5\n",
    "price_factors['condition'] = price_factors['condition'].apply(car_condition)\n",
    "   \n",
    "display(vehicle_average_mileage_per_year.sort_values(by='vehicle_millege_per_year', ascending = False))\n",
    "display(price_factors.head())\n",
    "display(price_factors.info())\n",
    "display(price_factors.head())"
   ]
  },
  {
   "cell_type": "markdown",
   "metadata": {},
   "source": [
    "New column for Day of the week, month, and year from date_posted is added to the dataframe.Then vehicle age is calculated subtracting ad_posted_year and model_year column and vehicle_age column is converted to integer type.After that vehicle_millege_per_year is calculated dividing odometer column to vehicle_age column.There is infinite values present in vehicle_millege_per_year column which have been replaced with correspoding odometer value.Then vehicle_average_mileage_per_year is calculated using pivot_table grouping with car model.In the condition column, string values is replaced with a numeric scale using car condition function."
   ]
  },
  {
   "cell_type": "markdown",
   "metadata": {},
   "source": [
    "### Step 4. Carry out exploratory data analysis"
   ]
  },
  {
   "cell_type": "code",
   "execution_count": null,
   "metadata": {
    "scrolled": true
   },
   "outputs": [],
   "source": [
    "#how outliers affect the form and readability of the histograms\n",
    "price_factors.hist('price' , bins = 30, range = (0,70000))\n",
    "plt.title('price distribution')\n",
    "plt.xlabel(\"price\")\n",
    "plt.ylabel(\"count\")\n",
    "price_factors.hist('vehicle_age' , bins = 30, range = (0,60))\n",
    "plt.title('vehicle age distribution')\n",
    "plt.xlabel(\"vehicle age\")\n",
    "plt.ylabel(\"count\")\n",
    "price_factors.hist('vehicle_millege_per_year' , bins = 30, range = (0,150000))\n",
    "plt.title('vehicle millege per year distribution')\n",
    "plt.xlabel(\"vehicle millege per year\")\n",
    "plt.ylabel(\"count\")\n",
    "price_factors.hist('cylinders' , bins = 8, range = (0,20))\n",
    "plt.title('cylinders distribution')\n",
    "plt.xlabel(\"cylinders\")\n",
    "plt.ylabel(\"count\")\n",
    "price_factors.hist('condition' , bins = 5,range= (0,5))\n",
    "plt.title('condition distribution')\n",
    "plt.xlabel(\"condition\")\n",
    "plt.ylabel(\"count\")\n",
    "plt.show()\n"
   ]
  },
  {
   "cell_type": "markdown",
   "metadata": {},
   "source": [
    "The outliers and distributions of price,vehicle_age,vehicle_millege_per_year,cylinders and condition column have been visually determined using histogram plot."
   ]
  },
  {
   "cell_type": "code",
   "execution_count": null,
   "metadata": {},
   "outputs": [],
   "source": [
    "#Determine the upper and lower limits of outliers and remove the outliers(price column)\n",
    "price_filtered = price_factors\n",
    "display(price_factors['price'].describe())\n",
    "uw_4 =(price_factors['price'].quantile(0.75))+(1.5*((price_factors['price'].quantile(0.75))-(price_factors['price'].quantile(0.25))))\n",
    "lw_4=(price_factors['price'].quantile(0.25))-(1.5*((price_factors['price'].quantile(0.75))-(price_factors['price'].quantile(0.25))))\n",
    "print(uw_4)\n",
    "print(lw_4)\n",
    "price_filtered = price_factors.query(' @lw_4 <= price <= @uw_4 ')\n",
    "display(price_filtered.head())"
   ]
  },
  {
   "cell_type": "markdown",
   "metadata": {},
   "source": [
    "price_filtered is our new filtered dataframe.To remove outliers from price column,only -12758.5 <= price <= 34597.5 is considered using query method."
   ]
  },
  {
   "cell_type": "code",
   "execution_count": null,
   "metadata": {},
   "outputs": [],
   "source": [
    "#Determine the upper limits of outliers and remove the outliers(vehicle age column)\n",
    "\n",
    "display(price_factors['vehicle_age'].describe())\n",
    "uw_1 = (price_factors['vehicle_age'].quantile(0.75))+(1.5*((price_factors['vehicle_age'].quantile(0.75))-(price_factors['vehicle_age'].quantile(0.25))))\n",
    "lw_1 = (price_factors['vehicle_age'].quantile(0.25))-(1.5*((price_factors['vehicle_age'].quantile(0.75))-(price_factors['vehicle_age'].quantile(0.25))))\n",
    "print(uw_1)\n",
    "print(lw_1)\n",
    "vehicle_age_filtered = price_factors.query('@lw_1 <= vehicle_age <= @uw_1 ')\n",
    "display(vehicle_age_filtered.head())"
   ]
  },
  {
   "cell_type": "markdown",
   "metadata": {},
   "source": [
    "To remove outliers from vehicle age column, only -8 <= age <= 24 is considered."
   ]
  },
  {
   "cell_type": "code",
   "execution_count": null,
   "metadata": {},
   "outputs": [],
   "source": [
    "#Determine the upper limits of outliers and remove the outliers(vehicle millege per year column)\n",
    "\n",
    "display(price_factors['vehicle_millege_per_year'].describe())\n",
    "uw_2 =(price_factors['vehicle_millege_per_year'].quantile(0.75))+(1.5*((price_factors['vehicle_millege_per_year'].quantile(0.75))-(price_factors['vehicle_millege_per_year'].quantile(0.25))))\n",
    "lw_2 = (price_factors['vehicle_millege_per_year'].quantile(0.25))-(1.5*((price_factors['vehicle_millege_per_year'].quantile(0.75))-(price_factors['vehicle_millege_per_year'].quantile(0.25))))\n",
    "print(uw_2)\n",
    "print(lw_2)\n",
    "vehicle_millege_per_year_filtered = price_factors.query(' @lw_2 <= vehicle_millege_per_year <= @uw_2 ')"
   ]
  },
  {
   "cell_type": "markdown",
   "metadata": {},
   "source": [
    "To remove outliers from vehicle millege per year column, only -29515.5 <= millege <= 254792.5 is considered."
   ]
  },
  {
   "cell_type": "code",
   "execution_count": null,
   "metadata": {},
   "outputs": [],
   "source": [
    "#Determine the upper limits of outliers and remove the outliers(cylinders column)\n",
    "\n",
    "display(price_factors['cylinders'].describe())\n",
    "uw_3 =(price_factors['cylinders'].quantile(0.75))+(1.5*((price_factors['cylinders'].quantile(0.75))-(price_factors['cylinders'].quantile(0.25))))\n",
    "lw_3= (price_factors['cylinders'].quantile(0.25))-(1.5*((price_factors['cylinders'].quantile(0.75))-(price_factors['cylinders'].quantile(0.25))))\n",
    "print(uw_3)\n",
    "print(lw_3)\n",
    "cylinders_filtered = price_factors.query(' @lw_3 <= cylinders <= @uw_3')"
   ]
  },
  {
   "cell_type": "markdown",
   "metadata": {},
   "source": [
    "To remove outliers from cylinders column, only -2 <= cylinders <= 14 is considered."
   ]
  },
  {
   "cell_type": "code",
   "execution_count": null,
   "metadata": {},
   "outputs": [],
   "source": [
    "#compare unfiltered and filtered data\n",
    "#price column\n",
    "price_factors.hist('price' , bins = 30, range = (0,70000))\n",
    "plt.title('price distribution')\n",
    "plt.xlabel(\"price\")\n",
    "plt.ylabel(\"count\")\n",
    "price_filtered.hist('price' , bins = 20,range=(100,20000))\n",
    "plt.title('price filtered distribution')\n",
    "plt.xlabel(\"price\")\n",
    "plt.ylabel(\"count\")\n",
    "\n",
    "# vehicle age column\n",
    "price_factors.hist('vehicle_age' ,bins = 30, range = (0,60))\n",
    "plt.title('vehicle age distribution')\n",
    "plt.xlabel(\"vehicle age\")\n",
    "plt.ylabel(\"count\")\n",
    "vehicle_age_filtered.hist('vehicle_age', bins = 15)\n",
    "plt.title('vehicle age filtered distribution')\n",
    "plt.xlabel(\"vehicle age\")\n",
    "plt.ylabel(\"count\")\n",
    "\n",
    "#vehicle_millege_per_year\n",
    "price_factors.hist('vehicle_millege_per_year', bins = 30, range = (0,150000))\n",
    "plt.title('vehicle millege per year distribution')\n",
    "plt.xlabel(\"vehicle millege per year\")\n",
    "plt.ylabel(\"count\")\n",
    "vehicle_millege_per_year_filtered.hist('vehicle_millege_per_year', bins = 50)\n",
    "plt.title('vehicle millege per year filtered distribution')\n",
    "plt.xlabel(\"vehicle millege per year\")\n",
    "plt.ylabel(\"count\")\n",
    "\n",
    "#cylinders column\n",
    "price_factors.hist('cylinders' , bins = 8, range = (0,20))\n",
    "plt.title('cylinders distribution')\n",
    "plt.xlabel(\"cylinders\")\n",
    "plt.ylabel(\"count\")\n",
    "cylinders_filtered.hist('cylinders', bins = 5)\n",
    "plt.title('cylinders filtered distribution')\n",
    "plt.xlabel(\"cylinders\")\n",
    "plt.ylabel(\"count\")\n",
    "plt.show()\n"
   ]
  },
  {
   "cell_type": "markdown",
   "metadata": {},
   "source": [
    "All the ouliers are remove using 1.5*IQR rule.\n",
    "\n",
    "1. To remove outliers from price column,only -12758.5 <= price <= 34597.5 is considered using query method.Car price less than 5000 is most popular.\n",
    "\n",
    "2. To remove outliers from vehicle age column, only -8 <= age <= 24 is considered.Most of the car in between 5-6 years old.\n",
    "\n",
    "3. To remove outliers from vehicle millege per year column, only -29515.5 <= millege <= 254792.5 is considered.Most of the ads placed about the car whose run atleast 100000 millege per year.\n",
    "\n",
    "4. To remove outliers from cylinders column, only -2 <= cylinders <= 14 is considered.Car having 5-6 cylinders are most popular."
   ]
  },
  {
   "cell_type": "code",
   "execution_count": null,
   "metadata": {},
   "outputs": [],
   "source": [
    "#Study how many days advertisement were displayed\n",
    "\n",
    "price_factors.hist('days_listed', bins = 50)\n",
    "plt.title('days listed distribution')\n",
    "plt.xlabel(\"days listed\")\n",
    "plt.ylabel(\"count\")\n",
    "plt.show()\n",
    "\n",
    "display(price_factors['days_listed'].describe())\n",
    "print('days_listed_median:' ,price_factors['days_listed'].median())\n",
    "print('days_listed_column_length:',len(price_factors['days_listed']))\n",
    "print('short_days_listed_column_length:',len(price_factors.query(' days_listed == 0 ')))\n",
    "print('long_days_listed_column_length:',len(price_factors.query(' days_listed > 100 and days_listed < 300 ')))"
   ]
  },
  {
   "cell_type": "markdown",
   "metadata": {},
   "source": [
    "The mean and median of the day_listed column are 39.5 and 33 days respectively.The mean and median have deviation because some ads really statyed longtime which behaves like outliers.The typical lifetime of an ad is about 40 days.Some ads are removed very quickly less than 24 hours,either they sold out or advertiser change their mind not to sell.On the other hand, some ads lasted longer than 3 months which is abnormal behavior.In the next analysis, we can find out which type are more demandable or which are not."
   ]
  },
  {
   "cell_type": "code",
   "execution_count": null,
   "metadata": {},
   "outputs": [],
   "source": [
    "#Analyze the number of ads and the average price for each type of vehicle\n",
    "\n",
    "#avg_price by type\n",
    "avg_price_grouped = price_filtered.pivot_table(index = 'type',values = 'price', aggfunc='mean').reset_index()\n",
    "avg_price_grouped.columns=['type','Average price']\n",
    "\n",
    "\n",
    "#Number of ads placed by type\n",
    "\n",
    "avg_ads_grouped = price_filtered.pivot_table(index = 'type',values = 'days_listed', aggfunc='count').reset_index()\n",
    "avg_ads_grouped.columns=['type','Number of ads']\n",
    "display(avg_price_grouped.sort_values(by='Average price',ascending=False))\n",
    "display(avg_ads_grouped.sort_values(by='Number of ads',ascending=False))\n",
    "\n",
    "(avg_price_grouped.sort_values(by='Average price',ascending=False)).plot(kind='bar',x='type',y='Average price', xlabel='type',ylabel='Average price',title='Average price Vs vehicle type')\n",
    "\n",
    "(avg_ads_grouped.sort_values(by='Number of ads',ascending=False)).plot(kind='bar',x='type',y='Number of ads',xlabel='type',ylabel='Number of Ads',title='Number of Ads Vs vehicle type')\n",
    "plt.show()\n",
    "\n"
   ]
  },
  {
   "cell_type": "markdown",
   "metadata": {},
   "source": [
    "#The most ads is placed for sedan and SUV type car which have avg price of approx. 6942 and approx. 10359.Both type of cars have publication to removal time is avg 40 days."
   ]
  },
  {
   "cell_type": "code",
   "execution_count": null,
   "metadata": {
    "scrolled": true
   },
   "outputs": [],
   "source": [
    "#Factors impact the price most\n",
    "\n",
    "sns.boxplot(x='condition',y='price',data=price_filtered).set(title='price Vs condition');\n",
    "price_filtered.plot(x='vehicle_age', y='price', kind='scatter', figsize=(8, 6), sharex=False, grid=True,title='price Vs vehicle age');\n",
    "price_filtered.plot(x='vehicle_millege_per_year', y='price', kind='scatter', figsize=(8, 6), sharex=False, grid=True,title= 'price Vs vehicle millege per year');"
   ]
  },
  {
   "cell_type": "code",
   "execution_count": null,
   "metadata": {},
   "outputs": [],
   "source": [
    "sns.boxplot(x='transmission',y='price',data=price_filtered[price_filtered.type != 'bus']).set(title='Price Vs transmission type');"
   ]
  },
  {
   "cell_type": "code",
   "execution_count": null,
   "metadata": {},
   "outputs": [],
   "source": [
    "sns.boxplot(x='paint_color',y='price',data=price_filtered[price_filtered.type != 'bus']).set(title= 'Price Vs different colors vehicle')\n",
    "plt.xticks(rotation=45)"
   ]
  },
  {
   "cell_type": "code",
   "execution_count": null,
   "metadata": {},
   "outputs": [],
   "source": [
    "print(price_filtered['price'].corr(price_filtered['vehicle_age']))\n",
    "print(price_filtered['price'].corr(price_filtered['vehicle_millege_per_year']))\n",
    "print(price_filtered['price'].corr(price_filtered['condition']))"
   ]
  },
  {
   "cell_type": "markdown",
   "metadata": {},
   "source": [
    "Only the bus category have 24 ads which is less than 50 ads and is not considered for analyzing categorical variables.There is a reverse relationship between vehicle age and price.Higher the age, lower the price and lower the price,higher the age.There is also a reverse relationship between vehicle_millege_per_year and price observed.The car which condition is good,excellent and like new have higher price.Automatic car is higher price than manual car.The others type of transmission for exmaple, semi automatic or dual clutch or continuously variable transmission are higher price than only automatic/manual cars. Yellow color car have higher price and the purple have the lowest price.White color car is more popular than black color car."
   ]
  },
  {
   "cell_type": "markdown",
   "metadata": {},
   "source": [
    "### Key factors to increase the vehicle price high:\n",
    "\n",
    "**1. Vehicle age:**\n",
    "Price have a reverse relasionship with the vehicle age.Lower the age, higher the price.\n",
    "\n",
    "**2. Vehicle condition:**\n",
    "The car which condition is good,excellent and like new have higher price​.\n",
    "\n",
    "**3. Vehicle millege per year:**\n",
    "If the used millege per year is low,the price is high.A reverse relasionship have been obseved.\n",
    "\n",
    "**4. Car transmission:**\n",
    "Automatic car have higher price than manual car.The others type of transmission for exmaple, semi automatic or dual clutch or continuously variable transmission are higher price than only automatic/manual cars.\n",
    "\n",
    "**5. Car colors:**\n",
    "Yellow color car have higher price and the purple have the lowest price.White color car is more popular than black color car.\n",
    "\n",
    "#### So, if someone have limited budget to buy a car, it is hard to combine all the parameters together.But I strongly recommend to buy a manual transmission purple color higher milleges used  car."
   ]
  }
 ],
 "metadata": {
  "kernelspec": {
   "display_name": "Python 3",
   "language": "python",
   "name": "python3"
  },
  "language_info": {
   "codemirror_mode": {
    "name": "ipython",
    "version": 3
   },
   "file_extension": ".py",
   "mimetype": "text/x-python",
   "name": "python",
   "nbconvert_exporter": "python",
   "pygments_lexer": "ipython3",
   "version": "3.8.5"
  }
 },
 "nbformat": 4,
 "nbformat_minor": 2
}
