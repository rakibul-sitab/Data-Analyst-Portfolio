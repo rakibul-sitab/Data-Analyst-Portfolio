{
 "cells": [
  {
   "cell_type": "markdown",
   "metadata": {},
   "source": [
    "### Project Description:\n",
    "\n",
    "To better understand the growth and impact of Bitcoin and other cryptocurrencies ,the market capitalization of different cryptocurrencies have been explored.\n",
    "\n",
    "**Project purpose:**\n",
    "Our ultimate purpose is to spot the big winners cryptocurrencies to invest money.\n",
    "\n",
    "Warning: The cryptocurrency market is exceptionally volatile, and any money you put in might disappear into thin air. "
   ]
  },
  {
   "cell_type": "markdown",
   "metadata": {},
   "source": [
    "## Step 1. Open the data file and study the general information."
   ]
  },
  {
   "cell_type": "code",
   "execution_count": 1,
   "metadata": {},
   "outputs": [
    {
     "name": "stdout",
     "output_type": "stream",
     "text": [
      "Requirement already satisfied: missingno in c:\\users\\user\\anaconda3\\lib\\site-packages (0.4.2)\n",
      "Requirement already satisfied: scipy in c:\\users\\user\\anaconda3\\lib\\site-packages (from missingno) (1.5.2)\n",
      "Requirement already satisfied: seaborn in c:\\users\\user\\anaconda3\\lib\\site-packages (from missingno) (0.11.0)\n",
      "Requirement already satisfied: numpy in c:\\users\\user\\anaconda3\\lib\\site-packages (from missingno) (1.19.2)\n",
      "Requirement already satisfied: matplotlib in c:\\users\\user\\anaconda3\\lib\\site-packages (from missingno) (3.3.2)\n",
      "Requirement already satisfied: pandas>=0.23 in c:\\users\\user\\anaconda3\\lib\\site-packages (from seaborn->missingno) (1.1.3)\n",
      "Requirement already satisfied: python-dateutil>=2.1 in c:\\users\\user\\anaconda3\\lib\\site-packages (from matplotlib->missingno) (2.8.1)\n",
      "Requirement already satisfied: pillow>=6.2.0 in c:\\users\\user\\anaconda3\\lib\\site-packages (from matplotlib->missingno) (8.0.1)\n",
      "Requirement already satisfied: pyparsing!=2.0.4,!=2.1.2,!=2.1.6,>=2.0.3 in c:\\users\\user\\anaconda3\\lib\\site-packages (from matplotlib->missingno) (2.4.7)\n",
      "Requirement already satisfied: certifi>=2020.06.20 in c:\\users\\user\\anaconda3\\lib\\site-packages (from matplotlib->missingno) (2020.6.20)\n",
      "Requirement already satisfied: kiwisolver>=1.0.1 in c:\\users\\user\\anaconda3\\lib\\site-packages (from matplotlib->missingno) (1.3.0)\n",
      "Requirement already satisfied: cycler>=0.10 in c:\\users\\user\\anaconda3\\lib\\site-packages (from matplotlib->missingno) (0.10.0)\n",
      "Requirement already satisfied: pytz>=2017.2 in c:\\users\\user\\anaconda3\\lib\\site-packages (from pandas>=0.23->seaborn->missingno) (2020.1)\n",
      "Requirement already satisfied: six>=1.5 in c:\\users\\user\\anaconda3\\lib\\site-packages (from python-dateutil>=2.1->matplotlib->missingno) (1.15.0)\n",
      "Note: you may need to restart the kernel to use updated packages.\n",
      "Requirement already satisfied: plotly.express in c:\\users\\user\\anaconda3\\lib\\site-packages (0.4.1)\n",
      "Requirement already satisfied: as in c:\\users\\user\\anaconda3\\lib\\site-packages (0.1)\n",
      "Requirement already satisfied: px in c:\\users\\user\\anaconda3\\lib\\site-packages (0.1.0)\n",
      "Requirement already satisfied: pandas>=0.20.0 in c:\\users\\user\\anaconda3\\lib\\site-packages (from plotly.express) (1.1.3)\n",
      "Requirement already satisfied: patsy>=0.5 in c:\\users\\user\\anaconda3\\lib\\site-packages (from plotly.express) (0.5.1)\n",
      "Requirement already satisfied: plotly>=4.1.0 in c:\\users\\user\\anaconda3\\lib\\site-packages (from plotly.express) (4.14.3)\n",
      "Requirement already satisfied: scipy>=0.18 in c:\\users\\user\\anaconda3\\lib\\site-packages (from plotly.express) (1.5.2)\n",
      "Requirement already satisfied: numpy>=1.11 in c:\\users\\user\\anaconda3\\lib\\site-packages (from plotly.express) (1.19.2)\n",
      "Requirement already satisfied: statsmodels>=0.9.0 in c:\\users\\user\\anaconda3\\lib\\site-packages (from plotly.express) (0.12.0)\n",
      "Requirement already satisfied: websocket-client in c:\\users\\user\\anaconda3\\lib\\site-packages (from px) (0.57.0)\n",
      "Requirement already satisfied: python-dateutil>=2.7.3 in c:\\users\\user\\anaconda3\\lib\\site-packages (from pandas>=0.20.0->plotly.express) (2.8.1)\n",
      "Requirement already satisfied: pytz>=2017.2 in c:\\users\\user\\anaconda3\\lib\\site-packages (from pandas>=0.20.0->plotly.express) (2020.1)\n",
      "Requirement already satisfied: six in c:\\users\\user\\anaconda3\\lib\\site-packages (from patsy>=0.5->plotly.express) (1.15.0)\n",
      "Requirement already satisfied: retrying>=1.3.3 in c:\\users\\user\\anaconda3\\lib\\site-packages (from plotly>=4.1.0->plotly.express) (1.3.3)\n",
      "Note: you may need to restart the kernel to use updated packages.\n",
      "Note: you may need to restart the kernel to use updated packages.\n"
     ]
    },
    {
     "name": "stderr",
     "output_type": "stream",
     "text": [
      "ERROR: Could not find a version that satisfies the requirement plotly.graph_objects (from versions: none)\n",
      "ERROR: No matching distribution found for plotly.graph_objects\n"
     ]
    }
   ],
   "source": [
    "%pip install missingno\n",
    "%pip install plotly.express as px\n",
    "%pip install plotly.graph_objects as go"
   ]
  },
  {
   "cell_type": "code",
   "execution_count": 2,
   "metadata": {},
   "outputs": [],
   "source": [
    "import pandas as pd\n",
    "import numpy as np\n",
    "import seaborn as sns\n",
    "import matplotlib.pyplot as plt\n",
    "import seaborn as sns\n",
    "from functools import reduce\n",
    "from scipy import stats as st\n",
    "import plotly.express as px\n",
    "import plotly.graph_objects as go\n",
    "import missingno as msno"
   ]
  },
  {
   "cell_type": "code",
   "execution_count": 3,
   "metadata": {},
   "outputs": [
    {
     "data": {
      "text/html": [
       "<div>\n",
       "<style scoped>\n",
       "    .dataframe tbody tr th:only-of-type {\n",
       "        vertical-align: middle;\n",
       "    }\n",
       "\n",
       "    .dataframe tbody tr th {\n",
       "        vertical-align: top;\n",
       "    }\n",
       "\n",
       "    .dataframe thead th {\n",
       "        text-align: right;\n",
       "    }\n",
       "</style>\n",
       "<table border=\"1\" class=\"dataframe\">\n",
       "  <thead>\n",
       "    <tr style=\"text-align: right;\">\n",
       "      <th></th>\n",
       "      <th>Unnamed: 0</th>\n",
       "      <th>24h_volume_usd</th>\n",
       "      <th>available_supply</th>\n",
       "      <th>id</th>\n",
       "      <th>last_updated</th>\n",
       "      <th>market_cap_usd</th>\n",
       "      <th>max_supply</th>\n",
       "      <th>name</th>\n",
       "      <th>percent_change_1h</th>\n",
       "      <th>percent_change_24h</th>\n",
       "      <th>percent_change_7d</th>\n",
       "      <th>price_btc</th>\n",
       "      <th>price_usd</th>\n",
       "      <th>rank</th>\n",
       "      <th>symbol</th>\n",
       "      <th>total_supply</th>\n",
       "    </tr>\n",
       "  </thead>\n",
       "  <tbody>\n",
       "    <tr>\n",
       "      <th>0</th>\n",
       "      <td>0</td>\n",
       "      <td>9.007640e+09</td>\n",
       "      <td>1.672352e+07</td>\n",
       "      <td>bitcoin</td>\n",
       "      <td>1512549554</td>\n",
       "      <td>2.130493e+11</td>\n",
       "      <td>2.100000e+07</td>\n",
       "      <td>Bitcoin</td>\n",
       "      <td>0.12</td>\n",
       "      <td>7.33</td>\n",
       "      <td>17.45</td>\n",
       "      <td>1.000000</td>\n",
       "      <td>12739.500000</td>\n",
       "      <td>1</td>\n",
       "      <td>BTC</td>\n",
       "      <td>1.672352e+07</td>\n",
       "    </tr>\n",
       "    <tr>\n",
       "      <th>1</th>\n",
       "      <td>1</td>\n",
       "      <td>1.551330e+09</td>\n",
       "      <td>9.616537e+07</td>\n",
       "      <td>ethereum</td>\n",
       "      <td>1512549553</td>\n",
       "      <td>4.352945e+10</td>\n",
       "      <td>NaN</td>\n",
       "      <td>Ethereum</td>\n",
       "      <td>-0.18</td>\n",
       "      <td>-3.93</td>\n",
       "      <td>-7.33</td>\n",
       "      <td>0.036177</td>\n",
       "      <td>452.652000</td>\n",
       "      <td>2</td>\n",
       "      <td>ETH</td>\n",
       "      <td>9.616537e+07</td>\n",
       "    </tr>\n",
       "    <tr>\n",
       "      <th>2</th>\n",
       "      <td>2</td>\n",
       "      <td>1.111350e+09</td>\n",
       "      <td>1.684044e+07</td>\n",
       "      <td>bitcoin-cash</td>\n",
       "      <td>1512549578</td>\n",
       "      <td>2.529585e+10</td>\n",
       "      <td>2.100000e+07</td>\n",
       "      <td>Bitcoin Cash</td>\n",
       "      <td>1.65</td>\n",
       "      <td>-5.51</td>\n",
       "      <td>-4.75</td>\n",
       "      <td>0.120050</td>\n",
       "      <td>1502.090000</td>\n",
       "      <td>3</td>\n",
       "      <td>BCH</td>\n",
       "      <td>1.684044e+07</td>\n",
       "    </tr>\n",
       "    <tr>\n",
       "      <th>3</th>\n",
       "      <td>3</td>\n",
       "      <td>2.936090e+09</td>\n",
       "      <td>2.779530e+09</td>\n",
       "      <td>iota</td>\n",
       "      <td>1512549571</td>\n",
       "      <td>1.475225e+10</td>\n",
       "      <td>2.779530e+09</td>\n",
       "      <td>IOTA</td>\n",
       "      <td>-2.38</td>\n",
       "      <td>83.35</td>\n",
       "      <td>255.82</td>\n",
       "      <td>0.000424</td>\n",
       "      <td>5.307460</td>\n",
       "      <td>4</td>\n",
       "      <td>MIOTA</td>\n",
       "      <td>2.779530e+09</td>\n",
       "    </tr>\n",
       "    <tr>\n",
       "      <th>4</th>\n",
       "      <td>4</td>\n",
       "      <td>2.315050e+08</td>\n",
       "      <td>3.873915e+10</td>\n",
       "      <td>ripple</td>\n",
       "      <td>1512549541</td>\n",
       "      <td>9.365343e+09</td>\n",
       "      <td>1.000000e+11</td>\n",
       "      <td>Ripple</td>\n",
       "      <td>0.56</td>\n",
       "      <td>-3.70</td>\n",
       "      <td>-14.79</td>\n",
       "      <td>0.000019</td>\n",
       "      <td>0.241754</td>\n",
       "      <td>5</td>\n",
       "      <td>XRP</td>\n",
       "      <td>9.999309e+10</td>\n",
       "    </tr>\n",
       "  </tbody>\n",
       "</table>\n",
       "</div>"
      ],
      "text/plain": [
       "   Unnamed: 0  24h_volume_usd  available_supply            id  last_updated  \\\n",
       "0           0    9.007640e+09      1.672352e+07       bitcoin    1512549554   \n",
       "1           1    1.551330e+09      9.616537e+07      ethereum    1512549553   \n",
       "2           2    1.111350e+09      1.684044e+07  bitcoin-cash    1512549578   \n",
       "3           3    2.936090e+09      2.779530e+09          iota    1512549571   \n",
       "4           4    2.315050e+08      3.873915e+10        ripple    1512549541   \n",
       "\n",
       "   market_cap_usd    max_supply          name  percent_change_1h  \\\n",
       "0    2.130493e+11  2.100000e+07       Bitcoin               0.12   \n",
       "1    4.352945e+10           NaN      Ethereum              -0.18   \n",
       "2    2.529585e+10  2.100000e+07  Bitcoin Cash               1.65   \n",
       "3    1.475225e+10  2.779530e+09          IOTA              -2.38   \n",
       "4    9.365343e+09  1.000000e+11        Ripple               0.56   \n",
       "\n",
       "   percent_change_24h  percent_change_7d  price_btc     price_usd  rank  \\\n",
       "0                7.33              17.45   1.000000  12739.500000     1   \n",
       "1               -3.93              -7.33   0.036177    452.652000     2   \n",
       "2               -5.51              -4.75   0.120050   1502.090000     3   \n",
       "3               83.35             255.82   0.000424      5.307460     4   \n",
       "4               -3.70             -14.79   0.000019      0.241754     5   \n",
       "\n",
       "  symbol  total_supply  \n",
       "0    BTC  1.672352e+07  \n",
       "1    ETH  9.616537e+07  \n",
       "2    BCH  1.684044e+07  \n",
       "3  MIOTA  2.779530e+09  \n",
       "4    XRP  9.999309e+10  "
      ]
     },
     "metadata": {},
     "output_type": "display_data"
    },
    {
     "name": "stdout",
     "output_type": "stream",
     "text": [
      "<class 'pandas.core.frame.DataFrame'>\n",
      "RangeIndex: 1326 entries, 0 to 1325\n",
      "Data columns (total 16 columns):\n",
      " #   Column              Non-Null Count  Dtype  \n",
      "---  ------              --------------  -----  \n",
      " 0   Unnamed: 0          1326 non-null   int64  \n",
      " 1   24h_volume_usd      1270 non-null   float64\n",
      " 2   available_supply    1031 non-null   float64\n",
      " 3   id                  1326 non-null   object \n",
      " 4   last_updated        1326 non-null   int64  \n",
      " 5   market_cap_usd      1031 non-null   float64\n",
      " 6   max_supply          215 non-null    float64\n",
      " 7   name                1326 non-null   object \n",
      " 8   percent_change_1h   1273 non-null   float64\n",
      " 9   percent_change_24h  1270 non-null   float64\n",
      " 10  percent_change_7d   1283 non-null   float64\n",
      " 11  price_btc           1326 non-null   float64\n",
      " 12  price_usd           1326 non-null   float64\n",
      " 13  rank                1326 non-null   int64  \n",
      " 14  symbol              1326 non-null   object \n",
      " 15  total_supply        1211 non-null   float64\n",
      "dtypes: float64(10), int64(3), object(3)\n",
      "memory usage: 165.9+ KB\n"
     ]
    },
    {
     "data": {
      "text/plain": [
       "None"
      ]
     },
     "metadata": {},
     "output_type": "display_data"
    },
    {
     "data": {
      "text/plain": [
       "Unnamed: 0               0\n",
       "24h_volume_usd          56\n",
       "available_supply       295\n",
       "id                       0\n",
       "last_updated             0\n",
       "market_cap_usd         295\n",
       "max_supply            1111\n",
       "name                     0\n",
       "percent_change_1h       53\n",
       "percent_change_24h      56\n",
       "percent_change_7d       43\n",
       "price_btc                0\n",
       "price_usd                0\n",
       "rank                     0\n",
       "symbol                   0\n",
       "total_supply           115\n",
       "dtype: int64"
      ]
     },
     "metadata": {},
     "output_type": "display_data"
    },
    {
     "data": {
      "text/html": [
       "<div>\n",
       "<style scoped>\n",
       "    .dataframe tbody tr th:only-of-type {\n",
       "        vertical-align: middle;\n",
       "    }\n",
       "\n",
       "    .dataframe tbody tr th {\n",
       "        vertical-align: top;\n",
       "    }\n",
       "\n",
       "    .dataframe thead th {\n",
       "        text-align: right;\n",
       "    }\n",
       "</style>\n",
       "<table border=\"1\" class=\"dataframe\">\n",
       "  <thead>\n",
       "    <tr style=\"text-align: right;\">\n",
       "      <th></th>\n",
       "      <th>id</th>\n",
       "      <th>market_cap_usd</th>\n",
       "      <th>percent_change_1h</th>\n",
       "      <th>percent_change_24h</th>\n",
       "      <th>percent_change_7d</th>\n",
       "    </tr>\n",
       "  </thead>\n",
       "  <tbody>\n",
       "    <tr>\n",
       "      <th>0</th>\n",
       "      <td>bitcoin</td>\n",
       "      <td>2.130493e+11</td>\n",
       "      <td>0.12</td>\n",
       "      <td>7.33</td>\n",
       "      <td>17.45</td>\n",
       "    </tr>\n",
       "    <tr>\n",
       "      <th>1</th>\n",
       "      <td>ethereum</td>\n",
       "      <td>4.352945e+10</td>\n",
       "      <td>-0.18</td>\n",
       "      <td>-3.93</td>\n",
       "      <td>-7.33</td>\n",
       "    </tr>\n",
       "    <tr>\n",
       "      <th>2</th>\n",
       "      <td>bitcoin-cash</td>\n",
       "      <td>2.529585e+10</td>\n",
       "      <td>1.65</td>\n",
       "      <td>-5.51</td>\n",
       "      <td>-4.75</td>\n",
       "    </tr>\n",
       "    <tr>\n",
       "      <th>3</th>\n",
       "      <td>iota</td>\n",
       "      <td>1.475225e+10</td>\n",
       "      <td>-2.38</td>\n",
       "      <td>83.35</td>\n",
       "      <td>255.82</td>\n",
       "    </tr>\n",
       "    <tr>\n",
       "      <th>4</th>\n",
       "      <td>ripple</td>\n",
       "      <td>9.365343e+09</td>\n",
       "      <td>0.56</td>\n",
       "      <td>-3.70</td>\n",
       "      <td>-14.79</td>\n",
       "    </tr>\n",
       "  </tbody>\n",
       "</table>\n",
       "</div>"
      ],
      "text/plain": [
       "             id  market_cap_usd  percent_change_1h  percent_change_24h  \\\n",
       "0       bitcoin    2.130493e+11               0.12                7.33   \n",
       "1      ethereum    4.352945e+10              -0.18               -3.93   \n",
       "2  bitcoin-cash    2.529585e+10               1.65               -5.51   \n",
       "3          iota    1.475225e+10              -2.38               83.35   \n",
       "4        ripple    9.365343e+09               0.56               -3.70   \n",
       "\n",
       "   percent_change_7d  \n",
       "0              17.45  \n",
       "1              -7.33  \n",
       "2              -4.75  \n",
       "3             255.82  \n",
       "4             -14.79  "
      ]
     },
     "metadata": {},
     "output_type": "display_data"
    },
    {
     "name": "stdout",
     "output_type": "stream",
     "text": [
      "<class 'pandas.core.frame.DataFrame'>\n",
      "RangeIndex: 1326 entries, 0 to 1325\n",
      "Data columns (total 5 columns):\n",
      " #   Column              Non-Null Count  Dtype  \n",
      "---  ------              --------------  -----  \n",
      " 0   id                  1326 non-null   object \n",
      " 1   market_cap_usd      1031 non-null   float64\n",
      " 2   percent_change_1h   1273 non-null   float64\n",
      " 3   percent_change_24h  1270 non-null   float64\n",
      " 4   percent_change_7d   1283 non-null   float64\n",
      "dtypes: float64(4), object(1)\n",
      "memory usage: 51.9+ KB\n"
     ]
    },
    {
     "data": {
      "text/plain": [
       "None"
      ]
     },
     "metadata": {},
     "output_type": "display_data"
    },
    {
     "data": {
      "text/plain": [
       "id                      0\n",
       "market_cap_usd        295\n",
       "percent_change_1h      53\n",
       "percent_change_24h     56\n",
       "percent_change_7d      43\n",
       "dtype: int64"
      ]
     },
     "metadata": {},
     "output_type": "display_data"
    },
    {
     "name": "stdout",
     "output_type": "stream",
     "text": [
      "duplicate rows: 0\n"
     ]
    }
   ],
   "source": [
    "crypto_df=pd.read_csv('coinmarketcap_06122017.csv')\n",
    "display(crypto_df.head())\n",
    "display(crypto_df.info())\n",
    "display(crypto_df.isnull().sum())\n",
    "crypto_df_filtered=crypto_df[['id','market_cap_usd','percent_change_1h','percent_change_24h','percent_change_7d']]\n",
    "display(crypto_df_filtered.head())\n",
    "display(crypto_df_filtered.info())\n",
    "display(crypto_df_filtered.isnull().sum())\n",
    "\n",
    "#checking duplicates in dataframe\n",
    "print('duplicate rows:',crypto_df_filtered.duplicated().sum())"
   ]
  },
  {
   "cell_type": "markdown",
   "metadata": {},
   "source": [
    "* Conclusion:\n",
    "    \n",
    "In the beginning, the datasets have been opened and the general information have been analyzed .The data set has 1326 rows, 16 columns. Most of the missing values are in max_supply columns. Also market_cap_usd,available_supply,percent_change_1h, percent_change_24h and percent_change_7d column has some missing values.No duplicated row were observed."
   ]
  },
  {
   "cell_type": "markdown",
   "metadata": {},
   "source": [
    "## Step 2. Data preprocessing"
   ]
  },
  {
   "cell_type": "code",
   "execution_count": 4,
   "metadata": {},
   "outputs": [
    {
     "name": "stdout",
     "output_type": "stream",
     "text": [
      "['market_cap_usd', 'percent_change_1h', 'percent_change_24h', 'percent_change_7d']\n"
     ]
    },
    {
     "data": {
      "text/html": [
       "<div>\n",
       "<style scoped>\n",
       "    .dataframe tbody tr th:only-of-type {\n",
       "        vertical-align: middle;\n",
       "    }\n",
       "\n",
       "    .dataframe tbody tr th {\n",
       "        vertical-align: top;\n",
       "    }\n",
       "\n",
       "    .dataframe thead th {\n",
       "        text-align: right;\n",
       "    }\n",
       "</style>\n",
       "<table border=\"1\" class=\"dataframe\">\n",
       "  <thead>\n",
       "    <tr style=\"text-align: right;\">\n",
       "      <th></th>\n",
       "      <th>column</th>\n",
       "      <th>missing %</th>\n",
       "    </tr>\n",
       "  </thead>\n",
       "  <tbody>\n",
       "    <tr>\n",
       "      <th>0</th>\n",
       "      <td>market_cap_usd</td>\n",
       "      <td>0.222474</td>\n",
       "    </tr>\n",
       "    <tr>\n",
       "      <th>2</th>\n",
       "      <td>percent_change_24h</td>\n",
       "      <td>0.042232</td>\n",
       "    </tr>\n",
       "    <tr>\n",
       "      <th>1</th>\n",
       "      <td>percent_change_1h</td>\n",
       "      <td>0.039970</td>\n",
       "    </tr>\n",
       "    <tr>\n",
       "      <th>3</th>\n",
       "      <td>percent_change_7d</td>\n",
       "      <td>0.032428</td>\n",
       "    </tr>\n",
       "  </tbody>\n",
       "</table>\n",
       "</div>"
      ],
      "text/plain": [
       "               column  missing %\n",
       "0      market_cap_usd   0.222474\n",
       "2  percent_change_24h   0.042232\n",
       "1   percent_change_1h   0.039970\n",
       "3   percent_change_7d   0.032428"
      ]
     },
     "execution_count": 4,
     "metadata": {},
     "output_type": "execute_result"
    }
   ],
   "source": [
    "#dealing with null values\n",
    "missing_list=[]\n",
    "for x in crypto_df_filtered:\n",
    "    if len(crypto_df_filtered[crypto_df_filtered[x].isnull()])>0:\n",
    "        missing_list.append(x)\n",
    "print(missing_list)\n",
    "\n",
    "missing_perc=[]\n",
    "for x in missing_list:\n",
    "    missing_perc.append([x,(len(crypto_df_filtered[crypto_df_filtered[x].isnull()])/len(crypto_df_filtered))])\n",
    "missing_perc=pd.DataFrame(missing_perc,columns=['column','missing %'])\n",
    "missing_perc.sort_values(by=['missing %'],ascending=False)\n"
   ]
  },
  {
   "cell_type": "markdown",
   "metadata": {},
   "source": [
    "    \n",
    "**Conclusion:**\n",
    "    \n",
    "The missing columns have been identified in the crypto_df_filtered dataframe.The missing percentage have been also calculated.Highest missingness is found in the market_cap_usd column and then in the rating and user_score columns."
   ]
  },
  {
   "cell_type": "code",
   "execution_count": 5,
   "metadata": {},
   "outputs": [
    {
     "data": {
      "image/png": "[encoded data removed]",
      "text/plain": [
       "<Figure size 720x360 with 2 Axes>"
      ]
     },
     "metadata": {
      "needs_background": "light"
     },
     "output_type": "display_data"
    },
    {
     "data": {
      "image/png": "[encoded data removed]",
      "text/plain": [
       "<Figure size 720x360 with 1 Axes>"
      ]
     },
     "metadata": {
      "needs_background": "light"
     },
     "output_type": "display_data"
    }
   ],
   "source": [
    "#checking missingness relation\n",
    "#msno.dendrogram(games_df)\n",
    "msno.heatmap(crypto_df_filtered,figsize=(10,5), fontsize=12)\n",
    "plt.title('Heatmap nulity correlation')\n",
    "msno.dendrogram(crypto_df_filtered, figsize=(10,5), fontsize=12);\n",
    "plt.title('dendrogram nulity correlation')\n",
    "plt.ylabel('nulity correlation')\n",
    "\n",
    "plt.show()"
   ]
  },
  {
   "cell_type": "markdown",
   "metadata": {},
   "source": [
    "**Conclusion:**\n",
    "\n",
    "We can notice from this heatmap that percent_change_1h and percent_change_1h has a correlation of 0.3 which means that if the value from one column is missing then the value in another column will be missing as well\n"
   ]
  },
  {
   "cell_type": "code",
   "execution_count": 6,
   "metadata": {},
   "outputs": [
    {
     "name": "stdout",
     "output_type": "stream",
     "text": [
      "<class 'pandas.core.frame.DataFrame'>\n",
      "Int64Index: 1207 entries, 0 to 1323\n",
      "Data columns (total 5 columns):\n",
      " #   Column              Non-Null Count  Dtype  \n",
      "---  ------              --------------  -----  \n",
      " 0   id                  1207 non-null   object \n",
      " 1   market_cap_usd      974 non-null    float64\n",
      " 2   percent_change_1h   1207 non-null   float64\n",
      " 3   percent_change_24h  1207 non-null   float64\n",
      " 4   percent_change_7d   1207 non-null   float64\n",
      "dtypes: float64(4), object(1)\n",
      "memory usage: 56.6+ KB\n"
     ]
    },
    {
     "name": "stderr",
     "output_type": "stream",
     "text": [
      "C:\\Users\\User\\anaconda3\\lib\\site-packages\\pandas\\core\\frame.py:4163: SettingWithCopyWarning: \n",
      "A value is trying to be set on a copy of a slice from a DataFrame\n",
      "\n",
      "See the caveats in the documentation: https://pandas.pydata.org/pandas-docs/stable/user_guide/indexing.html#returning-a-view-versus-a-copy\n",
      "  return super().drop(\n"
     ]
    },
    {
     "data": {
      "text/plain": [
       "None"
      ]
     },
     "metadata": {},
     "output_type": "display_data"
    },
    {
     "data": {
      "text/plain": [
       "id                      0\n",
       "market_cap_usd        233\n",
       "percent_change_1h       0\n",
       "percent_change_24h      0\n",
       "percent_change_7d       0\n",
       "dtype: int64"
      ]
     },
     "metadata": {},
     "output_type": "display_data"
    }
   ],
   "source": [
    "#Deleting the nan values in year_of_release column\n",
    "drop_percent_change=crypto_df_filtered.query('percent_change_1h == \"NaN\" | percent_change_24h == \"NaN\" | percent_change_7d == \"NaN\" ')\n",
    "crypto_df_filtered.drop(drop_percent_change.index, inplace=True)\n",
    "display(crypto_df_filtered.info())\n",
    "display(crypto_df_filtered.isnull().sum())"
   ]
  },
  {
   "cell_type": "code",
   "execution_count": 7,
   "metadata": {},
   "outputs": [
    {
     "data": {
      "image/png": "[encoded data removed]",
      "text/plain": [
       "<Figure size 432x288 with 1 Axes>"
      ]
     },
     "metadata": {
      "needs_background": "light"
     },
     "output_type": "display_data"
    }
   ],
   "source": [
    "#checking outliers in market_cap_usd \n",
    "sns.boxplot(x=crypto_df_filtered['market_cap_usd'])\n",
    "plt.title('market_cap_usd outliers visualization')\n",
    "plt.show()"
   ]
  },
  {
   "cell_type": "code",
   "execution_count": 8,
   "metadata": {},
   "outputs": [
    {
     "name": "stderr",
     "output_type": "stream",
     "text": [
      "<ipython-input-8-6007ce252f58>:2: SettingWithCopyWarning: \n",
      "A value is trying to be set on a copy of a slice from a DataFrame.\n",
      "Try using .loc[row_indexer,col_indexer] = value instead\n",
      "\n",
      "See the caveats in the documentation: https://pandas.pydata.org/pandas-docs/stable/user_guide/indexing.html#returning-a-view-versus-a-copy\n",
      "  crypto_df_filtered['market_cap_usd'] = crypto_df_filtered.groupby(['id'])['market_cap_usd'].transform(lambda x: x.fillna(x.median()))\n",
      "C:\\Users\\User\\anaconda3\\lib\\site-packages\\pandas\\core\\series.py:4517: SettingWithCopyWarning: \n",
      "A value is trying to be set on a copy of a slice from a DataFrame\n",
      "\n",
      "See the caveats in the documentation: https://pandas.pydata.org/pandas-docs/stable/user_guide/indexing.html#returning-a-view-versus-a-copy\n",
      "  return super().fillna(\n"
     ]
    },
    {
     "data": {
      "text/html": [
       "<div>\n",
       "<style scoped>\n",
       "    .dataframe tbody tr th:only-of-type {\n",
       "        vertical-align: middle;\n",
       "    }\n",
       "\n",
       "    .dataframe tbody tr th {\n",
       "        vertical-align: top;\n",
       "    }\n",
       "\n",
       "    .dataframe thead th {\n",
       "        text-align: right;\n",
       "    }\n",
       "</style>\n",
       "<table border=\"1\" class=\"dataframe\">\n",
       "  <thead>\n",
       "    <tr style=\"text-align: right;\">\n",
       "      <th></th>\n",
       "      <th>market_cap_usd</th>\n",
       "      <th>percent_change_1h</th>\n",
       "      <th>percent_change_24h</th>\n",
       "      <th>percent_change_7d</th>\n",
       "    </tr>\n",
       "  </thead>\n",
       "  <tbody>\n",
       "    <tr>\n",
       "      <th>count</th>\n",
       "      <td>1.207000e+03</td>\n",
       "      <td>1207.000000</td>\n",
       "      <td>1207.000000</td>\n",
       "      <td>1207.000000</td>\n",
       "    </tr>\n",
       "    <tr>\n",
       "      <th>mean</th>\n",
       "      <td>3.104049e+08</td>\n",
       "      <td>1.036752</td>\n",
       "      <td>8.866835</td>\n",
       "      <td>29.814921</td>\n",
       "    </tr>\n",
       "    <tr>\n",
       "      <th>std</th>\n",
       "      <td>6.327078e+09</td>\n",
       "      <td>12.188987</td>\n",
       "      <td>44.761902</td>\n",
       "      <td>121.155152</td>\n",
       "    </tr>\n",
       "    <tr>\n",
       "      <th>min</th>\n",
       "      <td>1.000000e+01</td>\n",
       "      <td>-70.850000</td>\n",
       "      <td>-95.850000</td>\n",
       "      <td>-99.590000</td>\n",
       "    </tr>\n",
       "    <tr>\n",
       "      <th>25%</th>\n",
       "      <td>3.684735e+05</td>\n",
       "      <td>-0.205000</td>\n",
       "      <td>-6.925000</td>\n",
       "      <td>-7.510000</td>\n",
       "    </tr>\n",
       "    <tr>\n",
       "      <th>50%</th>\n",
       "      <td>1.863948e+06</td>\n",
       "      <td>0.520000</td>\n",
       "      <td>1.970000</td>\n",
       "      <td>11.570000</td>\n",
       "    </tr>\n",
       "    <tr>\n",
       "      <th>75%</th>\n",
       "      <td>1.035145e+07</td>\n",
       "      <td>1.040000</td>\n",
       "      <td>12.630000</td>\n",
       "      <td>36.725000</td>\n",
       "    </tr>\n",
       "    <tr>\n",
       "      <th>max</th>\n",
       "      <td>2.130493e+11</td>\n",
       "      <td>232.310000</td>\n",
       "      <td>833.010000</td>\n",
       "      <td>3360.710000</td>\n",
       "    </tr>\n",
       "  </tbody>\n",
       "</table>\n",
       "</div>"
      ],
      "text/plain": [
       "       market_cap_usd  percent_change_1h  percent_change_24h  \\\n",
       "count    1.207000e+03        1207.000000         1207.000000   \n",
       "mean     3.104049e+08           1.036752            8.866835   \n",
       "std      6.327078e+09          12.188987           44.761902   \n",
       "min      1.000000e+01         -70.850000          -95.850000   \n",
       "25%      3.684735e+05          -0.205000           -6.925000   \n",
       "50%      1.863948e+06           0.520000            1.970000   \n",
       "75%      1.035145e+07           1.040000           12.630000   \n",
       "max      2.130493e+11         232.310000          833.010000   \n",
       "\n",
       "       percent_change_7d  \n",
       "count        1207.000000  \n",
       "mean           29.814921  \n",
       "std           121.155152  \n",
       "min           -99.590000  \n",
       "25%            -7.510000  \n",
       "50%            11.570000  \n",
       "75%            36.725000  \n",
       "max          3360.710000  "
      ]
     },
     "metadata": {},
     "output_type": "display_data"
    },
    {
     "data": {
      "text/plain": [
       "id                    0\n",
       "market_cap_usd        0\n",
       "percent_change_1h     0\n",
       "percent_change_24h    0\n",
       "percent_change_7d     0\n",
       "dtype: int64"
      ]
     },
     "metadata": {},
     "output_type": "display_data"
    },
    {
     "data": {
      "text/html": [
       "<div>\n",
       "<style scoped>\n",
       "    .dataframe tbody tr th:only-of-type {\n",
       "        vertical-align: middle;\n",
       "    }\n",
       "\n",
       "    .dataframe tbody tr th {\n",
       "        vertical-align: top;\n",
       "    }\n",
       "\n",
       "    .dataframe thead th {\n",
       "        text-align: right;\n",
       "    }\n",
       "</style>\n",
       "<table border=\"1\" class=\"dataframe\">\n",
       "  <thead>\n",
       "    <tr style=\"text-align: right;\">\n",
       "      <th></th>\n",
       "      <th>id</th>\n",
       "      <th>market_cap_usd</th>\n",
       "      <th>percent_change_1h</th>\n",
       "      <th>percent_change_24h</th>\n",
       "      <th>percent_change_7d</th>\n",
       "    </tr>\n",
       "  </thead>\n",
       "  <tbody>\n",
       "    <tr>\n",
       "      <th>0</th>\n",
       "      <td>bitcoin</td>\n",
       "      <td>2.130493e+11</td>\n",
       "      <td>0.12</td>\n",
       "      <td>7.33</td>\n",
       "      <td>17.45</td>\n",
       "    </tr>\n",
       "    <tr>\n",
       "      <th>1</th>\n",
       "      <td>ethereum</td>\n",
       "      <td>4.352945e+10</td>\n",
       "      <td>-0.18</td>\n",
       "      <td>-3.93</td>\n",
       "      <td>-7.33</td>\n",
       "    </tr>\n",
       "    <tr>\n",
       "      <th>2</th>\n",
       "      <td>bitcoin-cash</td>\n",
       "      <td>2.529585e+10</td>\n",
       "      <td>1.65</td>\n",
       "      <td>-5.51</td>\n",
       "      <td>-4.75</td>\n",
       "    </tr>\n",
       "    <tr>\n",
       "      <th>3</th>\n",
       "      <td>iota</td>\n",
       "      <td>1.475225e+10</td>\n",
       "      <td>-2.38</td>\n",
       "      <td>83.35</td>\n",
       "      <td>255.82</td>\n",
       "    </tr>\n",
       "    <tr>\n",
       "      <th>4</th>\n",
       "      <td>ripple</td>\n",
       "      <td>9.365343e+09</td>\n",
       "      <td>0.56</td>\n",
       "      <td>-3.70</td>\n",
       "      <td>-14.79</td>\n",
       "    </tr>\n",
       "    <tr>\n",
       "      <th>5</th>\n",
       "      <td>dash</td>\n",
       "      <td>5.794076e+09</td>\n",
       "      <td>1.22</td>\n",
       "      <td>-3.31</td>\n",
       "      <td>10.64</td>\n",
       "    </tr>\n",
       "    <tr>\n",
       "      <th>6</th>\n",
       "      <td>litecoin</td>\n",
       "      <td>5.634498e+09</td>\n",
       "      <td>-0.17</td>\n",
       "      <td>0.80</td>\n",
       "      <td>3.68</td>\n",
       "    </tr>\n",
       "    <tr>\n",
       "      <th>7</th>\n",
       "      <td>bitcoin-gold</td>\n",
       "      <td>4.920065e+09</td>\n",
       "      <td>-0.86</td>\n",
       "      <td>-8.65</td>\n",
       "      <td>-11.24</td>\n",
       "    </tr>\n",
       "    <tr>\n",
       "      <th>8</th>\n",
       "      <td>monero</td>\n",
       "      <td>4.331688e+09</td>\n",
       "      <td>-2.00</td>\n",
       "      <td>25.65</td>\n",
       "      <td>41.23</td>\n",
       "    </tr>\n",
       "    <tr>\n",
       "      <th>9</th>\n",
       "      <td>cardano</td>\n",
       "      <td>3.231420e+09</td>\n",
       "      <td>-0.28</td>\n",
       "      <td>-5.80</td>\n",
       "      <td>-8.25</td>\n",
       "    </tr>\n",
       "  </tbody>\n",
       "</table>\n",
       "</div>"
      ],
      "text/plain": [
       "             id  market_cap_usd  percent_change_1h  percent_change_24h  \\\n",
       "0       bitcoin    2.130493e+11               0.12                7.33   \n",
       "1      ethereum    4.352945e+10              -0.18               -3.93   \n",
       "2  bitcoin-cash    2.529585e+10               1.65               -5.51   \n",
       "3          iota    1.475225e+10              -2.38               83.35   \n",
       "4        ripple    9.365343e+09               0.56               -3.70   \n",
       "5          dash    5.794076e+09               1.22               -3.31   \n",
       "6      litecoin    5.634498e+09              -0.17                0.80   \n",
       "7  bitcoin-gold    4.920065e+09              -0.86               -8.65   \n",
       "8        monero    4.331688e+09              -2.00               25.65   \n",
       "9       cardano    3.231420e+09              -0.28               -5.80   \n",
       "\n",
       "   percent_change_7d  \n",
       "0              17.45  \n",
       "1              -7.33  \n",
       "2              -4.75  \n",
       "3             255.82  \n",
       "4             -14.79  \n",
       "5              10.64  \n",
       "6               3.68  \n",
       "7             -11.24  \n",
       "8              41.23  \n",
       "9              -8.25  "
      ]
     },
     "metadata": {},
     "output_type": "display_data"
    },
    {
     "name": "stdout",
     "output_type": "stream",
     "text": [
      "<class 'pandas.core.frame.DataFrame'>\n",
      "Int64Index: 1207 entries, 0 to 1323\n",
      "Data columns (total 5 columns):\n",
      " #   Column              Non-Null Count  Dtype  \n",
      "---  ------              --------------  -----  \n",
      " 0   id                  1207 non-null   object \n",
      " 1   market_cap_usd      1207 non-null   float64\n",
      " 2   percent_change_1h   1207 non-null   float64\n",
      " 3   percent_change_24h  1207 non-null   float64\n",
      " 4   percent_change_7d   1207 non-null   float64\n",
      "dtypes: float64(4), object(1)\n",
      "memory usage: 56.6+ KB\n"
     ]
    },
    {
     "data": {
      "text/plain": [
       "None"
      ]
     },
     "metadata": {},
     "output_type": "display_data"
    }
   ],
   "source": [
    "#null value of column user_score and critic_score is filled with the median value using trasnform method according to genre and year_of_release columns group value as it has outliers\n",
    "crypto_df_filtered['market_cap_usd'] = crypto_df_filtered.groupby(['id'])['market_cap_usd'].transform(lambda x: x.fillna(x.median()))\n",
    "median_market_cap=crypto_df_filtered['market_cap_usd'].median()\n",
    "crypto_df_filtered['market_cap_usd'].fillna(median_market_cap, inplace=True)\n",
    "display(crypto_df_filtered.describe())\n",
    "display(crypto_df_filtered.isnull().sum())\n",
    "display(crypto_df_filtered.head(10))\n",
    "display(crypto_df_filtered.info())"
   ]
  },
  {
   "cell_type": "markdown",
   "metadata": {},
   "source": [
    "## 3. Data Analysis"
   ]
  },
  {
   "cell_type": "markdown",
   "metadata": {},
   "source": [
    "### Question1 :How big is Bitcoin compared with the rest of the cryptocurrencies?\n",
    "<p>\n",
    "At the time of writing, Bitcoin is under serious competition from other projects, but it is still dominant in market capitalization. Let's plot the market capitalization for the top 10 coins as a pie to better visualize this.</p>"
   ]
  },
  {
   "cell_type": "code",
   "execution_count": 9,
   "metadata": {},
   "outputs": [
    {
     "data": {
      "text/html": [
       "<div>\n",
       "<style scoped>\n",
       "    .dataframe tbody tr th:only-of-type {\n",
       "        vertical-align: middle;\n",
       "    }\n",
       "\n",
       "    .dataframe tbody tr th {\n",
       "        vertical-align: top;\n",
       "    }\n",
       "\n",
       "    .dataframe thead th {\n",
       "        text-align: right;\n",
       "    }\n",
       "</style>\n",
       "<table border=\"1\" class=\"dataframe\">\n",
       "  <thead>\n",
       "    <tr style=\"text-align: right;\">\n",
       "      <th></th>\n",
       "      <th>id</th>\n",
       "      <th>market_cap_usd</th>\n",
       "      <th>percent_change_1h</th>\n",
       "      <th>percent_change_24h</th>\n",
       "      <th>percent_change_7d</th>\n",
       "    </tr>\n",
       "  </thead>\n",
       "  <tbody>\n",
       "    <tr>\n",
       "      <th>0</th>\n",
       "      <td>bitcoin</td>\n",
       "      <td>2.130493e+11</td>\n",
       "      <td>0.12</td>\n",
       "      <td>7.33</td>\n",
       "      <td>17.45</td>\n",
       "    </tr>\n",
       "    <tr>\n",
       "      <th>1</th>\n",
       "      <td>ethereum</td>\n",
       "      <td>4.352945e+10</td>\n",
       "      <td>-0.18</td>\n",
       "      <td>-3.93</td>\n",
       "      <td>-7.33</td>\n",
       "    </tr>\n",
       "    <tr>\n",
       "      <th>2</th>\n",
       "      <td>bitcoin-cash</td>\n",
       "      <td>2.529585e+10</td>\n",
       "      <td>1.65</td>\n",
       "      <td>-5.51</td>\n",
       "      <td>-4.75</td>\n",
       "    </tr>\n",
       "    <tr>\n",
       "      <th>3</th>\n",
       "      <td>iota</td>\n",
       "      <td>1.475225e+10</td>\n",
       "      <td>-2.38</td>\n",
       "      <td>83.35</td>\n",
       "      <td>255.82</td>\n",
       "    </tr>\n",
       "    <tr>\n",
       "      <th>4</th>\n",
       "      <td>ripple</td>\n",
       "      <td>9.365343e+09</td>\n",
       "      <td>0.56</td>\n",
       "      <td>-3.70</td>\n",
       "      <td>-14.79</td>\n",
       "    </tr>\n",
       "    <tr>\n",
       "      <th>5</th>\n",
       "      <td>dash</td>\n",
       "      <td>5.794076e+09</td>\n",
       "      <td>1.22</td>\n",
       "      <td>-3.31</td>\n",
       "      <td>10.64</td>\n",
       "    </tr>\n",
       "    <tr>\n",
       "      <th>6</th>\n",
       "      <td>litecoin</td>\n",
       "      <td>5.634498e+09</td>\n",
       "      <td>-0.17</td>\n",
       "      <td>0.80</td>\n",
       "      <td>3.68</td>\n",
       "    </tr>\n",
       "    <tr>\n",
       "      <th>7</th>\n",
       "      <td>bitcoin-gold</td>\n",
       "      <td>4.920065e+09</td>\n",
       "      <td>-0.86</td>\n",
       "      <td>-8.65</td>\n",
       "      <td>-11.24</td>\n",
       "    </tr>\n",
       "    <tr>\n",
       "      <th>8</th>\n",
       "      <td>monero</td>\n",
       "      <td>4.331688e+09</td>\n",
       "      <td>-2.00</td>\n",
       "      <td>25.65</td>\n",
       "      <td>41.23</td>\n",
       "    </tr>\n",
       "    <tr>\n",
       "      <th>9</th>\n",
       "      <td>cardano</td>\n",
       "      <td>3.231420e+09</td>\n",
       "      <td>-0.28</td>\n",
       "      <td>-5.80</td>\n",
       "      <td>-8.25</td>\n",
       "    </tr>\n",
       "  </tbody>\n",
       "</table>\n",
       "</div>"
      ],
      "text/plain": [
       "             id  market_cap_usd  percent_change_1h  percent_change_24h  \\\n",
       "0       bitcoin    2.130493e+11               0.12                7.33   \n",
       "1      ethereum    4.352945e+10              -0.18               -3.93   \n",
       "2  bitcoin-cash    2.529585e+10               1.65               -5.51   \n",
       "3          iota    1.475225e+10              -2.38               83.35   \n",
       "4        ripple    9.365343e+09               0.56               -3.70   \n",
       "5          dash    5.794076e+09               1.22               -3.31   \n",
       "6      litecoin    5.634498e+09              -0.17                0.80   \n",
       "7  bitcoin-gold    4.920065e+09              -0.86               -8.65   \n",
       "8        monero    4.331688e+09              -2.00               25.65   \n",
       "9       cardano    3.231420e+09              -0.28               -5.80   \n",
       "\n",
       "   percent_change_7d  \n",
       "0              17.45  \n",
       "1              -7.33  \n",
       "2              -4.75  \n",
       "3             255.82  \n",
       "4             -14.79  \n",
       "5              10.64  \n",
       "6               3.68  \n",
       "7             -11.24  \n",
       "8              41.23  \n",
       "9              -8.25  "
      ]
     },
     "metadata": {},
     "output_type": "display_data"
    },
    {
     "data": {
      "text/html": [
       "<div>\n",
       "<style scoped>\n",
       "    .dataframe tbody tr th:only-of-type {\n",
       "        vertical-align: middle;\n",
       "    }\n",
       "\n",
       "    .dataframe tbody tr th {\n",
       "        vertical-align: top;\n",
       "    }\n",
       "\n",
       "    .dataframe thead th {\n",
       "        text-align: right;\n",
       "    }\n",
       "</style>\n",
       "<table border=\"1\" class=\"dataframe\">\n",
       "  <thead>\n",
       "    <tr style=\"text-align: right;\">\n",
       "      <th></th>\n",
       "      <th>market_cap_usd</th>\n",
       "      <th>percent_change_1h</th>\n",
       "      <th>percent_change_24h</th>\n",
       "      <th>percent_change_7d</th>\n",
       "      <th>market_cap_perc</th>\n",
       "    </tr>\n",
       "    <tr>\n",
       "      <th>id</th>\n",
       "      <th></th>\n",
       "      <th></th>\n",
       "      <th></th>\n",
       "      <th></th>\n",
       "      <th></th>\n",
       "    </tr>\n",
       "  </thead>\n",
       "  <tbody>\n",
       "    <tr>\n",
       "      <th>bitcoin</th>\n",
       "      <td>2.130493e+11</td>\n",
       "      <td>0.12</td>\n",
       "      <td>7.33</td>\n",
       "      <td>17.45</td>\n",
       "      <td>64.579199</td>\n",
       "    </tr>\n",
       "    <tr>\n",
       "      <th>ethereum</th>\n",
       "      <td>4.352945e+10</td>\n",
       "      <td>-0.18</td>\n",
       "      <td>-3.93</td>\n",
       "      <td>-7.33</td>\n",
       "      <td>13.194580</td>\n",
       "    </tr>\n",
       "    <tr>\n",
       "      <th>bitcoin-cash</th>\n",
       "      <td>2.529585e+10</td>\n",
       "      <td>1.65</td>\n",
       "      <td>-5.51</td>\n",
       "      <td>-4.75</td>\n",
       "      <td>7.667641</td>\n",
       "    </tr>\n",
       "    <tr>\n",
       "      <th>iota</th>\n",
       "      <td>1.475225e+10</td>\n",
       "      <td>-2.38</td>\n",
       "      <td>83.35</td>\n",
       "      <td>255.82</td>\n",
       "      <td>4.471679</td>\n",
       "    </tr>\n",
       "    <tr>\n",
       "      <th>ripple</th>\n",
       "      <td>9.365343e+09</td>\n",
       "      <td>0.56</td>\n",
       "      <td>-3.70</td>\n",
       "      <td>-14.79</td>\n",
       "      <td>2.838809</td>\n",
       "    </tr>\n",
       "    <tr>\n",
       "      <th>dash</th>\n",
       "      <td>5.794076e+09</td>\n",
       "      <td>1.22</td>\n",
       "      <td>-3.31</td>\n",
       "      <td>10.64</td>\n",
       "      <td>1.756291</td>\n",
       "    </tr>\n",
       "    <tr>\n",
       "      <th>litecoin</th>\n",
       "      <td>5.634498e+09</td>\n",
       "      <td>-0.17</td>\n",
       "      <td>0.80</td>\n",
       "      <td>3.68</td>\n",
       "      <td>1.707920</td>\n",
       "    </tr>\n",
       "    <tr>\n",
       "      <th>bitcoin-gold</th>\n",
       "      <td>4.920065e+09</td>\n",
       "      <td>-0.86</td>\n",
       "      <td>-8.65</td>\n",
       "      <td>-11.24</td>\n",
       "      <td>1.491363</td>\n",
       "    </tr>\n",
       "    <tr>\n",
       "      <th>monero</th>\n",
       "      <td>4.331688e+09</td>\n",
       "      <td>-2.00</td>\n",
       "      <td>25.65</td>\n",
       "      <td>41.23</td>\n",
       "      <td>1.313015</td>\n",
       "    </tr>\n",
       "    <tr>\n",
       "      <th>cardano</th>\n",
       "      <td>3.231420e+09</td>\n",
       "      <td>-0.28</td>\n",
       "      <td>-5.80</td>\n",
       "      <td>-8.25</td>\n",
       "      <td>0.979503</td>\n",
       "    </tr>\n",
       "  </tbody>\n",
       "</table>\n",
       "</div>"
      ],
      "text/plain": [
       "              market_cap_usd  percent_change_1h  percent_change_24h  \\\n",
       "id                                                                    \n",
       "bitcoin         2.130493e+11               0.12                7.33   \n",
       "ethereum        4.352945e+10              -0.18               -3.93   \n",
       "bitcoin-cash    2.529585e+10               1.65               -5.51   \n",
       "iota            1.475225e+10              -2.38               83.35   \n",
       "ripple          9.365343e+09               0.56               -3.70   \n",
       "dash            5.794076e+09               1.22               -3.31   \n",
       "litecoin        5.634498e+09              -0.17                0.80   \n",
       "bitcoin-gold    4.920065e+09              -0.86               -8.65   \n",
       "monero          4.331688e+09              -2.00               25.65   \n",
       "cardano         3.231420e+09              -0.28               -5.80   \n",
       "\n",
       "              percent_change_7d  market_cap_perc  \n",
       "id                                                \n",
       "bitcoin                   17.45        64.579199  \n",
       "ethereum                  -7.33        13.194580  \n",
       "bitcoin-cash              -4.75         7.667641  \n",
       "iota                     255.82         4.471679  \n",
       "ripple                   -14.79         2.838809  \n",
       "dash                      10.64         1.756291  \n",
       "litecoin                   3.68         1.707920  \n",
       "bitcoin-gold             -11.24         1.491363  \n",
       "monero                    41.23         1.313015  \n",
       "cardano                   -8.25         0.979503  "
      ]
     },
     "metadata": {},
     "output_type": "display_data"
    },
    {
     "data": {
      "image/png": "[encoded data removed]",
      "text/plain": [
       "<Figure size 720x576 with 1 Axes>"
      ]
     },
     "metadata": {},
     "output_type": "display_data"
    }
   ],
   "source": [
    "cap_top_10=crypto_df_filtered.head(10)\n",
    "display(cap_top_10)\n",
    "cap_top_10 = cap_top_10.assign(market_cap_perc = lambda x: (x.market_cap_usd / cap_top_10.market_cap_usd.sum())*100)\n",
    "cap_top_10=cap_top_10.set_index('id')\n",
    "display(cap_top_10)\n",
    "cap_top_10.plot(y='market_cap_perc',kind='pie', style='o',subplots=True, shadow = True, figsize=(10,8),autopct='%1.1f%%',title=\"Top ten cryptocurrency capitalization\")\n",
    "plt.show()"
   ]
  },
  {
   "cell_type": "markdown",
   "metadata": {},
   "source": [
    "* Conclusion:\n",
    "\n",
    "Bitcoin have the highest capitalization comparing to all cryptocurrencies."
   ]
  },
  {
   "cell_type": "markdown",
   "metadata": {},
   "source": [
    "### Question 2: Volatility in cryptocurrencies\n",
    "<p>The cryptocurrencies market has been spectacularly volatile since the first exchange opened.Let's explore this volatility a bit more and plot the top 10 biggest gainers and top 10 losers in market capitalization! We will begin by selecting and plotting the 24 hours and 7 days percentage change, which we already have available.</p>"
   ]
  },
  {
   "cell_type": "code",
   "execution_count": 10,
   "metadata": {},
   "outputs": [
    {
     "data": {
      "text/html": [
       "<div>\n",
       "<style scoped>\n",
       "    .dataframe tbody tr th:only-of-type {\n",
       "        vertical-align: middle;\n",
       "    }\n",
       "\n",
       "    .dataframe tbody tr th {\n",
       "        vertical-align: top;\n",
       "    }\n",
       "\n",
       "    .dataframe thead th {\n",
       "        text-align: right;\n",
       "    }\n",
       "</style>\n",
       "<table border=\"1\" class=\"dataframe\">\n",
       "  <thead>\n",
       "    <tr style=\"text-align: right;\">\n",
       "      <th></th>\n",
       "      <th>percent_change_24h</th>\n",
       "    </tr>\n",
       "    <tr>\n",
       "      <th>id</th>\n",
       "      <th></th>\n",
       "    </tr>\n",
       "  </thead>\n",
       "  <tbody>\n",
       "    <tr>\n",
       "      <th>fedoracoin</th>\n",
       "      <td>833.01</td>\n",
       "    </tr>\n",
       "    <tr>\n",
       "      <th>cashcoin</th>\n",
       "      <td>457.86</td>\n",
       "    </tr>\n",
       "    <tr>\n",
       "      <th>bitzeny</th>\n",
       "      <td>416.04</td>\n",
       "    </tr>\n",
       "    <tr>\n",
       "      <th>beatcoin</th>\n",
       "      <td>295.49</td>\n",
       "    </tr>\n",
       "    <tr>\n",
       "      <th>eaglecoin</th>\n",
       "      <td>272.50</td>\n",
       "    </tr>\n",
       "  </tbody>\n",
       "</table>\n",
       "</div>"
      ],
      "text/plain": [
       "            percent_change_24h\n",
       "id                            \n",
       "fedoracoin              833.01\n",
       "cashcoin                457.86\n",
       "bitzeny                 416.04\n",
       "beatcoin                295.49\n",
       "eaglecoin               272.50"
      ]
     },
     "metadata": {},
     "output_type": "display_data"
    },
    {
     "data": {
      "image/png": "[encoded data removed]",
      "text/plain": [
       "<Figure size 720x432 with 2 Axes>"
      ]
     },
     "metadata": {
      "needs_background": "light"
     },
     "output_type": "display_data"
    }
   ],
   "source": [
    "#% percentage change in 24H\n",
    "percentage_24H= crypto_df_filtered[['id','percent_change_24h']].sort_values(by='percent_change_24h',ascending=False).set_index('id')\n",
    "display(percentage_24H.head())\n",
    "\n",
    "def top10_subplot(volatility_series, title):\n",
    "    # making the subplot and the figure for nrows and ncolumns\n",
    "    fig, axes = plt.subplots(nrows=1, ncols=2, figsize=(10, 6))\n",
    "    # Plotting with pandas the barchart for the top 10 losers with the color RED\n",
    "    ax = volatility_series[:10].plot.bar(color=\"darkred\", ax=axes[0])\n",
    "    # Setting the main title to TITLE\n",
    "    fig.suptitle(title)\n",
    "    # Setting the ylabel to \"% change\"\n",
    "    ax.set_ylabel('% change')\n",
    "    ax.set_xlabel('Winner cryptocurrencies')\n",
    "    # Same as above, but for the top 10 winners and in darkblue\n",
    "    ax = volatility_series[-10:].plot.bar(color=\"darkblue\", ax=axes[1])\n",
    "    ax.set_xlabel('Looser cryptocurrencies')\n",
    "    # Returning this for good practice, might use later\n",
    "    return fig, ax\n",
    "\n",
    "DTITLE = \"24 hours top winners and loosers\"\n",
    "\n",
    "\n",
    "# Calling the function above with the volatility.percent_change_24h series\n",
    "# and title DTITLE \n",
    "fig, ax = top10_subplot(percentage_24H.percent_change_24h, DTITLE)\n"
   ]
  },
  {
   "cell_type": "markdown",
   "metadata": {},
   "source": [
    "* Conclusion:\n",
    "\n",
    "**Top three winners in 24H:**\n",
    "\n",
    "1. fedoracin\n",
    "2. cashcoin \n",
    "3. bitzeny\n",
    "\n",
    "**Top three loosers in 24H:**\n",
    "\n",
    "1. flappycoin \n",
    "2. credencecoin \n",
    "3. coupecoin"
   ]
  },
  {
   "cell_type": "code",
   "execution_count": 11,
   "metadata": {},
   "outputs": [
    {
     "data": {
      "text/html": [
       "<div>\n",
       "<style scoped>\n",
       "    .dataframe tbody tr th:only-of-type {\n",
       "        vertical-align: middle;\n",
       "    }\n",
       "\n",
       "    .dataframe tbody tr th {\n",
       "        vertical-align: top;\n",
       "    }\n",
       "\n",
       "    .dataframe thead th {\n",
       "        text-align: right;\n",
       "    }\n",
       "</style>\n",
       "<table border=\"1\" class=\"dataframe\">\n",
       "  <thead>\n",
       "    <tr style=\"text-align: right;\">\n",
       "      <th></th>\n",
       "      <th>percent_change_7d</th>\n",
       "    </tr>\n",
       "    <tr>\n",
       "      <th>id</th>\n",
       "      <th></th>\n",
       "    </tr>\n",
       "  </thead>\n",
       "  <tbody>\n",
       "    <tr>\n",
       "      <th>bitzeny</th>\n",
       "      <td>3360.71</td>\n",
       "    </tr>\n",
       "    <tr>\n",
       "      <th>bitcoin-red</th>\n",
       "      <td>693.37</td>\n",
       "    </tr>\n",
       "    <tr>\n",
       "      <th>btcmoon</th>\n",
       "      <td>582.11</td>\n",
       "    </tr>\n",
       "    <tr>\n",
       "      <th>comet</th>\n",
       "      <td>560.46</td>\n",
       "    </tr>\n",
       "    <tr>\n",
       "      <th>yoyow</th>\n",
       "      <td>547.12</td>\n",
       "    </tr>\n",
       "  </tbody>\n",
       "</table>\n",
       "</div>"
      ],
      "text/plain": [
       "             percent_change_7d\n",
       "id                            \n",
       "bitzeny                3360.71\n",
       "bitcoin-red             693.37\n",
       "btcmoon                 582.11\n",
       "comet                   560.46\n",
       "yoyow                   547.12"
      ]
     },
     "metadata": {},
     "output_type": "display_data"
    },
    {
     "data": {
      "image/png": "[encoded data removed]",
      "text/plain": [
       "<Figure size 720x432 with 2 Axes>"
      ]
     },
     "metadata": {
      "needs_background": "light"
     },
     "output_type": "display_data"
    }
   ],
   "source": [
    "#% percentage change in 7 day\n",
    "percentage_7d= crypto_df_filtered[['id','percent_change_7d']].sort_values(by='percent_change_7d',ascending=False).set_index('id')\n",
    "display(percentage_7d.head())\n",
    "WTITLE = 'Weekly top winners and loosers'\n",
    "fig, ax = top10_subplot(percentage_7d.percent_change_7d, WTITLE)"
   ]
  },
  {
   "cell_type": "markdown",
   "metadata": {},
   "source": [
    "* Conclusion:\n",
    "\n",
    "**Top three winners in weekly:**\n",
    "1. bitzeny\n",
    "2. bitcoin-red \n",
    "3. btcmoon\n",
    "\n",
    "**Top three loosers in weekly:**\n",
    "\n",
    "1. royalties \n",
    "2. flappycoin\n",
    "3. credence-coin"
   ]
  },
  {
   "cell_type": "markdown",
   "metadata": {},
   "source": [
    "## Question 3: Selecting bigger than 10 billion capitalization\n",
    "<p>The names of the cryptocurrencies above are quite unknown, and there is a considerable fluctuation between the 1 and 7 days percentage changes. As with stocks, and many other financial products, the smaller the capitalization, the bigger the risk and reward. Smaller cryptocurrencies are less stable projects in general, and therefore even riskier investments than the bigger ones </p>"
   ]
  },
  {
   "cell_type": "code",
   "execution_count": 12,
   "metadata": {},
   "outputs": [
    {
     "data": {
      "image/png": "[encoded data removed]",
      "text/plain": [
       "<Figure size 576x432 with 1 Axes>"
      ]
     },
     "metadata": {
      "needs_background": "light"
     },
     "output_type": "display_data"
    },
    {
     "data": {
      "text/html": [
       "<div>\n",
       "<style scoped>\n",
       "    .dataframe tbody tr th:only-of-type {\n",
       "        vertical-align: middle;\n",
       "    }\n",
       "\n",
       "    .dataframe tbody tr th {\n",
       "        vertical-align: top;\n",
       "    }\n",
       "\n",
       "    .dataframe thead th {\n",
       "        text-align: right;\n",
       "    }\n",
       "</style>\n",
       "<table border=\"1\" class=\"dataframe\">\n",
       "  <thead>\n",
       "    <tr style=\"text-align: right;\">\n",
       "      <th></th>\n",
       "      <th>market_cap_usd</th>\n",
       "      <th>percent_change_1h</th>\n",
       "      <th>percent_change_24h</th>\n",
       "      <th>percent_change_7d</th>\n",
       "    </tr>\n",
       "    <tr>\n",
       "      <th>id</th>\n",
       "      <th></th>\n",
       "      <th></th>\n",
       "      <th></th>\n",
       "      <th></th>\n",
       "    </tr>\n",
       "  </thead>\n",
       "  <tbody>\n",
       "    <tr>\n",
       "      <th>bitcoin</th>\n",
       "      <td>2.130493e+11</td>\n",
       "      <td>0.12</td>\n",
       "      <td>7.33</td>\n",
       "      <td>17.45</td>\n",
       "    </tr>\n",
       "    <tr>\n",
       "      <th>ethereum</th>\n",
       "      <td>4.352945e+10</td>\n",
       "      <td>-0.18</td>\n",
       "      <td>-3.93</td>\n",
       "      <td>-7.33</td>\n",
       "    </tr>\n",
       "    <tr>\n",
       "      <th>bitcoin-cash</th>\n",
       "      <td>2.529585e+10</td>\n",
       "      <td>1.65</td>\n",
       "      <td>-5.51</td>\n",
       "      <td>-4.75</td>\n",
       "    </tr>\n",
       "    <tr>\n",
       "      <th>iota</th>\n",
       "      <td>1.475225e+10</td>\n",
       "      <td>-2.38</td>\n",
       "      <td>83.35</td>\n",
       "      <td>255.82</td>\n",
       "    </tr>\n",
       "  </tbody>\n",
       "</table>\n",
       "</div>"
      ],
      "text/plain": [
       "              market_cap_usd  percent_change_1h  percent_change_24h  \\\n",
       "id                                                                    \n",
       "bitcoin         2.130493e+11               0.12                7.33   \n",
       "ethereum        4.352945e+10              -0.18               -3.93   \n",
       "bitcoin-cash    2.529585e+10               1.65               -5.51   \n",
       "iota            1.475225e+10              -2.38               83.35   \n",
       "\n",
       "              percent_change_7d  \n",
       "id                               \n",
       "bitcoin                   17.45  \n",
       "ethereum                  -7.33  \n",
       "bitcoin-cash              -4.75  \n",
       "iota                     255.82  "
      ]
     },
     "metadata": {},
     "output_type": "display_data"
    }
   ],
   "source": [
    "# Selecting everything bigger than 10 billion \n",
    "largecap = crypto_df_filtered.query('market_cap_usd > 1E+10')\n",
    "largecap=largecap.set_index('id')\n",
    "largecap.plot(y='percent_change_7d', kind='bar', figsize=(8,6))\n",
    "plt.xlabel(\"Cryptocurrency\")\n",
    "plt.ylabel(\"%(change weekly)\")\n",
    "plt.title('% change weekly Vs 10 bllion capitalization cryptocurrencies')\n",
    "plt.show()\n",
    "\n",
    "plt.show()\n",
    "\n",
    "# Printing out largecaps\n",
    "display(largecap)"
   ]
  },
  {
   "cell_type": "markdown",
   "metadata": {},
   "source": [
    "* Conclusion:\n",
    "\n",
    "Bit coin have the highest capitalization(approx. two hundred thirteen billion) but weekly positive percentage change approx 18% .On the other hand, iota is top 4 capitalization(approx. fourteen billion) but 256% weekly positive percentage change."
   ]
  },
  {
   "cell_type": "markdown",
   "metadata": {},
   "source": [
    "## Question 4 : Count different marketcaps using three categories"
   ]
  },
  {
   "cell_type": "code",
   "execution_count": 13,
   "metadata": {},
   "outputs": [
    {
     "data": {
      "image/png": "[encoded data removed]",
      "text/plain": [
       "<Figure size 432x288 with 1 Axes>"
      ]
     },
     "metadata": {
      "needs_background": "light"
     },
     "output_type": "display_data"
    }
   ],
   "source": [
    "def capcount(value):\n",
    "    return crypto_df_filtered.query(value).count().id\n",
    "\n",
    "# Labels for the plot\n",
    "LABELS = [\"biggish\", \"micro\", \"nano\"]\n",
    "\n",
    "# Using capcount count the not_so_small cryptos\n",
    "biggish = capcount(\"market_cap_usd > 3E+8\")\n",
    "\n",
    "# Same as above for micro\n",
    "micro = capcount(\"market_cap_usd >= 5E+7 & market_cap_usd < 3E+8\")\n",
    "\n",
    "# for nano\n",
    "nano =  capcount(\"market_cap_usd < 5E+7\")\n",
    "\n",
    "# Making a list with the 3 counts\n",
    "values = [biggish, micro, nano]\n",
    "\n",
    "# Plotting them with matplotlib \n",
    "plt.bar(range(len(values)), values, tick_label=LABELS);"
   ]
  },
  {
   "cell_type": "markdown",
   "metadata": {},
   "source": [
    "* Conclusion:\n",
    "\n",
    "Most of the crytocurrencies have very low capitalization and less than fifty million."
   ]
  },
  {
   "cell_type": "markdown",
   "metadata": {},
   "source": [
    "## Suggestion to invest money:¶\n",
    "\n",
    "Bit coin have the highest capitalization(approx. two hundred thirteen billion) but weekly positive percentage change approx 18% .On the other hand, iota is top 4 capitalization(approx. fourteen billion) but 256% weekly positive percentage change.So if someone wants to invest money,I recommend iota crytocurrencies.But if someone does not want to take risk,I strongly recommend Bitcoin."
   ]
  }
 ],
 "metadata": {
  "kernelspec": {
   "display_name": "Python 3",
   "language": "python",
   "name": "python3"
  },
  "language_info": {
   "codemirror_mode": {
    "name": "ipython",
    "version": 3
   },
   "file_extension": ".py",
   "mimetype": "text/x-python",
   "name": "python",
   "nbconvert_exporter": "python",
   "pygments_lexer": "ipython3",
   "version": "3.8.5"
  }
 },
 "nbformat": 4,
 "nbformat_minor": 4
}
