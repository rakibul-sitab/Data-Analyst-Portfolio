{
 "cells": [
  {
   "cell_type": "code",
   "execution_count": 1,
   "metadata": {},
   "outputs": [],
   "source": [
    "import pandas as pd\n",
    "import numpy as np\n",
    "import seaborn as sns\n",
    "import matplotlib.pyplot as plt\n",
    "from functools import reduce\n",
    "from scipy import stats as st\n",
    "import plotly.express as px\n",
    "import plotly.graph_objects as go\n",
    "import datetime as dt\n",
    "from operator import attrgetter\n",
    "import matplotlib.colors as mcolors"
   ]
  },
  {
   "cell_type": "code",
   "execution_count": 2,
   "metadata": {},
   "outputs": [
    {
     "data": {
      "text/html": [
       "<div>\n",
       "<style scoped>\n",
       "    .dataframe tbody tr th:only-of-type {\n",
       "        vertical-align: middle;\n",
       "    }\n",
       "\n",
       "    .dataframe tbody tr th {\n",
       "        vertical-align: top;\n",
       "    }\n",
       "\n",
       "    .dataframe thead th {\n",
       "        text-align: right;\n",
       "    }\n",
       "</style>\n",
       "<table border=\"1\" class=\"dataframe\">\n",
       "  <thead>\n",
       "    <tr style=\"text-align: right;\">\n",
       "      <th></th>\n",
       "      <th>user_id</th>\n",
       "      <th>test</th>\n",
       "      <th>converted</th>\n",
       "      <th>tot_impr</th>\n",
       "      <th>mode_impr_day</th>\n",
       "      <th>mode_impr_hour</th>\n",
       "      <th>control_group</th>\n",
       "    </tr>\n",
       "  </thead>\n",
       "  <tbody>\n",
       "    <tr>\n",
       "      <th>0</th>\n",
       "      <td>1069124</td>\n",
       "      <td>1</td>\n",
       "      <td>0</td>\n",
       "      <td>130</td>\n",
       "      <td>1</td>\n",
       "      <td>20</td>\n",
       "      <td>0</td>\n",
       "    </tr>\n",
       "    <tr>\n",
       "      <th>1</th>\n",
       "      <td>1119715</td>\n",
       "      <td>1</td>\n",
       "      <td>0</td>\n",
       "      <td>93</td>\n",
       "      <td>2</td>\n",
       "      <td>22</td>\n",
       "      <td>0</td>\n",
       "    </tr>\n",
       "    <tr>\n",
       "      <th>2</th>\n",
       "      <td>1144181</td>\n",
       "      <td>1</td>\n",
       "      <td>0</td>\n",
       "      <td>21</td>\n",
       "      <td>2</td>\n",
       "      <td>18</td>\n",
       "      <td>0</td>\n",
       "    </tr>\n",
       "    <tr>\n",
       "      <th>3</th>\n",
       "      <td>1435133</td>\n",
       "      <td>1</td>\n",
       "      <td>0</td>\n",
       "      <td>355</td>\n",
       "      <td>2</td>\n",
       "      <td>10</td>\n",
       "      <td>0</td>\n",
       "    </tr>\n",
       "    <tr>\n",
       "      <th>4</th>\n",
       "      <td>1015700</td>\n",
       "      <td>1</td>\n",
       "      <td>0</td>\n",
       "      <td>276</td>\n",
       "      <td>5</td>\n",
       "      <td>14</td>\n",
       "      <td>0</td>\n",
       "    </tr>\n",
       "  </tbody>\n",
       "</table>\n",
       "</div>"
      ],
      "text/plain": [
       "   user_id  test  converted  tot_impr  mode_impr_day  mode_impr_hour  \\\n",
       "0  1069124     1          0       130              1              20   \n",
       "1  1119715     1          0        93              2              22   \n",
       "2  1144181     1          0        21              2              18   \n",
       "3  1435133     1          0       355              2              10   \n",
       "4  1015700     1          0       276              5              14   \n",
       "\n",
       "   control_group  \n",
       "0              0  \n",
       "1              0  \n",
       "2              0  \n",
       "3              0  \n",
       "4              0  "
      ]
     },
     "metadata": {},
     "output_type": "display_data"
    },
    {
     "name": "stdout",
     "output_type": "stream",
     "text": [
      "<class 'pandas.core.frame.DataFrame'>\n",
      "RangeIndex: 588101 entries, 0 to 588100\n",
      "Data columns (total 7 columns):\n",
      " #   Column          Non-Null Count   Dtype\n",
      "---  ------          --------------   -----\n",
      " 0   user_id         588101 non-null  int64\n",
      " 1   test            588101 non-null  int64\n",
      " 2   converted       588101 non-null  int64\n",
      " 3   tot_impr        588101 non-null  int64\n",
      " 4   mode_impr_day   588101 non-null  int64\n",
      " 5   mode_impr_hour  588101 non-null  int64\n",
      " 6   control_group   588101 non-null  int64\n",
      "dtypes: int64(7)\n",
      "memory usage: 31.4 MB\n"
     ]
    },
    {
     "data": {
      "text/plain": [
       "None"
      ]
     },
     "metadata": {},
     "output_type": "display_data"
    },
    {
     "data": {
      "text/plain": [
       "user_id           0\n",
       "test              0\n",
       "converted         0\n",
       "tot_impr          0\n",
       "mode_impr_day     0\n",
       "mode_impr_hour    0\n",
       "control_group     0\n",
       "dtype: int64"
      ]
     },
     "metadata": {},
     "output_type": "display_data"
    },
    {
     "name": "stdout",
     "output_type": "stream",
     "text": [
      "duplicate rows: 0\n"
     ]
    }
   ],
   "source": [
    "rocket_fuel=pd.read_csv('test.csv')\n",
    "display(rocket_fuel.head(5))\n",
    "display(rocket_fuel.info())\n",
    "display(rocket_fuel.isnull().sum())\n",
    "#checking duplicates in dataframe\n",
    "print('duplicate rows:',rocket_fuel.duplicated().sum())"
   ]
  },
  {
   "cell_type": "code",
   "execution_count": 3,
   "metadata": {},
   "outputs": [
    {
     "name": "stdout",
     "output_type": "stream",
     "text": [
      "total_user_treated_group: 564577\n"
     ]
    }
   ],
   "source": [
    "\n",
    "total_user_treated_group = rocket_fuel['test'].sum()\n",
    "print('total_user_treated_group:',total_user_treated_group)"
   ]
  },
  {
   "cell_type": "code",
   "execution_count": 4,
   "metadata": {},
   "outputs": [
    {
     "name": "stdout",
     "output_type": "stream",
     "text": [
      "total_user_control_group_group: 23524\n"
     ]
    }
   ],
   "source": [
    "total_user_control_group = rocket_fuel['control_group'].sum()\n",
    "print('total_user_control_group_group:',total_user_control_group)"
   ]
  },
  {
   "cell_type": "code",
   "execution_count": 5,
   "metadata": {},
   "outputs": [
    {
     "name": "stdout",
     "output_type": "stream",
     "text": [
      "converted_user_treated_group: 14423\n"
     ]
    }
   ],
   "source": [
    "converted_user_treated_group=(rocket_fuel['test']*rocket_fuel['converted']).sum()\n",
    "print('converted_user_treated_group:',converted_user_treated_group)"
   ]
  },
  {
   "cell_type": "code",
   "execution_count": 6,
   "metadata": {},
   "outputs": [
    {
     "name": "stdout",
     "output_type": "stream",
     "text": [
      "converted_user_control_group: 420\n"
     ]
    }
   ],
   "source": [
    "converted_user_control_group=(rocket_fuel['control_group']*rocket_fuel['converted']).sum()\n",
    "print('converted_user_control_group:',converted_user_control_group)"
   ]
  },
  {
   "cell_type": "code",
   "execution_count": 7,
   "metadata": {},
   "outputs": [
    {
     "name": "stdout",
     "output_type": "stream",
     "text": [
      "conversion_rate_treated_group: 0.025546559636683747\n"
     ]
    }
   ],
   "source": [
    "conversion_rate_treated_group = converted_user_treated_group/total_user_treated_group\n",
    "print('conversion_rate_treated_group:',conversion_rate_treated_group)\n"
   ]
  },
  {
   "cell_type": "code",
   "execution_count": 8,
   "metadata": {},
   "outputs": [
    {
     "name": "stdout",
     "output_type": "stream",
     "text": [
      "conversion_rate_control_group: 0.01785410644448223\n"
     ]
    }
   ],
   "source": [
    "conversion_rate_control_group = converted_user_control_group/total_user_control_group\n",
    "print('conversion_rate_control_group:',conversion_rate_control_group)"
   ]
  },
  {
   "cell_type": "code",
   "execution_count": 9,
   "metadata": {},
   "outputs": [
    {
     "name": "stdout",
     "output_type": "stream",
     "text": [
      "diff_conversion_rate: 0.007692453192201517\n"
     ]
    }
   ],
   "source": [
    "diff_conversion_rate = conversion_rate_treated_group - conversion_rate_control_group\n",
    "print('diff_conversion_rate:',diff_conversion_rate)\n"
   ]
  },
  {
   "cell_type": "code",
   "execution_count": 10,
   "metadata": {},
   "outputs": [
    {
     "name": "stdout",
     "output_type": "stream",
     "text": [
      "return_of_the_campaign: 173719.28583574222\n"
     ]
    }
   ],
   "source": [
    "value_of_a_converted_user=40\n",
    "return_of_the_campaign = value_of_a_converted_user*total_user_treated_group*diff_conversion_rate\n",
    "print('return_of_the_campaign:',return_of_the_campaign)"
   ]
  },
  {
   "cell_type": "code",
   "execution_count": 11,
   "metadata": {},
   "outputs": [
    {
     "name": "stdout",
     "output_type": "stream",
     "text": [
      "total_number_of_impression: 14597182\n"
     ]
    }
   ],
   "source": [
    "total_number_of_impression=rocket_fuel['tot_impr'].sum()\n",
    "print('total_number_of_impression:',total_number_of_impression)"
   ]
  },
  {
   "cell_type": "code",
   "execution_count": 12,
   "metadata": {},
   "outputs": [
    {
     "name": "stdout",
     "output_type": "stream",
     "text": [
      "cost_of_the_ad_campaign: 1621.909111111111\n"
     ]
    }
   ],
   "source": [
    "cost_per_thosands_impression=9\n",
    "cost_of_the_ad_campaign=(total_number_of_impression)/(1000*cost_per_thosands_impression)\n",
    "print('cost_of_the_ad_campaign:',cost_of_the_ad_campaign)"
   ]
  },
  {
   "cell_type": "code",
   "execution_count": 13,
   "metadata": {},
   "outputs": [
    {
     "name": "stdout",
     "output_type": "stream",
     "text": [
      "ROI_of_the_campaign: 106.10790428739466\n"
     ]
    }
   ],
   "source": [
    "ROI_of_the_campaign=(return_of_the_campaign - cost_of_the_ad_campaign)/cost_of_the_ad_campaign\n",
    "print('ROI_of_the_campaign:',ROI_of_the_campaign)"
   ]
  },
  {
   "cell_type": "code",
   "execution_count": 14,
   "metadata": {},
   "outputs": [
    {
     "name": "stdout",
     "output_type": "stream",
     "text": [
      "return_of_the_treated_group: 173719.28583574222\n"
     ]
    }
   ],
   "source": [
    "return_of_the_treated_group= return_of_the_campaign\n",
    "print('return_of_the_treated_group:',return_of_the_treated_group)\n"
   ]
  },
  {
   "cell_type": "code",
   "execution_count": 15,
   "metadata": {},
   "outputs": [
    {
     "name": "stdout",
     "output_type": "stream",
     "text": [
      "number_of_impression_in_the_treated_group: 14014701\n"
     ]
    }
   ],
   "source": [
    "number_of_impression_in_the_treated_group=((rocket_fuel['tot_impr'])*(rocket_fuel['test'])).sum()\n",
    "print('number_of_impression_in_the_treated_group:',number_of_impression_in_the_treated_group)"
   ]
  },
  {
   "cell_type": "code",
   "execution_count": 16,
   "metadata": {},
   "outputs": [
    {
     "name": "stdout",
     "output_type": "stream",
     "text": [
      "cost_of_treated_group: 1557.189\n"
     ]
    }
   ],
   "source": [
    "cost_of_treated_group=number_of_impression_in_the_treated_group/(1000*cost_per_thosands_impression)\n",
    "print('cost_of_treated_group:',cost_of_treated_group)"
   ]
  },
  {
   "cell_type": "code",
   "execution_count": 17,
   "metadata": {},
   "outputs": [
    {
     "name": "stdout",
     "output_type": "stream",
     "text": [
      "ROI_of_the_treated_group: 110.55953826782888\n"
     ]
    }
   ],
   "source": [
    "ROI_of_the_treated_group=(return_of_the_treated_group-cost_of_treated_group)/(cost_of_treated_group)\n",
    "print('ROI_of_the_treated_group:',ROI_of_the_treated_group)"
   ]
  },
  {
   "cell_type": "code",
   "execution_count": 18,
   "metadata": {},
   "outputs": [
    {
     "name": "stdout",
     "output_type": "stream",
     "text": [
      "cost_of_the_control_group: 64.72011111111111\n"
     ]
    }
   ],
   "source": [
    "cost_of_the_control_group=(((rocket_fuel['tot_impr'])*(rocket_fuel['control_group'])).sum())/(1000*cost_per_thosands_impression)\n",
    "print('cost_of_the_control_group:',cost_of_the_control_group)                      \n",
    "                    "
   ]
  },
  {
   "cell_type": "code",
   "execution_count": 19,
   "metadata": {},
   "outputs": [
    {
     "name": "stdout",
     "output_type": "stream",
     "text": [
      "return_of_the_control_group: 7238.2907557339395\n"
     ]
    }
   ],
   "source": [
    "return_of_the_control_group=value_of_a_converted_user*total_user_control_group*diff_conversion_rate\n",
    "print('return_of_the_control_group:',return_of_the_control_group)    "
   ]
  },
  {
   "cell_type": "code",
   "execution_count": 20,
   "metadata": {},
   "outputs": [
    {
     "name": "stdout",
     "output_type": "stream",
     "text": [
      "ROI_of_the_control_group: 110.83990001666228\n"
     ]
    }
   ],
   "source": [
    "ROI_of_the_control_group=(return_of_the_control_group-cost_of_the_control_group)/cost_of_the_control_group\n",
    "print('ROI_of_the_control_group:',ROI_of_the_control_group)"
   ]
  },
  {
   "cell_type": "code",
   "execution_count": 21,
   "metadata": {},
   "outputs": [
    {
     "data": {
      "text/html": [
       "<div>\n",
       "<style scoped>\n",
       "    .dataframe tbody tr th:only-of-type {\n",
       "        vertical-align: middle;\n",
       "    }\n",
       "\n",
       "    .dataframe tbody tr th {\n",
       "        vertical-align: top;\n",
       "    }\n",
       "\n",
       "    .dataframe thead th {\n",
       "        text-align: right;\n",
       "    }\n",
       "</style>\n",
       "<table border=\"1\" class=\"dataframe\">\n",
       "  <thead>\n",
       "    <tr style=\"text-align: right;\">\n",
       "      <th></th>\n",
       "      <th>number_of_converted_in_the_treated_group</th>\n",
       "    </tr>\n",
       "    <tr>\n",
       "      <th>mode_impr_day</th>\n",
       "      <th></th>\n",
       "    </tr>\n",
       "  </thead>\n",
       "  <tbody>\n",
       "    <tr>\n",
       "      <th>1</th>\n",
       "      <td>2778</td>\n",
       "    </tr>\n",
       "    <tr>\n",
       "      <th>2</th>\n",
       "      <td>2270</td>\n",
       "    </tr>\n",
       "    <tr>\n",
       "      <th>3</th>\n",
       "      <td>1963</td>\n",
       "    </tr>\n",
       "    <tr>\n",
       "      <th>4</th>\n",
       "      <td>1711</td>\n",
       "    </tr>\n",
       "    <tr>\n",
       "      <th>5</th>\n",
       "      <td>1995</td>\n",
       "    </tr>\n",
       "  </tbody>\n",
       "</table>\n",
       "</div>"
      ],
      "text/plain": [
       "               number_of_converted_in_the_treated_group\n",
       "mode_impr_day                                          \n",
       "1                                                  2778\n",
       "2                                                  2270\n",
       "3                                                  1963\n",
       "4                                                  1711\n",
       "5                                                  1995"
      ]
     },
     "metadata": {},
     "output_type": "display_data"
    },
    {
     "data": {
      "text/html": [
       "<div>\n",
       "<style scoped>\n",
       "    .dataframe tbody tr th:only-of-type {\n",
       "        vertical-align: middle;\n",
       "    }\n",
       "\n",
       "    .dataframe tbody tr th {\n",
       "        vertical-align: top;\n",
       "    }\n",
       "\n",
       "    .dataframe thead th {\n",
       "        text-align: right;\n",
       "    }\n",
       "</style>\n",
       "<table border=\"1\" class=\"dataframe\">\n",
       "  <thead>\n",
       "    <tr style=\"text-align: right;\">\n",
       "      <th></th>\n",
       "      <th>number_of_converted_in_the_control_group</th>\n",
       "    </tr>\n",
       "    <tr>\n",
       "      <th>mode_impr_day</th>\n",
       "      <th></th>\n",
       "    </tr>\n",
       "  </thead>\n",
       "  <tbody>\n",
       "    <tr>\n",
       "      <th>1</th>\n",
       "      <td>79</td>\n",
       "    </tr>\n",
       "    <tr>\n",
       "      <th>2</th>\n",
       "      <td>42</td>\n",
       "    </tr>\n",
       "    <tr>\n",
       "      <th>3</th>\n",
       "      <td>55</td>\n",
       "    </tr>\n",
       "    <tr>\n",
       "      <th>4</th>\n",
       "      <td>79</td>\n",
       "    </tr>\n",
       "    <tr>\n",
       "      <th>5</th>\n",
       "      <td>62</td>\n",
       "    </tr>\n",
       "  </tbody>\n",
       "</table>\n",
       "</div>"
      ],
      "text/plain": [
       "               number_of_converted_in_the_control_group\n",
       "mode_impr_day                                          \n",
       "1                                                    79\n",
       "2                                                    42\n",
       "3                                                    55\n",
       "4                                                    79\n",
       "5                                                    62"
      ]
     },
     "metadata": {},
     "output_type": "display_data"
    }
   ],
   "source": [
    "#converted consumers in weekdays\n",
    "\n",
    "rocket_fuel['number_of_converted_in_the_treated_group']=((rocket_fuel['converted'])*(rocket_fuel['test']))\n",
    "rocket_fuel_treat_group_day_converted=rocket_fuel.groupby(\"mode_impr_day\").agg({'number_of_converted_in_the_treated_group': 'sum'})\n",
    "display(rocket_fuel_treat_group_day_converted.head())\n",
    "\n",
    "rocket_fuel['number_of_converted_in_the_control_group']=((rocket_fuel['converted'])*(rocket_fuel['control_group']))\n",
    "rocket_fuel_control_group_day_converted=rocket_fuel.groupby(\"mode_impr_day\").agg({'number_of_converted_in_the_control_group': 'sum'})\n",
    "display(rocket_fuel_control_group_day_converted.head())\n"
   ]
  },
  {
   "cell_type": "code",
   "execution_count": 22,
   "metadata": {},
   "outputs": [
    {
     "data": {
      "image/png": "[encoded data removed]",
      "text/plain": [
       "<Figure size 432x288 with 1 Axes>"
      ]
     },
     "metadata": {
      "needs_background": "light"
     },
     "output_type": "display_data"
    },
    {
     "data": {
      "image/png": "[encoded data removed]",
      "text/plain": [
       "<Figure size 432x288 with 1 Axes>"
      ]
     },
     "metadata": {
      "needs_background": "light"
     },
     "output_type": "display_data"
    }
   ],
   "source": [
    "plt.figure(figsize=[6,4])\n",
    "plt.grid(True)\n",
    "plt.plot(rocket_fuel_treat_group_day_converted['number_of_converted_in_the_treated_group'],label='Active users')\n",
    "plt.title('Converted consumer response for treated group')\n",
    "plt.xlabel(\"Weekdays\")\n",
    "plt.ylabel(\"Consumers\")\n",
    "plt.show()\n",
    "#----------------------------------------------------\n",
    "\n",
    "plt.figure(figsize=[6,4])\n",
    "plt.grid(True)\n",
    "plt.plot(rocket_fuel_control_group_day_converted['number_of_converted_in_the_control_group'],label='Active users')\n",
    "plt.title('Converted Consumer response for control group')\n",
    "plt.xlabel(\"Weekdays\")\n",
    "plt.ylabel(\"Consumers\")\n",
    "plt.show()"
   ]
  },
  {
   "cell_type": "code",
   "execution_count": 23,
   "metadata": {},
   "outputs": [
    {
     "data": {
      "text/html": [
       "<div>\n",
       "<style scoped>\n",
       "    .dataframe tbody tr th:only-of-type {\n",
       "        vertical-align: middle;\n",
       "    }\n",
       "\n",
       "    .dataframe tbody tr th {\n",
       "        vertical-align: top;\n",
       "    }\n",
       "\n",
       "    .dataframe thead th {\n",
       "        text-align: right;\n",
       "    }\n",
       "</style>\n",
       "<table border=\"1\" class=\"dataframe\">\n",
       "  <thead>\n",
       "    <tr style=\"text-align: right;\">\n",
       "      <th></th>\n",
       "      <th>number_of_impression_in_the_treated_group</th>\n",
       "    </tr>\n",
       "    <tr>\n",
       "      <th>mode_impr_day</th>\n",
       "      <th></th>\n",
       "    </tr>\n",
       "  </thead>\n",
       "  <tbody>\n",
       "    <tr>\n",
       "      <th>1</th>\n",
       "      <td>2121848</td>\n",
       "    </tr>\n",
       "    <tr>\n",
       "      <th>2</th>\n",
       "      <td>1792031</td>\n",
       "    </tr>\n",
       "    <tr>\n",
       "      <th>3</th>\n",
       "      <td>1904940</td>\n",
       "    </tr>\n",
       "    <tr>\n",
       "      <th>4</th>\n",
       "      <td>1839933</td>\n",
       "    </tr>\n",
       "    <tr>\n",
       "      <th>5</th>\n",
       "      <td>2369546</td>\n",
       "    </tr>\n",
       "    <tr>\n",
       "      <th>6</th>\n",
       "      <td>1980043</td>\n",
       "    </tr>\n",
       "    <tr>\n",
       "      <th>7</th>\n",
       "      <td>2006360</td>\n",
       "    </tr>\n",
       "  </tbody>\n",
       "</table>\n",
       "</div>"
      ],
      "text/plain": [
       "               number_of_impression_in_the_treated_group\n",
       "mode_impr_day                                           \n",
       "1                                                2121848\n",
       "2                                                1792031\n",
       "3                                                1904940\n",
       "4                                                1839933\n",
       "5                                                2369546\n",
       "6                                                1980043\n",
       "7                                                2006360"
      ]
     },
     "metadata": {},
     "output_type": "display_data"
    },
    {
     "data": {
      "text/html": [
       "<div>\n",
       "<style scoped>\n",
       "    .dataframe tbody tr th:only-of-type {\n",
       "        vertical-align: middle;\n",
       "    }\n",
       "\n",
       "    .dataframe tbody tr th {\n",
       "        vertical-align: top;\n",
       "    }\n",
       "\n",
       "    .dataframe thead th {\n",
       "        text-align: right;\n",
       "    }\n",
       "</style>\n",
       "<table border=\"1\" class=\"dataframe\">\n",
       "  <thead>\n",
       "    <tr style=\"text-align: right;\">\n",
       "      <th></th>\n",
       "      <th>number_of_impression_in_the_control_group</th>\n",
       "    </tr>\n",
       "    <tr>\n",
       "      <th>mode_impr_day</th>\n",
       "      <th></th>\n",
       "    </tr>\n",
       "  </thead>\n",
       "  <tbody>\n",
       "    <tr>\n",
       "      <th>1</th>\n",
       "      <td>83582</td>\n",
       "    </tr>\n",
       "    <tr>\n",
       "      <th>2</th>\n",
       "      <td>61690</td>\n",
       "    </tr>\n",
       "    <tr>\n",
       "      <th>3</th>\n",
       "      <td>80478</td>\n",
       "    </tr>\n",
       "    <tr>\n",
       "      <th>4</th>\n",
       "      <td>104240</td>\n",
       "    </tr>\n",
       "    <tr>\n",
       "      <th>5</th>\n",
       "      <td>94950</td>\n",
       "    </tr>\n",
       "    <tr>\n",
       "      <th>6</th>\n",
       "      <td>80048</td>\n",
       "    </tr>\n",
       "    <tr>\n",
       "      <th>7</th>\n",
       "      <td>77493</td>\n",
       "    </tr>\n",
       "  </tbody>\n",
       "</table>\n",
       "</div>"
      ],
      "text/plain": [
       "               number_of_impression_in_the_control_group\n",
       "mode_impr_day                                           \n",
       "1                                                  83582\n",
       "2                                                  61690\n",
       "3                                                  80478\n",
       "4                                                 104240\n",
       "5                                                  94950\n",
       "6                                                  80048\n",
       "7                                                  77493"
      ]
     },
     "metadata": {},
     "output_type": "display_data"
    }
   ],
   "source": [
    "\n",
    "rocket_fuel['number_of_impression_in_the_treated_group']=((rocket_fuel['tot_impr'])*(rocket_fuel['test']))\n",
    "rocket_fuel['number_of_impression_in_the_control_group']=((rocket_fuel['tot_impr'])*(rocket_fuel['control_group']))\n",
    "rocket_fuel_treat_group_day=rocket_fuel.groupby(\"mode_impr_day\").agg({'number_of_impression_in_the_treated_group': 'sum'})\n",
    "rocket_fuel_control_group_day=rocket_fuel.groupby(\"mode_impr_day\").agg({'number_of_impression_in_the_control_group': 'sum'})\n",
    "display(rocket_fuel_treat_group_day)\n",
    "display(rocket_fuel_control_group_day)"
   ]
  },
  {
   "cell_type": "code",
   "execution_count": 24,
   "metadata": {},
   "outputs": [
    {
     "data": {
      "image/png": "[encoded data removed]",
      "text/plain": [
       "<Figure size 432x288 with 1 Axes>"
      ]
     },
     "metadata": {
      "needs_background": "light"
     },
     "output_type": "display_data"
    },
    {
     "data": {
      "image/png": "[encoded data removed]",
      "text/plain": [
       "<Figure size 432x288 with 1 Axes>"
      ]
     },
     "metadata": {
      "needs_background": "light"
     },
     "output_type": "display_data"
    }
   ],
   "source": [
    "plt.figure(figsize=[6,4])\n",
    "plt.grid(True)\n",
    "plt.plot(rocket_fuel_control_group_day['number_of_impression_in_the_control_group'],label='Active users')\n",
    "plt.title('Consumer response for control group in week days')\n",
    "plt.xlabel(\"Weekdays\")\n",
    "plt.ylabel(\"Consumers\")\n",
    "plt.show()\n",
    "#----------------------------------------------------\n",
    "\n",
    "plt.figure(figsize=[6,4])\n",
    "plt.grid(True)\n",
    "plt.plot(rocket_fuel_treat_group_day['number_of_impression_in_the_treated_group'],label='Active users')\n",
    "plt.title('Consumer response for treated group week days')\n",
    "plt.xlabel(\"Weekdays\")\n",
    "plt.ylabel(\"Consumers\")\n",
    "plt.show()"
   ]
  },
  {
   "cell_type": "code",
   "execution_count": 25,
   "metadata": {},
   "outputs": [
    {
     "data": {
      "image/png": "[encoded data removed]",
      "text/plain": [
       "<Figure size 432x288 with 1 Axes>"
      ]
     },
     "metadata": {
      "needs_background": "light"
     },
     "output_type": "display_data"
    },
    {
     "data": {
      "image/png": "[encoded data removed]",
      "text/plain": [
       "<Figure size 432x288 with 1 Axes>"
      ]
     },
     "metadata": {
      "needs_background": "light"
     },
     "output_type": "display_data"
    }
   ],
   "source": [
    "#convertion rate for treated group\n",
    "\n",
    "treat_conversion= rocket_fuel_treat_group_day_converted['number_of_converted_in_the_treated_group'] / rocket_fuel_treat_group_day['number_of_impression_in_the_treated_group']\n",
    "plt.plot(treat_conversion,label='Active users')\n",
    "plt.title('conversion rate for treated group in weekdays')\n",
    "plt.xlabel(\"Weekdays\")\n",
    "plt.ylabel(\"Conversion rate\")\n",
    "plt.show()\n",
    "\n",
    "#convertion rate for control group\n",
    "\n",
    "control_conversion= rocket_fuel_control_group_day_converted['number_of_converted_in_the_control_group'] / rocket_fuel_control_group_day['number_of_impression_in_the_control_group']\n",
    "plt.plot(control_conversion,label='Active users')\n",
    "plt.title('conversion rate for control group in weekdays')\n",
    "plt.xlabel(\"Weekdays\")\n",
    "plt.ylabel(\"Conversion rates\")\n",
    "plt.show()"
   ]
  },
  {
   "cell_type": "code",
   "execution_count": 26,
   "metadata": {},
   "outputs": [
    {
     "data": {
      "text/html": [
       "<div>\n",
       "<style scoped>\n",
       "    .dataframe tbody tr th:only-of-type {\n",
       "        vertical-align: middle;\n",
       "    }\n",
       "\n",
       "    .dataframe tbody tr th {\n",
       "        vertical-align: top;\n",
       "    }\n",
       "\n",
       "    .dataframe thead th {\n",
       "        text-align: right;\n",
       "    }\n",
       "</style>\n",
       "<table border=\"1\" class=\"dataframe\">\n",
       "  <thead>\n",
       "    <tr style=\"text-align: right;\">\n",
       "      <th></th>\n",
       "      <th>user_id</th>\n",
       "      <th>test</th>\n",
       "      <th>converted</th>\n",
       "      <th>tot_impr</th>\n",
       "      <th>mode_impr_day</th>\n",
       "      <th>mode_impr_hour</th>\n",
       "      <th>control_group</th>\n",
       "      <th>number_of_converted_in_the_treated_group</th>\n",
       "      <th>number_of_converted_in_the_control_group</th>\n",
       "      <th>number_of_impression_in_the_treated_group</th>\n",
       "      <th>number_of_impression_in_the_control_group</th>\n",
       "    </tr>\n",
       "  </thead>\n",
       "  <tbody>\n",
       "    <tr>\n",
       "      <th>0</th>\n",
       "      <td>1069124</td>\n",
       "      <td>1</td>\n",
       "      <td>0</td>\n",
       "      <td>130</td>\n",
       "      <td>1</td>\n",
       "      <td>20</td>\n",
       "      <td>0</td>\n",
       "      <td>0</td>\n",
       "      <td>0</td>\n",
       "      <td>130</td>\n",
       "      <td>0</td>\n",
       "    </tr>\n",
       "    <tr>\n",
       "      <th>1</th>\n",
       "      <td>1119715</td>\n",
       "      <td>1</td>\n",
       "      <td>0</td>\n",
       "      <td>93</td>\n",
       "      <td>2</td>\n",
       "      <td>22</td>\n",
       "      <td>0</td>\n",
       "      <td>0</td>\n",
       "      <td>0</td>\n",
       "      <td>93</td>\n",
       "      <td>0</td>\n",
       "    </tr>\n",
       "    <tr>\n",
       "      <th>2</th>\n",
       "      <td>1144181</td>\n",
       "      <td>1</td>\n",
       "      <td>0</td>\n",
       "      <td>21</td>\n",
       "      <td>2</td>\n",
       "      <td>18</td>\n",
       "      <td>0</td>\n",
       "      <td>0</td>\n",
       "      <td>0</td>\n",
       "      <td>21</td>\n",
       "      <td>0</td>\n",
       "    </tr>\n",
       "    <tr>\n",
       "      <th>3</th>\n",
       "      <td>1435133</td>\n",
       "      <td>1</td>\n",
       "      <td>0</td>\n",
       "      <td>355</td>\n",
       "      <td>2</td>\n",
       "      <td>10</td>\n",
       "      <td>0</td>\n",
       "      <td>0</td>\n",
       "      <td>0</td>\n",
       "      <td>355</td>\n",
       "      <td>0</td>\n",
       "    </tr>\n",
       "    <tr>\n",
       "      <th>4</th>\n",
       "      <td>1015700</td>\n",
       "      <td>1</td>\n",
       "      <td>0</td>\n",
       "      <td>276</td>\n",
       "      <td>5</td>\n",
       "      <td>14</td>\n",
       "      <td>0</td>\n",
       "      <td>0</td>\n",
       "      <td>0</td>\n",
       "      <td>276</td>\n",
       "      <td>0</td>\n",
       "    </tr>\n",
       "  </tbody>\n",
       "</table>\n",
       "</div>"
      ],
      "text/plain": [
       "   user_id  test  converted  tot_impr  mode_impr_day  mode_impr_hour  \\\n",
       "0  1069124     1          0       130              1              20   \n",
       "1  1119715     1          0        93              2              22   \n",
       "2  1144181     1          0        21              2              18   \n",
       "3  1435133     1          0       355              2              10   \n",
       "4  1015700     1          0       276              5              14   \n",
       "\n",
       "   control_group  number_of_converted_in_the_treated_group  \\\n",
       "0              0                                         0   \n",
       "1              0                                         0   \n",
       "2              0                                         0   \n",
       "3              0                                         0   \n",
       "4              0                                         0   \n",
       "\n",
       "   number_of_converted_in_the_control_group  \\\n",
       "0                                         0   \n",
       "1                                         0   \n",
       "2                                         0   \n",
       "3                                         0   \n",
       "4                                         0   \n",
       "\n",
       "   number_of_impression_in_the_treated_group  \\\n",
       "0                                        130   \n",
       "1                                         93   \n",
       "2                                         21   \n",
       "3                                        355   \n",
       "4                                        276   \n",
       "\n",
       "   number_of_impression_in_the_control_group  \n",
       "0                                          0  \n",
       "1                                          0  \n",
       "2                                          0  \n",
       "3                                          0  \n",
       "4                                          0  "
      ]
     },
     "metadata": {},
     "output_type": "display_data"
    },
    {
     "name": "stderr",
     "output_type": "stream",
     "text": [
      "<ipython-input-26-7b4c28d8c395>:7: SettingWithCopyWarning: \n",
      "A value is trying to be set on a copy of a slice from a DataFrame.\n",
      "Try using .loc[row_indexer,col_indexer] = value instead\n",
      "\n",
      "See the caveats in the documentation: https://pandas.pydata.org/pandas-docs/stable/user_guide/indexing.html#returning-a-view-versus-a-copy\n",
      "  filter_rocket['number_of_impression_in_the_treated_group']=((filter_rocket['tot_impr'])*(rocket_fuel['test']))\n",
      "<ipython-input-26-7b4c28d8c395>:8: SettingWithCopyWarning: \n",
      "A value is trying to be set on a copy of a slice from a DataFrame.\n",
      "Try using .loc[row_indexer,col_indexer] = value instead\n",
      "\n",
      "See the caveats in the documentation: https://pandas.pydata.org/pandas-docs/stable/user_guide/indexing.html#returning-a-view-versus-a-copy\n",
      "  filter_rocket['number_of_impression_in_the_control_group']=((filter_rocket['tot_impr'])*(rocket_fuel['control_group']))\n"
     ]
    },
    {
     "data": {
      "text/html": [
       "<div>\n",
       "<style scoped>\n",
       "    .dataframe tbody tr th:only-of-type {\n",
       "        vertical-align: middle;\n",
       "    }\n",
       "\n",
       "    .dataframe tbody tr th {\n",
       "        vertical-align: top;\n",
       "    }\n",
       "\n",
       "    .dataframe thead th {\n",
       "        text-align: right;\n",
       "    }\n",
       "</style>\n",
       "<table border=\"1\" class=\"dataframe\">\n",
       "  <thead>\n",
       "    <tr style=\"text-align: right;\">\n",
       "      <th></th>\n",
       "      <th>number_of_impression_in_the_treated_group</th>\n",
       "    </tr>\n",
       "    <tr>\n",
       "      <th>mode_impr_hour</th>\n",
       "      <th></th>\n",
       "    </tr>\n",
       "  </thead>\n",
       "  <tbody>\n",
       "    <tr>\n",
       "      <th>9</th>\n",
       "      <td>700615.0</td>\n",
       "    </tr>\n",
       "    <tr>\n",
       "      <th>10</th>\n",
       "      <td>944888.0</td>\n",
       "    </tr>\n",
       "    <tr>\n",
       "      <th>11</th>\n",
       "      <td>1102657.0</td>\n",
       "    </tr>\n",
       "    <tr>\n",
       "      <th>12</th>\n",
       "      <td>1183507.0</td>\n",
       "    </tr>\n",
       "    <tr>\n",
       "      <th>13</th>\n",
       "      <td>1164947.0</td>\n",
       "    </tr>\n",
       "    <tr>\n",
       "      <th>14</th>\n",
       "      <td>1064130.0</td>\n",
       "    </tr>\n",
       "    <tr>\n",
       "      <th>15</th>\n",
       "      <td>1081442.0</td>\n",
       "    </tr>\n",
       "    <tr>\n",
       "      <th>16</th>\n",
       "      <td>804324.0</td>\n",
       "    </tr>\n",
       "    <tr>\n",
       "      <th>17</th>\n",
       "      <td>817456.0</td>\n",
       "    </tr>\n",
       "    <tr>\n",
       "      <th>18</th>\n",
       "      <td>792464.0</td>\n",
       "    </tr>\n",
       "    <tr>\n",
       "      <th>19</th>\n",
       "      <td>742621.0</td>\n",
       "    </tr>\n",
       "    <tr>\n",
       "      <th>20</th>\n",
       "      <td>734643.0</td>\n",
       "    </tr>\n",
       "    <tr>\n",
       "      <th>21</th>\n",
       "      <td>738810.0</td>\n",
       "    </tr>\n",
       "    <tr>\n",
       "      <th>22</th>\n",
       "      <td>585350.0</td>\n",
       "    </tr>\n",
       "    <tr>\n",
       "      <th>23</th>\n",
       "      <td>395002.0</td>\n",
       "    </tr>\n",
       "  </tbody>\n",
       "</table>\n",
       "</div>"
      ],
      "text/plain": [
       "                number_of_impression_in_the_treated_group\n",
       "mode_impr_hour                                           \n",
       "9                                                700615.0\n",
       "10                                               944888.0\n",
       "11                                              1102657.0\n",
       "12                                              1183507.0\n",
       "13                                              1164947.0\n",
       "14                                              1064130.0\n",
       "15                                              1081442.0\n",
       "16                                               804324.0\n",
       "17                                               817456.0\n",
       "18                                               792464.0\n",
       "19                                               742621.0\n",
       "20                                               734643.0\n",
       "21                                               738810.0\n",
       "22                                               585350.0\n",
       "23                                               395002.0"
      ]
     },
     "metadata": {},
     "output_type": "display_data"
    },
    {
     "data": {
      "text/html": [
       "<div>\n",
       "<style scoped>\n",
       "    .dataframe tbody tr th:only-of-type {\n",
       "        vertical-align: middle;\n",
       "    }\n",
       "\n",
       "    .dataframe tbody tr th {\n",
       "        vertical-align: top;\n",
       "    }\n",
       "\n",
       "    .dataframe thead th {\n",
       "        text-align: right;\n",
       "    }\n",
       "</style>\n",
       "<table border=\"1\" class=\"dataframe\">\n",
       "  <thead>\n",
       "    <tr style=\"text-align: right;\">\n",
       "      <th></th>\n",
       "      <th>number_of_impression_in_the_control_group</th>\n",
       "    </tr>\n",
       "    <tr>\n",
       "      <th>mode_impr_hour</th>\n",
       "      <th></th>\n",
       "    </tr>\n",
       "  </thead>\n",
       "  <tbody>\n",
       "    <tr>\n",
       "      <th>9</th>\n",
       "      <td>27571.0</td>\n",
       "    </tr>\n",
       "    <tr>\n",
       "      <th>10</th>\n",
       "      <td>38389.0</td>\n",
       "    </tr>\n",
       "    <tr>\n",
       "      <th>11</th>\n",
       "      <td>48089.0</td>\n",
       "    </tr>\n",
       "    <tr>\n",
       "      <th>12</th>\n",
       "      <td>51749.0</td>\n",
       "    </tr>\n",
       "    <tr>\n",
       "      <th>13</th>\n",
       "      <td>54728.0</td>\n",
       "    </tr>\n",
       "    <tr>\n",
       "      <th>14</th>\n",
       "      <td>44456.0</td>\n",
       "    </tr>\n",
       "    <tr>\n",
       "      <th>15</th>\n",
       "      <td>51690.0</td>\n",
       "    </tr>\n",
       "    <tr>\n",
       "      <th>16</th>\n",
       "      <td>35993.0</td>\n",
       "    </tr>\n",
       "    <tr>\n",
       "      <th>17</th>\n",
       "      <td>31031.0</td>\n",
       "    </tr>\n",
       "    <tr>\n",
       "      <th>18</th>\n",
       "      <td>32503.0</td>\n",
       "    </tr>\n",
       "    <tr>\n",
       "      <th>19</th>\n",
       "      <td>32034.0</td>\n",
       "    </tr>\n",
       "    <tr>\n",
       "      <th>20</th>\n",
       "      <td>28373.0</td>\n",
       "    </tr>\n",
       "    <tr>\n",
       "      <th>21</th>\n",
       "      <td>27249.0</td>\n",
       "    </tr>\n",
       "    <tr>\n",
       "      <th>22</th>\n",
       "      <td>20424.0</td>\n",
       "    </tr>\n",
       "    <tr>\n",
       "      <th>23</th>\n",
       "      <td>12305.0</td>\n",
       "    </tr>\n",
       "  </tbody>\n",
       "</table>\n",
       "</div>"
      ],
      "text/plain": [
       "                number_of_impression_in_the_control_group\n",
       "mode_impr_hour                                           \n",
       "9                                                 27571.0\n",
       "10                                                38389.0\n",
       "11                                                48089.0\n",
       "12                                                51749.0\n",
       "13                                                54728.0\n",
       "14                                                44456.0\n",
       "15                                                51690.0\n",
       "16                                                35993.0\n",
       "17                                                31031.0\n",
       "18                                                32503.0\n",
       "19                                                32034.0\n",
       "20                                                28373.0\n",
       "21                                                27249.0\n",
       "22                                                20424.0\n",
       "23                                                12305.0"
      ]
     },
     "metadata": {},
     "output_type": "display_data"
    }
   ],
   "source": [
    "#without 12-8 hours\n",
    "filter= rocket_fuel.copy()\n",
    "filter_rocket=filter.query('mode_impr_hour !=[0,1,2,3,4,5,6,7,8]')\n",
    "display(filter_rocket.head(5))\n",
    "\n",
    "\n",
    "filter_rocket['number_of_impression_in_the_treated_group']=((filter_rocket['tot_impr'])*(rocket_fuel['test']))\n",
    "filter_rocket['number_of_impression_in_the_control_group']=((filter_rocket['tot_impr'])*(rocket_fuel['control_group']))\n",
    "filter_rocket_treat_group_hour=filter_rocket.groupby(\"mode_impr_hour\").agg({'number_of_impression_in_the_treated_group': 'sum'})\n",
    "filter_rocket_control_group_hour=filter_rocket.groupby(\"mode_impr_hour\").agg({'number_of_impression_in_the_control_group': 'sum'})\n",
    "display(filter_rocket_treat_group_hour)\n",
    "display(filter_rocket_control_group_hour)"
   ]
  },
  {
   "cell_type": "code",
   "execution_count": 27,
   "metadata": {},
   "outputs": [
    {
     "data": {
      "image/png": "[encoded data removed]",
      "text/plain": [
       "<Figure size 432x288 with 1 Axes>"
      ]
     },
     "metadata": {
      "needs_background": "light"
     },
     "output_type": "display_data"
    },
    {
     "data": {
      "image/png": "[encoded data removed]",
      "text/plain": [
       "<Figure size 432x288 with 1 Axes>"
      ]
     },
     "metadata": {
      "needs_background": "light"
     },
     "output_type": "display_data"
    }
   ],
   "source": [
    "plt.figure(figsize=[6,4])\n",
    "plt.grid(True)\n",
    "plt.plot(filter_rocket_treat_group_hour['number_of_impression_in_the_treated_group'],label='Active users')\n",
    "plt.title('Consumer response for treated group in day-hours')\n",
    "plt.xlabel(\"Day-hours excluding 12am to 8 am\")\n",
    "plt.ylabel(\"Consumers\")\n",
    "plt.show()\n",
    "#----------------------------------------------------\n",
    "\n",
    "plt.figure(figsize=[6,4])\n",
    "plt.grid(True)\n",
    "plt.plot(filter_rocket_control_group_hour['number_of_impression_in_the_control_group'],label='Active users')\n",
    "plt.title('Consumer response for control group in day-hours')\n",
    "plt.xlabel(\"Day-hours excluding 12am to 8 am\")\n",
    "plt.ylabel(\"Consumers\")\n",
    "plt.show()"
   ]
  },
  {
   "cell_type": "code",
   "execution_count": 28,
   "metadata": {},
   "outputs": [
    {
     "name": "stderr",
     "output_type": "stream",
     "text": [
      "<ipython-input-28-9ffce9e3144d>:1: SettingWithCopyWarning: \n",
      "A value is trying to be set on a copy of a slice from a DataFrame.\n",
      "Try using .loc[row_indexer,col_indexer] = value instead\n",
      "\n",
      "See the caveats in the documentation: https://pandas.pydata.org/pandas-docs/stable/user_guide/indexing.html#returning-a-view-versus-a-copy\n",
      "  filter_rocket['converted_number_of_impression_in_the_treated_group']=((filter_rocket['converted'])*(rocket_fuel['test']))\n",
      "<ipython-input-28-9ffce9e3144d>:2: SettingWithCopyWarning: \n",
      "A value is trying to be set on a copy of a slice from a DataFrame.\n",
      "Try using .loc[row_indexer,col_indexer] = value instead\n",
      "\n",
      "See the caveats in the documentation: https://pandas.pydata.org/pandas-docs/stable/user_guide/indexing.html#returning-a-view-versus-a-copy\n",
      "  filter_rocket['converted_number_of_impression_in_the_control_group']=((filter_rocket['converted'])*(rocket_fuel['control_group']))\n"
     ]
    },
    {
     "data": {
      "text/html": [
       "<div>\n",
       "<style scoped>\n",
       "    .dataframe tbody tr th:only-of-type {\n",
       "        vertical-align: middle;\n",
       "    }\n",
       "\n",
       "    .dataframe tbody tr th {\n",
       "        vertical-align: top;\n",
       "    }\n",
       "\n",
       "    .dataframe thead th {\n",
       "        text-align: right;\n",
       "    }\n",
       "</style>\n",
       "<table border=\"1\" class=\"dataframe\">\n",
       "  <thead>\n",
       "    <tr style=\"text-align: right;\">\n",
       "      <th></th>\n",
       "      <th>converted_number_of_impression_in_the_treated_group</th>\n",
       "    </tr>\n",
       "    <tr>\n",
       "      <th>mode_impr_hour</th>\n",
       "      <th></th>\n",
       "    </tr>\n",
       "  </thead>\n",
       "  <tbody>\n",
       "    <tr>\n",
       "      <th>9</th>\n",
       "      <td>582.0</td>\n",
       "    </tr>\n",
       "    <tr>\n",
       "      <th>10</th>\n",
       "      <td>818.0</td>\n",
       "    </tr>\n",
       "    <tr>\n",
       "      <th>11</th>\n",
       "      <td>992.0</td>\n",
       "    </tr>\n",
       "    <tr>\n",
       "      <th>12</th>\n",
       "      <td>1092.0</td>\n",
       "    </tr>\n",
       "    <tr>\n",
       "      <th>13</th>\n",
       "      <td>1140.0</td>\n",
       "    </tr>\n",
       "    <tr>\n",
       "      <th>14</th>\n",
       "      <td>1251.0</td>\n",
       "    </tr>\n",
       "    <tr>\n",
       "      <th>15</th>\n",
       "      <td>1279.0</td>\n",
       "    </tr>\n",
       "    <tr>\n",
       "      <th>16</th>\n",
       "      <td>1111.0</td>\n",
       "    </tr>\n",
       "    <tr>\n",
       "      <th>17</th>\n",
       "      <td>959.0</td>\n",
       "    </tr>\n",
       "    <tr>\n",
       "      <th>18</th>\n",
       "      <td>853.0</td>\n",
       "    </tr>\n",
       "    <tr>\n",
       "      <th>19</th>\n",
       "      <td>782.0</td>\n",
       "    </tr>\n",
       "    <tr>\n",
       "      <th>20</th>\n",
       "      <td>843.0</td>\n",
       "    </tr>\n",
       "    <tr>\n",
       "      <th>21</th>\n",
       "      <td>843.0</td>\n",
       "    </tr>\n",
       "    <tr>\n",
       "      <th>22</th>\n",
       "      <td>675.0</td>\n",
       "    </tr>\n",
       "    <tr>\n",
       "      <th>23</th>\n",
       "      <td>449.0</td>\n",
       "    </tr>\n",
       "  </tbody>\n",
       "</table>\n",
       "</div>"
      ],
      "text/plain": [
       "                converted_number_of_impression_in_the_treated_group\n",
       "mode_impr_hour                                                     \n",
       "9                                                           582.0  \n",
       "10                                                          818.0  \n",
       "11                                                          992.0  \n",
       "12                                                         1092.0  \n",
       "13                                                         1140.0  \n",
       "14                                                         1251.0  \n",
       "15                                                         1279.0  \n",
       "16                                                         1111.0  \n",
       "17                                                          959.0  \n",
       "18                                                          853.0  \n",
       "19                                                          782.0  \n",
       "20                                                          843.0  \n",
       "21                                                          843.0  \n",
       "22                                                          675.0  \n",
       "23                                                          449.0  "
      ]
     },
     "metadata": {},
     "output_type": "display_data"
    },
    {
     "data": {
      "text/html": [
       "<div>\n",
       "<style scoped>\n",
       "    .dataframe tbody tr th:only-of-type {\n",
       "        vertical-align: middle;\n",
       "    }\n",
       "\n",
       "    .dataframe tbody tr th {\n",
       "        vertical-align: top;\n",
       "    }\n",
       "\n",
       "    .dataframe thead th {\n",
       "        text-align: right;\n",
       "    }\n",
       "</style>\n",
       "<table border=\"1\" class=\"dataframe\">\n",
       "  <thead>\n",
       "    <tr style=\"text-align: right;\">\n",
       "      <th></th>\n",
       "      <th>converted_number_of_impression_in_the_control_group</th>\n",
       "    </tr>\n",
       "    <tr>\n",
       "      <th>mode_impr_hour</th>\n",
       "      <th></th>\n",
       "    </tr>\n",
       "  </thead>\n",
       "  <tbody>\n",
       "    <tr>\n",
       "      <th>9</th>\n",
       "      <td>13.0</td>\n",
       "    </tr>\n",
       "    <tr>\n",
       "      <th>10</th>\n",
       "      <td>20.0</td>\n",
       "    </tr>\n",
       "    <tr>\n",
       "      <th>11</th>\n",
       "      <td>30.0</td>\n",
       "    </tr>\n",
       "    <tr>\n",
       "      <th>12</th>\n",
       "      <td>35.0</td>\n",
       "    </tr>\n",
       "    <tr>\n",
       "      <th>13</th>\n",
       "      <td>36.0</td>\n",
       "    </tr>\n",
       "    <tr>\n",
       "      <th>14</th>\n",
       "      <td>30.0</td>\n",
       "    </tr>\n",
       "    <tr>\n",
       "      <th>15</th>\n",
       "      <td>46.0</td>\n",
       "    </tr>\n",
       "    <tr>\n",
       "      <th>16</th>\n",
       "      <td>45.0</td>\n",
       "    </tr>\n",
       "    <tr>\n",
       "      <th>17</th>\n",
       "      <td>28.0</td>\n",
       "    </tr>\n",
       "    <tr>\n",
       "      <th>18</th>\n",
       "      <td>32.0</td>\n",
       "    </tr>\n",
       "    <tr>\n",
       "      <th>19</th>\n",
       "      <td>29.0</td>\n",
       "    </tr>\n",
       "    <tr>\n",
       "      <th>20</th>\n",
       "      <td>19.0</td>\n",
       "    </tr>\n",
       "    <tr>\n",
       "      <th>21</th>\n",
       "      <td>24.0</td>\n",
       "    </tr>\n",
       "    <tr>\n",
       "      <th>22</th>\n",
       "      <td>15.0</td>\n",
       "    </tr>\n",
       "    <tr>\n",
       "      <th>23</th>\n",
       "      <td>8.0</td>\n",
       "    </tr>\n",
       "  </tbody>\n",
       "</table>\n",
       "</div>"
      ],
      "text/plain": [
       "                converted_number_of_impression_in_the_control_group\n",
       "mode_impr_hour                                                     \n",
       "9                                                            13.0  \n",
       "10                                                           20.0  \n",
       "11                                                           30.0  \n",
       "12                                                           35.0  \n",
       "13                                                           36.0  \n",
       "14                                                           30.0  \n",
       "15                                                           46.0  \n",
       "16                                                           45.0  \n",
       "17                                                           28.0  \n",
       "18                                                           32.0  \n",
       "19                                                           29.0  \n",
       "20                                                           19.0  \n",
       "21                                                           24.0  \n",
       "22                                                           15.0  \n",
       "23                                                            8.0  "
      ]
     },
     "metadata": {},
     "output_type": "display_data"
    }
   ],
   "source": [
    "filter_rocket['converted_number_of_impression_in_the_treated_group']=((filter_rocket['converted'])*(rocket_fuel['test']))\n",
    "filter_rocket['converted_number_of_impression_in_the_control_group']=((filter_rocket['converted'])*(rocket_fuel['control_group']))\n",
    "filter_rocket_treat_converted_group_hour=filter_rocket.groupby(\"mode_impr_hour\").agg({'converted_number_of_impression_in_the_treated_group': 'sum'})\n",
    "filter_rocket_control_converted_group_hour=filter_rocket.groupby(\"mode_impr_hour\").agg({'converted_number_of_impression_in_the_control_group': 'sum'})\n",
    "display(filter_rocket_treat_converted_group_hour)\n",
    "display(filter_rocket_control_converted_group_hour)"
   ]
  },
  {
   "cell_type": "code",
   "execution_count": 29,
   "metadata": {},
   "outputs": [
    {
     "data": {
      "image/png": "[encoded data removed]",
      "text/plain": [
       "<Figure size 432x288 with 1 Axes>"
      ]
     },
     "metadata": {
      "needs_background": "light"
     },
     "output_type": "display_data"
    },
    {
     "data": {
      "image/png": "[encoded data removed]",
      "text/plain": [
       "<Figure size 432x288 with 1 Axes>"
      ]
     },
     "metadata": {
      "needs_background": "light"
     },
     "output_type": "display_data"
    }
   ],
   "source": [
    "plt.figure(figsize=[6,4])\n",
    "plt.grid(True)\n",
    "plt.plot(filter_rocket_treat_converted_group_hour['converted_number_of_impression_in_the_treated_group'],label='Active users')\n",
    "plt.title(' Converted consumer response for treated in day-hours')\n",
    "plt.xlabel(\"Day-hours excluding 12am to 8 am\")\n",
    "plt.ylabel(\"Consumers\")\n",
    "plt.show()\n",
    "#----------------------------------------------------\n",
    "\n",
    "plt.figure(figsize=[6,4])\n",
    "plt.grid(True)\n",
    "plt.plot(filter_rocket_control_converted_group_hour['converted_number_of_impression_in_the_control_group'],label='Active users')\n",
    "plt.title('Converted Consumer response for control group in day-hours')\n",
    "plt.xlabel(\"Day-hours excluding 12am to 8 am\")\n",
    "plt.ylabel(\"Consumers\")\n",
    "plt.show()"
   ]
  },
  {
   "cell_type": "code",
   "execution_count": 30,
   "metadata": {},
   "outputs": [
    {
     "data": {
      "image/png": "[encoded data removed]",
      "text/plain": [
       "<Figure size 432x288 with 1 Axes>"
      ]
     },
     "metadata": {
      "needs_background": "light"
     },
     "output_type": "display_data"
    },
    {
     "data": {
      "image/png": "[encoded data removed]",
      "text/plain": [
       "<Figure size 432x288 with 1 Axes>"
      ]
     },
     "metadata": {
      "needs_background": "light"
     },
     "output_type": "display_data"
    }
   ],
   "source": [
    "#convertion rate for treated group\n",
    "\n",
    "treat_conversion_hour= filter_rocket_treat_converted_group_hour['converted_number_of_impression_in_the_treated_group'] / filter_rocket_treat_group_hour['number_of_impression_in_the_treated_group']\n",
    "plt.plot(treat_conversion_hour,label='Active users')\n",
    "plt.title('conversion rate for treated group in day-hours')\n",
    "plt.xlabel(\"Day-hours excluding 12am to 8 am\")\n",
    "plt.ylabel(\"Conversion rate\")\n",
    "plt.show()\n",
    "\n",
    "#convertion rate for control group\n",
    "\n",
    "control_conversion_hour= filter_rocket_control_converted_group_hour['converted_number_of_impression_in_the_control_group'] / filter_rocket_control_group_hour['number_of_impression_in_the_control_group']\n",
    "plt.plot(control_conversion_hour,label='Active users')\n",
    "plt.title('conversion rate for control group in day-hours')\n",
    "plt.xlabel(\"Day-hours excluding 12am to 8 am\")\n",
    "plt.ylabel(\"Conversion rate\")\n",
    "plt.show()"
   ]
  },
  {
   "cell_type": "markdown",
   "metadata": {},
   "source": [
    "#### Was the ad campaign effective? Did additional consumers convert as a result of the ad campaign?"
   ]
  },
  {
   "cell_type": "code",
   "execution_count": 31,
   "metadata": {},
   "outputs": [
    {
     "data": {
      "text/html": [
       "<div>\n",
       "<style scoped>\n",
       "    .dataframe tbody tr th:only-of-type {\n",
       "        vertical-align: middle;\n",
       "    }\n",
       "\n",
       "    .dataframe tbody tr th {\n",
       "        vertical-align: top;\n",
       "    }\n",
       "\n",
       "    .dataframe thead th {\n",
       "        text-align: right;\n",
       "    }\n",
       "</style>\n",
       "<table border=\"1\" class=\"dataframe\">\n",
       "  <thead>\n",
       "    <tr style=\"text-align: right;\">\n",
       "      <th></th>\n",
       "      <th>user group</th>\n",
       "      <th>total_user_treated_group</th>\n",
       "      <th>total_user_control_group</th>\n",
       "      <th>converted_user_treated_group</th>\n",
       "      <th>converted_user_control_group</th>\n",
       "      <th>conversion_rate_treated_group</th>\n",
       "      <th>conversion_rate_control_group</th>\n",
       "      <th>diff_conversion_rate</th>\n",
       "      <th>return_of_the_campaign</th>\n",
       "      <th>cost_of_the_ad_campaign</th>\n",
       "      <th>ROI_of_the_campaign</th>\n",
       "      <th>return_of_the_treated_group</th>\n",
       "      <th>cost_of_treated_group</th>\n",
       "      <th>ROI_of_the_treated_group</th>\n",
       "      <th>cost_of_the_control_group</th>\n",
       "      <th>return_of_the_control_group</th>\n",
       "      <th>ROI_of_the_control_group</th>\n",
       "    </tr>\n",
       "  </thead>\n",
       "  <tbody>\n",
       "    <tr>\n",
       "      <th>0</th>\n",
       "      <td>user group</td>\n",
       "      <td>564577.0</td>\n",
       "      <td>23524.0</td>\n",
       "      <td>14423.0</td>\n",
       "      <td>420.0</td>\n",
       "      <td>0.0255</td>\n",
       "      <td>0.0179</td>\n",
       "      <td>0.0077</td>\n",
       "      <td>173719.2858</td>\n",
       "      <td>1621.9091</td>\n",
       "      <td>106.1079</td>\n",
       "      <td>173719.2858</td>\n",
       "      <td>126132.309</td>\n",
       "      <td>110.5595</td>\n",
       "      <td>64.7201</td>\n",
       "      <td>7238.2908</td>\n",
       "      <td>110.8399</td>\n",
       "    </tr>\n",
       "  </tbody>\n",
       "</table>\n",
       "</div>"
      ],
      "text/plain": [
       "   user group  total_user_treated_group  total_user_control_group  \\\n",
       "0  user group                  564577.0                   23524.0   \n",
       "\n",
       "   converted_user_treated_group  converted_user_control_group  \\\n",
       "0                       14423.0                         420.0   \n",
       "\n",
       "   conversion_rate_treated_group  conversion_rate_control_group  \\\n",
       "0                         0.0255                         0.0179   \n",
       "\n",
       "   diff_conversion_rate  return_of_the_campaign  cost_of_the_ad_campaign  \\\n",
       "0                0.0077             173719.2858                1621.9091   \n",
       "\n",
       "   ROI_of_the_campaign  return_of_the_treated_group  cost_of_treated_group  \\\n",
       "0             106.1079                  173719.2858             126132.309   \n",
       "\n",
       "   ROI_of_the_treated_group  cost_of_the_control_group  \\\n",
       "0                  110.5595                    64.7201   \n",
       "\n",
       "   return_of_the_control_group  ROI_of_the_control_group  \n",
       "0                    7238.2908                  110.8399  "
      ]
     },
     "metadata": {},
     "output_type": "display_data"
    }
   ],
   "source": [
    "result=pd.read_csv('result.csv',index_col=False)\n",
    "display(result)"
   ]
  },
  {
   "cell_type": "code",
   "execution_count": 32,
   "metadata": {},
   "outputs": [
    {
     "data": {
      "text/html": [
       "<div>\n",
       "<style scoped>\n",
       "    .dataframe tbody tr th:only-of-type {\n",
       "        vertical-align: middle;\n",
       "    }\n",
       "\n",
       "    .dataframe tbody tr th {\n",
       "        vertical-align: top;\n",
       "    }\n",
       "\n",
       "    .dataframe thead th {\n",
       "        text-align: right;\n",
       "    }\n",
       "</style>\n",
       "<table border=\"1\" class=\"dataframe\">\n",
       "  <thead>\n",
       "    <tr style=\"text-align: right;\">\n",
       "      <th></th>\n",
       "      <th>total_user_treated_group</th>\n",
       "      <th>total_user_control_group</th>\n",
       "    </tr>\n",
       "  </thead>\n",
       "  <tbody>\n",
       "    <tr>\n",
       "      <th>0</th>\n",
       "      <td>564577.0</td>\n",
       "      <td>23524.0</td>\n",
       "    </tr>\n",
       "  </tbody>\n",
       "</table>\n",
       "</div>"
      ],
      "text/plain": [
       "   total_user_treated_group  total_user_control_group\n",
       "0                  564577.0                   23524.0"
      ]
     },
     "metadata": {},
     "output_type": "display_data"
    },
    {
     "data": {
      "text/html": [
       "<div>\n",
       "<style scoped>\n",
       "    .dataframe tbody tr th:only-of-type {\n",
       "        vertical-align: middle;\n",
       "    }\n",
       "\n",
       "    .dataframe tbody tr th {\n",
       "        vertical-align: top;\n",
       "    }\n",
       "\n",
       "    .dataframe thead th {\n",
       "        text-align: right;\n",
       "    }\n",
       "</style>\n",
       "<table border=\"1\" class=\"dataframe\">\n",
       "  <thead>\n",
       "    <tr style=\"text-align: right;\">\n",
       "      <th></th>\n",
       "      <th>converted_user_treated_group</th>\n",
       "      <th>converted_user_control_group</th>\n",
       "    </tr>\n",
       "  </thead>\n",
       "  <tbody>\n",
       "    <tr>\n",
       "      <th>0</th>\n",
       "      <td>14423.0</td>\n",
       "      <td>420.0</td>\n",
       "    </tr>\n",
       "  </tbody>\n",
       "</table>\n",
       "</div>"
      ],
      "text/plain": [
       "   converted_user_treated_group  converted_user_control_group\n",
       "0                       14423.0                         420.0"
      ]
     },
     "metadata": {},
     "output_type": "display_data"
    }
   ],
   "source": [
    "user_1=result[['total_user_treated_group','total_user_control_group']]\n",
    "display(user_1)\n",
    "user_2=result[['converted_user_treated_group','converted_user_control_group']]\n",
    "display(user_2)"
   ]
  },
  {
   "cell_type": "code",
   "execution_count": 33,
   "metadata": {},
   "outputs": [
    {
     "data": {
      "text/plain": [
       "<matplotlib.legend.Legend at 0x244e788a9a0>"
      ]
     },
     "execution_count": 33,
     "metadata": {},
     "output_type": "execute_result"
    },
    {
     "data": {
      "image/png": "[encoded data removed]",
      "text/plain": [
       "<Figure size 576x432 with 1 Axes>"
      ]
     },
     "metadata": {
      "needs_background": "light"
     },
     "output_type": "display_data"
    },
    {
     "data": {
      "image/png": "[encoded data removed]",
      "text/plain": [
       "<Figure size 576x432 with 1 Axes>"
      ]
     },
     "metadata": {
      "needs_background": "light"
     },
     "output_type": "display_data"
    }
   ],
   "source": [
    "user_1.plot(y=['total_user_treated_group','total_user_control_group'],kind='bar', figsize=(8,6),grid=True)\n",
    "plt.xlabel(\"User group\")\n",
    "plt.ylabel(\"Count\")\n",
    "plt.title('Total user treated Vs control group')\n",
    "plt.legend()\n",
    "user_2.plot(y=['converted_user_treated_group','converted_user_control_group'], kind='bar', figsize=(8,6),grid=True)\n",
    "plt.xlabel(\"User group\")\n",
    "plt.ylabel(\"Count\")\n",
    "plt.title('Total converted user treated Vs control group')\n",
    "plt.legend()"
   ]
  },
  {
   "cell_type": "code",
   "execution_count": 34,
   "metadata": {},
   "outputs": [
    {
     "data": {
      "image/png": "[encoded data removed]",
      "text/plain": [
       "<Figure size 576x432 with 1 Axes>"
      ]
     },
     "metadata": {
      "needs_background": "light"
     },
     "output_type": "display_data"
    }
   ],
   "source": [
    "rate=result[['conversion_rate_treated_group','conversion_rate_control_group']]*100\n",
    "rate.plot(y=['conversion_rate_treated_group','conversion_rate_control_group'],kind='bar', figsize=(8,6),grid=True)\n",
    "plt.xlabel(\"User group\")\n",
    "plt.ylabel(\"Conversion rate in percentage\")\n",
    "plt.title('Conversion rate treated Vs control group')\n",
    "plt.legend()\n",
    "plt.show()"
   ]
  },
  {
   "cell_type": "code",
   "execution_count": 35,
   "metadata": {},
   "outputs": [
    {
     "data": {
      "image/png": "[encoded data removed]",
      "text/plain": [
       "<Figure size 576x432 with 1 Axes>"
      ]
     },
     "metadata": {
      "needs_background": "light"
     },
     "output_type": "display_data"
    }
   ],
   "source": [
    "ROI=result[['ROI_of_the_treated_group','ROI_of_the_control_group']]\n",
    "ROI.plot(y=['ROI_of_the_treated_group','ROI_of_the_control_group'],kind='bar', figsize=(8,6),grid=True)\n",
    "plt.xlabel(\"User group\")\n",
    "plt.ylabel(\"ROI(USD)\")\n",
    "plt.title('ROI treated Vs control group')\n",
    "plt.legend()\n",
    "plt.show()"
   ]
  }
 ],
 "metadata": {
  "kernelspec": {
   "display_name": "Python 3",
   "language": "python",
   "name": "python3"
  },
  "language_info": {
   "codemirror_mode": {
    "name": "ipython",
    "version": 3
   },
   "file_extension": ".py",
   "mimetype": "text/x-python",
   "name": "python",
   "nbconvert_exporter": "python",
   "pygments_lexer": "ipython3",
   "version": "3.8.5"
  }
 },
 "nbformat": 4,
 "nbformat_minor": 4
}
